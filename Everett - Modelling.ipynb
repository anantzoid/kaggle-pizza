{
 "metadata": {
  "name": ""
 },
 "nbformat": 3,
 "nbformat_minor": 0,
 "worksheets": [
  {
   "cells": [
    {
     "cell_type": "code",
     "collapsed": false,
     "input": [
      "import cvxopt\n",
      "import math\n",
      "import matplotlib.pyplot as plt\n",
      "import numpy as np\n",
      "import numpy.linalg as npalg\n",
      "import pandas as pd\n",
      "import prettyplotlib as ppl\n",
      "import random\n",
      "from scipy.stats import gaussian_kde\n",
      "import seaborn as sns\n",
      "import statsmodels.formula.api as sm\n",
      "from sklearn import svm\n",
      "%matplotlib inline"
     ],
     "language": "python",
     "metadata": {},
     "outputs": [],
     "prompt_number": 1
    },
    {
     "cell_type": "code",
     "collapsed": false,
     "input": [
      "df = pd.io.json.read_json('data/train.json')\n",
      "pizza = df[df['requester_received_pizza']]\n",
      "nopizza = df[df['requester_received_pizza'] == False]"
     ],
     "language": "python",
     "metadata": {},
     "outputs": [],
     "prompt_number": 13
    },
    {
     "cell_type": "code",
     "collapsed": false,
     "input": [
      "TEST_FRACTION = 0.2\n",
      "pizza_indices = range(len(pizza))\n",
      "nopizza_indices = range(len(nopizza))\n",
      "random.shuffle(pizza_indices)\n",
      "random.shuffle(nopizza_indices)\n",
      "pizza_cutoff = int(len(pizza) * TEST_FRACTION)\n",
      "nopizza_cutoff = int(len(nopizza) * TEST_FRACTION)\n",
      "df_train = pd.concat([pizza.iloc[pizza_indices[pizza_cutoff:]], nopizza.iloc[nopizza_indices[nopizza_cutoff:]]])\n",
      "df_test = pd.concat([pizza.iloc[pizza_indices[:pizza_cutoff]], nopizza.iloc[nopizza_indices[:nopizza_cutoff]]])"
     ],
     "language": "python",
     "metadata": {},
     "outputs": [],
     "prompt_number": 21
    },
    {
     "cell_type": "code",
     "collapsed": false,
     "input": [
      "df_train.shape, df_test.shape"
     ],
     "language": "python",
     "metadata": {},
     "outputs": [
      {
       "metadata": {},
       "output_type": "pyout",
       "prompt_number": 22,
       "text": [
        "((3233, 32), (807, 32))"
       ]
      }
     ],
     "prompt_number": 22
    }
   ],
   "metadata": {}
  }
 ]
}