{
 "metadata": {
  "name": ""
 },
 "nbformat": 3,
 "nbformat_minor": 0,
 "worksheets": [
  {
   "cells": [
    {
     "cell_type": "code",
     "collapsed": false,
     "input": [
      "import cvxopt\n",
      "import math\n",
      "import matplotlib.pyplot as plt\n",
      "import numpy as np\n",
      "import numpy.linalg as npalg\n",
      "import pandas as pd\n",
      "import prettyplotlib as ppl\n",
      "import random\n",
      "from scipy.stats import gaussian_kde\n",
      "import seaborn as sns\n",
      "import statsmodels.formula.api as sm\n",
      "from sklearn import svm\n",
      "from sklearn.ensemble import RandomForestRegressor\n",
      "%matplotlib inline"
     ],
     "language": "python",
     "metadata": {},
     "outputs": [],
     "prompt_number": 179
    },
    {
     "cell_type": "code",
     "collapsed": false,
     "input": [
      "df = pd.io.json.read_json('data/train.json')\n",
      "pizza = df[df['requester_received_pizza']]\n",
      "nopizza = df[df['requester_received_pizza'] == False]"
     ],
     "language": "python",
     "metadata": {},
     "outputs": [],
     "prompt_number": 41
    },
    {
     "cell_type": "code",
     "collapsed": false,
     "input": [
      "TEST_FRACTION = 0.2\n",
      "pizza_indices = range(len(pizza))\n",
      "nopizza_indices = range(len(nopizza))\n",
      "random.shuffle(pizza_indices)\n",
      "random.shuffle(nopizza_indices)\n",
      "pizza_cutoff = int(len(pizza) * TEST_FRACTION)\n",
      "nopizza_cutoff = int(len(nopizza) * TEST_FRACTION)\n",
      "df_train = pd.concat([pizza.iloc[pizza_indices[pizza_cutoff:]], nopizza.iloc[nopizza_indices[nopizza_cutoff:]]])\n",
      "df_test = pd.concat([pizza.iloc[pizza_indices[:pizza_cutoff]], nopizza.iloc[nopizza_indices[:nopizza_cutoff]]])\n",
      "y_test = np.array(df_test['requester_received_pizza'])"
     ],
     "language": "python",
     "metadata": {},
     "outputs": [],
     "prompt_number": 56
    },
    {
     "cell_type": "code",
     "collapsed": false,
     "input": [
      "df_train.shape, df_test.shape"
     ],
     "language": "python",
     "metadata": {},
     "outputs": [
      {
       "metadata": {},
       "output_type": "pyout",
       "prompt_number": 57,
       "text": [
        "((3233, 32), (807, 32))"
       ]
      }
     ],
     "prompt_number": 57
    },
    {
     "cell_type": "code",
     "collapsed": false,
     "input": [
      "def error(predictions, truth):\n",
      "    mse = 0.0\n",
      "    for x, y in zip(predictions, truth):\n",
      "        mse += (x - y) ** 2\n",
      "    return mse / len(truth)"
     ],
     "language": "python",
     "metadata": {},
     "outputs": [],
     "prompt_number": 79
    },
    {
     "cell_type": "code",
     "collapsed": false,
     "input": [
      "class Model(object):\n",
      "    def __init__(self, df_train):\n",
      "        self.X_train = self.extract_features(df_train.copy())\n",
      "        self.y_train = np.array(df_train['requester_received_pizza'])\n",
      "        self.train(self.X_train, self.y_train)\n",
      "    def extract_features(self, df):\n",
      "        raise NotImplementedError\n",
      "    def train(self, X, y):\n",
      "        raise NotImplementedError\n",
      "    def predict(self, df_test):\n",
      "        self.X_test = self.extract_features(df_test.copy())\n",
      "        self.y_test = self.predict_internal(self.X_test)\n",
      "        return self.y_test\n",
      "    def predict_internal(self, X):\n",
      "        raise NotImplementedError"
     ],
     "language": "python",
     "metadata": {},
     "outputs": [],
     "prompt_number": 153
    },
    {
     "cell_type": "code",
     "collapsed": false,
     "input": [
      "class DummyNoPizza(Model):\n",
      "    def extract_features(self, df):\n",
      "        return np.ones((len(df), 1))\n",
      "    def train(self, X, y):\n",
      "        pass\n",
      "    def predict_internal(self, X):\n",
      "        return np.zeros(len(X))\n",
      "\n",
      "class DummyYesPizza(Model):\n",
      "    def extract_features(self, df):\n",
      "        return np.ones((len(df), 1))\n",
      "    def train(self, X, y):\n",
      "        pass\n",
      "    def predict_internal(self, X):\n",
      "        return np.ones(len(X))\n",
      "\n",
      "class DummyTrueOddsPizza(Model):\n",
      "    def extract_features(self, df):\n",
      "        return np.ones((len(df), 1))\n",
      "    def train(self, X, y):\n",
      "        self.odds = y.mean()\n",
      "    def predict_internal(self, X):\n",
      "        return np.repeat(self.odds, len(X))"
     ],
     "language": "python",
     "metadata": {},
     "outputs": [],
     "prompt_number": 154
    },
    {
     "cell_type": "code",
     "collapsed": false,
     "input": [
      "model = DummyNoPizza(df_train)\n",
      "print 'Dummy \"Always predict NO pizza (0.0)\" model error:', error(model.predict(df_test), y_test)\n",
      "model = DummyYesPizza(df_train)\n",
      "print 'Dummy \"Always predict YES pizza (1.0)\" model error:', error(model.predict(df_test), y_test)\n",
      "model = DummyTrueOddsPizza(df_train)\n",
      "print 'Dummy \"Always predict avg pizza odds (%.3f)\" model error:' % df_train['requester_received_pizza'].mean(), error(model.predict(df_test), y_test)"
     ],
     "language": "python",
     "metadata": {},
     "outputs": [
      {
       "output_type": "stream",
       "stream": "stdout",
       "text": [
        "Dummy \"Always predict NO pizza (0.0)\" model error: 0.245353159851\n",
        "Dummy \"Always predict YES pizza (1.0)\" model error: 0.754646840149\n",
        "Dummy \"Always predict avg pizza odds (0.246)\" model error: 0.185155722606\n"
       ]
      }
     ],
     "prompt_number": 191
    },
    {
     "cell_type": "code",
     "collapsed": false,
     "input": [
      "def safelog10(value, negval=-1):\n",
      "    if value <= 0:\n",
      "        return negval\n",
      "    return math.log10(value)\n",
      "\n",
      "class SimpleFeatures(Model):\n",
      "    def extract_features(self, df):\n",
      "        df['log_textlen'] = df['request_text_edit_aware'].apply(lambda x: safelog10(len(x)))\n",
      "        df['log_age'] = df['requester_account_age_in_days_at_request'].apply(safelog10)\n",
      "        df['log_posts'] = df['requester_number_of_comments_at_request'].apply(safelog10)\n",
      "        df['log_posts_raop'] = df['requester_number_of_comments_in_raop_at_request'].apply(safelog10)\n",
      "        return np.array(df[['log_textlen', 'log_age', 'log_posts', 'log_posts_raop']])"
     ],
     "language": "python",
     "metadata": {},
     "outputs": [],
     "prompt_number": 170
    },
    {
     "cell_type": "code",
     "collapsed": false,
     "input": [
      "class LogisticRegression(SimpleFeatures):\n",
      "    def train(self, X, y):\n",
      "        model = svm.SVC(probability=True)\n",
      "        model.fit(X, y)\n",
      "        self.model = model\n",
      "    def predict_internal(self, X):\n",
      "        return self.model.predict_proba(X)[:,1]"
     ],
     "language": "python",
     "metadata": {},
     "outputs": [],
     "prompt_number": 171
    },
    {
     "cell_type": "code",
     "collapsed": false,
     "input": [
      "model = LogisticRegression(df_train)\n",
      "y = model.predict(df_test)\n",
      "error(y, y_test)"
     ],
     "language": "python",
     "metadata": {},
     "outputs": [
      {
       "metadata": {},
       "output_type": "pyout",
       "prompt_number": 172,
       "text": [
        "0.1818949293601444"
       ]
      }
     ],
     "prompt_number": 172
    },
    {
     "cell_type": "code",
     "collapsed": false,
     "input": [
      "class RandomForest(SimpleFeatures):\n",
      "    def train(self, X, y):\n",
      "        model = RandomForestRegressor(n_estimators=1000)\n",
      "        model.fit(X, y)\n",
      "        self.model = model\n",
      "    def predict_internal(self, X):\n",
      "        return self.model.predict(X)"
     ],
     "language": "python",
     "metadata": {},
     "outputs": [],
     "prompt_number": 188
    },
    {
     "cell_type": "code",
     "collapsed": false,
     "input": [
      "model = RandomForest(df_train)\n",
      "y = model.predict(df_test)\n",
      "error(y, y_test)"
     ],
     "language": "python",
     "metadata": {},
     "outputs": [
      {
       "metadata": {},
       "output_type": "pyout",
       "prompt_number": 189,
       "text": [
        "0.20383551010236367"
       ]
      }
     ],
     "prompt_number": 189
    },
    {
     "cell_type": "code",
     "collapsed": false,
     "input": [],
     "language": "python",
     "metadata": {},
     "outputs": []
    }
   ],
   "metadata": {}
  }
 ]
}