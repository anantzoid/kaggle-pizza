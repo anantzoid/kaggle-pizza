{
 "metadata": {
  "name": ""
 },
 "nbformat": 3,
 "nbformat_minor": 0,
 "worksheets": [
  {
   "cells": [
    {
     "cell_type": "code",
     "collapsed": false,
     "input": [
      "import cvxopt\n",
      "import math\n",
      "import matplotlib.pyplot as plt\n",
      "import numpy as np\n",
      "import numpy.linalg as npalg\n",
      "import pandas as pd\n",
      "import prettyplotlib as ppl\n",
      "import random\n",
      "from scipy.stats import gaussian_kde\n",
      "import seaborn as sns\n",
      "import statsmodels.formula.api as sm\n",
      "from sklearn import svm\n",
      "%matplotlib inline"
     ],
     "language": "python",
     "metadata": {},
     "outputs": [],
     "prompt_number": 1
    },
    {
     "cell_type": "code",
     "collapsed": false,
     "input": [
      "df = pd.io.json.read_json('data/train.json')\n",
      "pizza = df[df['requester_received_pizza']]\n",
      "nopizza = df[df['requester_received_pizza'] == False]"
     ],
     "language": "python",
     "metadata": {},
     "outputs": [],
     "prompt_number": 41
    },
    {
     "cell_type": "code",
     "collapsed": false,
     "input": [
      "TEST_FRACTION = 0.2\n",
      "pizza_indices = range(len(pizza))\n",
      "nopizza_indices = range(len(nopizza))\n",
      "random.shuffle(pizza_indices)\n",
      "random.shuffle(nopizza_indices)\n",
      "pizza_cutoff = int(len(pizza) * TEST_FRACTION)\n",
      "nopizza_cutoff = int(len(nopizza) * TEST_FRACTION)\n",
      "df_train = pd.concat([pizza.iloc[pizza_indices[pizza_cutoff:]], nopizza.iloc[nopizza_indices[nopizza_cutoff:]]])\n",
      "df_test = pd.concat([pizza.iloc[pizza_indices[:pizza_cutoff]], nopizza.iloc[nopizza_indices[:nopizza_cutoff]]])\n",
      "y_test = np.array(df_test['requester_received_pizza'])"
     ],
     "language": "python",
     "metadata": {},
     "outputs": [],
     "prompt_number": 56
    },
    {
     "cell_type": "code",
     "collapsed": false,
     "input": [
      "df_train.shape, df_test.shape"
     ],
     "language": "python",
     "metadata": {},
     "outputs": [
      {
       "metadata": {},
       "output_type": "pyout",
       "prompt_number": 57,
       "text": [
        "((3233, 32), (807, 32))"
       ]
      }
     ],
     "prompt_number": 57
    },
    {
     "cell_type": "code",
     "collapsed": false,
     "input": [
      "def error(predictions, truth):\n",
      "    mse = 0.0\n",
      "    for x, y in zip(predictions, truth):\n",
      "        mse += (x - y) ** 2\n",
      "    return mse / len(truth)"
     ],
     "language": "python",
     "metadata": {},
     "outputs": [],
     "prompt_number": 79
    },
    {
     "cell_type": "code",
     "collapsed": false,
     "input": [
      "class Model(object):\n",
      "    def __init__(self, df_train):\n",
      "        self.X, self.y = self.extract_features(df_train)\n",
      "        self.train(self.X, self.y)\n",
      "    def extract_features(self, df):\n",
      "        raise NotImplementedError\n",
      "    def train(self, X, y):\n",
      "        raise NotImplementedError\n",
      "    def predict(self, df_test):\n",
      "        X, y = self.extract_features(df_test)\n",
      "        return self.predict_internal(X)\n",
      "    def predict_internal(self, X):\n",
      "        raise NotImplementedError"
     ],
     "language": "python",
     "metadata": {},
     "outputs": [],
     "prompt_number": 69
    },
    {
     "cell_type": "code",
     "collapsed": false,
     "input": [
      "class DummyNoPizza(Model):\n",
      "    def extract_features(self, df):\n",
      "        return np.ones((len(df), 1)), None\n",
      "    def train(self, X, y):\n",
      "        pass\n",
      "    def predict_internal(self, X):\n",
      "        return np.zeros(len(X))\n",
      "\n",
      "class DummyYesPizza(Model):\n",
      "    def extract_features(self, df):\n",
      "        return np.ones((len(df), 1)), None\n",
      "    def train(self, X, y):\n",
      "        pass\n",
      "    def predict_internal(self, X):\n",
      "        return np.ones(len(X))"
     ],
     "language": "python",
     "metadata": {},
     "outputs": [],
     "prompt_number": 70
    },
    {
     "cell_type": "code",
     "collapsed": false,
     "input": [
      "model = DummyNoPizza(df_train)\n",
      "print 'Dummy \"No pizza\" model error:', error(model.predict(df_test), y_test)\n",
      "model = DummyYesPizza(df_train)\n",
      "print 'Dummy \"Yes pizza\" model error:', error(model.predict(df_test), y_test)"
     ],
     "language": "python",
     "metadata": {},
     "outputs": [
      {
       "output_type": "stream",
       "stream": "stdout",
       "text": [
        "Dummy \"No pizza\" model error: 0.245353159851\n",
        "Dummy \"Yes pizza\" model error: 0.754646840149\n"
       ]
      }
     ],
     "prompt_number": 80
    },
    {
     "cell_type": "code",
     "collapsed": false,
     "input": [],
     "language": "python",
     "metadata": {},
     "outputs": []
    }
   ],
   "metadata": {}
  }
 ]
}