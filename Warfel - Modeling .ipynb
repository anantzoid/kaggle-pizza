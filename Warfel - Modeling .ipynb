{
 "metadata": {
  "name": "",
  "signature": "sha256:b7c5fc499ed102cc1abef84db6073136bbecdf9046f4cec2f9c2caaa747a59a4"
 },
 "nbformat": 3,
 "nbformat_minor": 0,
 "worksheets": [
  {
   "cells": [
    {
     "cell_type": "code",
     "collapsed": false,
     "input": [
      "import math\n",
      "import matplotlib.pyplot as plt\n",
      "import numpy as np\n",
      "import numpy.linalg as npalg\n",
      "import pandas as pd\n",
      "import prettyplotlib as ppl\n",
      "import random\n",
      "from scipy.stats import gaussian_kde\n",
      "import seaborn as sns\n",
      "import statsmodels.formula.api as sm\n",
      "from sklearn import linear_model\n",
      "from sklearn import svm\n",
      "from sklearn.ensemble import RandomForestRegressor\n",
      "from sklearn.ensemble import RandomForestClassifier\n",
      "from sklearn.metrics import roc_curve, auc\n",
      "%matplotlib inline\n"
     ],
     "language": "python",
     "metadata": {},
     "outputs": [],
     "prompt_number": 74
    },
    {
     "cell_type": "code",
     "collapsed": false,
     "input": [
      "###\n",
      "df = pd.io.json.read_json('data/TopicTrain.json')\n",
      "df.head()"
     ],
     "language": "python",
     "metadata": {},
     "outputs": [
      {
       "html": [
        "<div style=\"max-height:1000px;max-width:1500px;overflow:auto;\">\n",
        "<table border=\"1\" class=\"dataframe\">\n",
        "  <thead>\n",
        "    <tr style=\"text-align: right;\">\n",
        "      <th></th>\n",
        "      <th>T:Familytime</th>\n",
        "      <th>T:Friend</th>\n",
        "      <th>T:General</th>\n",
        "      <th>T:Job</th>\n",
        "      <th>T:Pizza</th>\n",
        "      <th>T:Student</th>\n",
        "      <th>T:Time</th>\n",
        "      <th>T:gratitude</th>\n",
        "      <th>T:money1</th>\n",
        "      <th>T:money2</th>\n",
        "      <th>...</th>\n",
        "      <th>requester_subreddits_at_request</th>\n",
        "      <th>requester_upvotes_minus_downvotes_at_request</th>\n",
        "      <th>requester_upvotes_minus_downvotes_at_retrieval</th>\n",
        "      <th>requester_upvotes_plus_downvotes_at_request</th>\n",
        "      <th>requester_upvotes_plus_downvotes_at_retrieval</th>\n",
        "      <th>requester_user_flair</th>\n",
        "      <th>requester_username</th>\n",
        "      <th>semi_colon?</th>\n",
        "      <th>unix_timestamp_of_request</th>\n",
        "      <th>unix_timestamp_of_request_utc</th>\n",
        "    </tr>\n",
        "  </thead>\n",
        "  <tbody>\n",
        "    <tr>\n",
        "      <th>0   </th>\n",
        "      <td> 2</td>\n",
        "      <td> 2</td>\n",
        "      <td> 1</td>\n",
        "      <td> 0</td>\n",
        "      <td> 0</td>\n",
        "      <td> 0</td>\n",
        "      <td> 2</td>\n",
        "      <td> 1</td>\n",
        "      <td> 0</td>\n",
        "      <td> 2</td>\n",
        "      <td>...</td>\n",
        "      <td>                                                []</td>\n",
        "      <td>    0</td>\n",
        "      <td>     1</td>\n",
        "      <td>    0</td>\n",
        "      <td>     1</td>\n",
        "      <td>   None</td>\n",
        "      <td>    nickylvst</td>\n",
        "      <td> 0</td>\n",
        "      <td> 1317852607</td>\n",
        "      <td> 1317849007</td>\n",
        "    </tr>\n",
        "    <tr>\n",
        "      <th>1   </th>\n",
        "      <td> 1</td>\n",
        "      <td> 0</td>\n",
        "      <td> 0</td>\n",
        "      <td> 1</td>\n",
        "      <td> 1</td>\n",
        "      <td> 1</td>\n",
        "      <td> 2</td>\n",
        "      <td> 0</td>\n",
        "      <td> 1</td>\n",
        "      <td> 2</td>\n",
        "      <td>...</td>\n",
        "      <td> [AskReddit, Eve, IAmA, MontereyBay, RandomKind...</td>\n",
        "      <td>   34</td>\n",
        "      <td>  4258</td>\n",
        "      <td>  116</td>\n",
        "      <td> 11168</td>\n",
        "      <td>   None</td>\n",
        "      <td>    fohacidal</td>\n",
        "      <td> 0</td>\n",
        "      <td> 1332652424</td>\n",
        "      <td> 1332648824</td>\n",
        "    </tr>\n",
        "    <tr>\n",
        "      <th>10  </th>\n",
        "      <td> 2</td>\n",
        "      <td> 2</td>\n",
        "      <td> 3</td>\n",
        "      <td> 2</td>\n",
        "      <td> 2</td>\n",
        "      <td> 1</td>\n",
        "      <td> 5</td>\n",
        "      <td> 1</td>\n",
        "      <td> 2</td>\n",
        "      <td> 1</td>\n",
        "      <td>...</td>\n",
        "      <td> [4chan, AskReddit, IAmA, ImGoingToHellForThis,...</td>\n",
        "      <td> 1738</td>\n",
        "      <td> 18617</td>\n",
        "      <td> 2634</td>\n",
        "      <td> 29755</td>\n",
        "      <td> shroom</td>\n",
        "      <td>    seabass86</td>\n",
        "      <td> 0</td>\n",
        "      <td> 1358559286</td>\n",
        "      <td> 1358559286</td>\n",
        "    </tr>\n",
        "    <tr>\n",
        "      <th>100 </th>\n",
        "      <td> 1</td>\n",
        "      <td> 1</td>\n",
        "      <td> 1</td>\n",
        "      <td> 1</td>\n",
        "      <td> 1</td>\n",
        "      <td> 1</td>\n",
        "      <td> 2</td>\n",
        "      <td> 1</td>\n",
        "      <td> 2</td>\n",
        "      <td> 1</td>\n",
        "      <td>...</td>\n",
        "      <td>                                                []</td>\n",
        "      <td>    0</td>\n",
        "      <td>    31</td>\n",
        "      <td>    0</td>\n",
        "      <td>    41</td>\n",
        "      <td>   None</td>\n",
        "      <td>       amym91</td>\n",
        "      <td> 0</td>\n",
        "      <td> 1333479224</td>\n",
        "      <td> 1333475624</td>\n",
        "    </tr>\n",
        "    <tr>\n",
        "      <th>1000</th>\n",
        "      <td> 0</td>\n",
        "      <td> 2</td>\n",
        "      <td> 2</td>\n",
        "      <td> 1</td>\n",
        "      <td> 2</td>\n",
        "      <td> 1</td>\n",
        "      <td> 1</td>\n",
        "      <td> 1</td>\n",
        "      <td> 1</td>\n",
        "      <td> 1</td>\n",
        "      <td>...</td>\n",
        "      <td> [FoodstuffsAllAround, IAmA, RandomActsOfCookie...</td>\n",
        "      <td>   87</td>\n",
        "      <td>    97</td>\n",
        "      <td>  183</td>\n",
        "      <td>   223</td>\n",
        "      <td>   None</td>\n",
        "      <td> CharlieWhoop</td>\n",
        "      <td> 0</td>\n",
        "      <td> 1379171423</td>\n",
        "      <td> 1379167823</td>\n",
        "    </tr>\n",
        "  </tbody>\n",
        "</table>\n",
        "<p>5 rows \u00d7 50 columns</p>\n",
        "</div>"
       ],
       "metadata": {},
       "output_type": "pyout",
       "prompt_number": 87,
       "text": [
        "      T:Familytime  T:Friend  T:General  T:Job  T:Pizza  T:Student  T:Time  \\\n",
        "0                2         2          1      0        0          0       2   \n",
        "1                1         0          0      1        1          1       2   \n",
        "10               2         2          3      2        2          1       5   \n",
        "100              1         1          1      1        1          1       2   \n",
        "1000             0         2          2      1        2          1       1   \n",
        "\n",
        "      T:gratitude  T:money1  T:money2    ...     \\\n",
        "0               1         0         2    ...      \n",
        "1               0         1         2    ...      \n",
        "10              1         2         1    ...      \n",
        "100             1         2         1    ...      \n",
        "1000            1         1         1    ...      \n",
        "\n",
        "                        requester_subreddits_at_request  \\\n",
        "0                                                    []   \n",
        "1     [AskReddit, Eve, IAmA, MontereyBay, RandomKind...   \n",
        "10    [4chan, AskReddit, IAmA, ImGoingToHellForThis,...   \n",
        "100                                                  []   \n",
        "1000  [FoodstuffsAllAround, IAmA, RandomActsOfCookie...   \n",
        "\n",
        "     requester_upvotes_minus_downvotes_at_request  \\\n",
        "0                                               0   \n",
        "1                                              34   \n",
        "10                                           1738   \n",
        "100                                             0   \n",
        "1000                                           87   \n",
        "\n",
        "      requester_upvotes_minus_downvotes_at_retrieval  \\\n",
        "0                                                  1   \n",
        "1                                               4258   \n",
        "10                                             18617   \n",
        "100                                               31   \n",
        "1000                                              97   \n",
        "\n",
        "     requester_upvotes_plus_downvotes_at_request  \\\n",
        "0                                              0   \n",
        "1                                            116   \n",
        "10                                          2634   \n",
        "100                                            0   \n",
        "1000                                         183   \n",
        "\n",
        "      requester_upvotes_plus_downvotes_at_retrieval  requester_user_flair  \\\n",
        "0                                                 1                  None   \n",
        "1                                             11168                  None   \n",
        "10                                            29755                shroom   \n",
        "100                                              41                  None   \n",
        "1000                                            223                  None   \n",
        "\n",
        "      requester_username  semi_colon?  unix_timestamp_of_request  \\\n",
        "0              nickylvst            0                 1317852607   \n",
        "1              fohacidal            0                 1332652424   \n",
        "10             seabass86            0                 1358559286   \n",
        "100               amym91            0                 1333479224   \n",
        "1000        CharlieWhoop            0                 1379171423   \n",
        "\n",
        "      unix_timestamp_of_request_utc  \n",
        "0                        1317849007  \n",
        "1                        1332648824  \n",
        "10                       1358559286  \n",
        "100                      1333475624  \n",
        "1000                     1379167823  \n",
        "\n",
        "[5 rows x 50 columns]"
       ]
      }
     ],
     "prompt_number": 87
    },
    {
     "cell_type": "code",
     "collapsed": false,
     "input": [
      "pizza = df[df['requester_received_pizza']]\n",
      "nopizza = df[df['requester_received_pizza'] == False]"
     ],
     "language": "python",
     "metadata": {},
     "outputs": [],
     "prompt_number": 88
    },
    {
     "cell_type": "code",
     "collapsed": false,
     "input": [
      "len(df.columns.values.tolist())\n"
     ],
     "language": "python",
     "metadata": {},
     "outputs": [
      {
       "metadata": {},
       "output_type": "pyout",
       "prompt_number": 89,
       "text": [
        "50"
       ]
      }
     ],
     "prompt_number": 89
    },
    {
     "cell_type": "code",
     "collapsed": false,
     "input": [
      "def error(predictions, truth):\n",
      "    mse = 0.0\n",
      "    for x, y in zip(predictions, truth):\n",
      "        mse += (x - y) ** 2\n",
      "    return mse / len(truth)"
     ],
     "language": "python",
     "metadata": {},
     "outputs": [],
     "prompt_number": 90
    },
    {
     "cell_type": "code",
     "collapsed": false,
     "input": [
      "TEST_FRACTION = 0.2\n",
      "pizza_indices = range(len(pizza))\n",
      "nopizza_indices = range(len(nopizza))\n",
      "random.shuffle(pizza_indices)\n",
      "random.shuffle(nopizza_indices)\n",
      "pizza_cutoff = int(len(pizza) * TEST_FRACTION)\n",
      "nopizza_cutoff = int(len(nopizza) * TEST_FRACTION)\n",
      "df_train = pd.concat([pizza.iloc[pizza_indices[pizza_cutoff:]], nopizza.iloc[nopizza_indices[nopizza_cutoff:]]])\n",
      "df_test = pd.concat([pizza.iloc[pizza_indices[:pizza_cutoff]], nopizza.iloc[nopizza_indices[:nopizza_cutoff]]])\n",
      "y_test = np.array(df_test['requester_received_pizza'])"
     ],
     "language": "python",
     "metadata": {},
     "outputs": [],
     "prompt_number": 91
    },
    {
     "cell_type": "code",
     "collapsed": false,
     "input": [
      "def build_and_test(model_class):\n",
      "    model = model_class(df_train)\n",
      "    y = model.predict(df_test)\n",
      "    print 'Test error:', error(y, y_test)\n",
      "    fpr, tpr, thresholds = roc_curve(y_test, y)\n",
      "    roc_auc = auc(fpr, tpr)\n",
      "    print \"Area under the ROC curve : %f\" % roc_auc\n",
      "    # Plot ROC curve\n",
      "    plt.plot(fpr, tpr, label='ROC curve (area = %0.2f)' % roc_auc)\n",
      "    plt.plot([0, 1], [0, 1], 'k--')\n",
      "    plt.xlim([0.0, 1.0])\n",
      "    plt.ylim([0.0, 1.0])\n",
      "    plt.xlabel('False Positive Rate')\n",
      "    plt.ylabel('True Positive Rate')\n",
      "    plt.title('ROC Curve')\n",
      "    plt.legend(loc=\"lower right\")\n",
      "    plt.show()\n",
      "    return model"
     ],
     "language": "python",
     "metadata": {},
     "outputs": [],
     "prompt_number": 92
    },
    {
     "cell_type": "code",
     "collapsed": false,
     "input": [
      "class Model(object):\n",
      "    def __init__(self, df_train):\n",
      "        self.X_train = self.extract_features(df_train.copy())\n",
      "        self.y_train = np.array(df_train['requester_received_pizza'])\n",
      "        self.train(self.X_train, self.y_train)\n",
      "    def extract_features(self, df):\n",
      "        raise NotImplementedError\n",
      "    def train(self, X, y):\n",
      "        raise NotImplementedError\n",
      "    def predict(self, df_test):\n",
      "        self.X_test = self.extract_features(df_test.copy())\n",
      "        self.y_test = self.predict_internal(self.X_test)\n",
      "        return self.y_test\n",
      "    def predict_internal(self, X):\n",
      "        raise NotImplementedError"
     ],
     "language": "python",
     "metadata": {},
     "outputs": [],
     "prompt_number": 93
    },
    {
     "cell_type": "code",
     "collapsed": false,
     "input": [
      "df.columns.values.tolist()"
     ],
     "language": "python",
     "metadata": {},
     "outputs": [
      {
       "metadata": {},
       "output_type": "pyout",
       "prompt_number": 94,
       "text": [
        "[u'T:Familytime',\n",
        " u'T:Friend',\n",
        " u'T:General',\n",
        " u'T:Job',\n",
        " u'T:Pizza',\n",
        " u'T:Student',\n",
        " u'T:Time',\n",
        " u'T:gratitude',\n",
        " u'T:money1',\n",
        " u'T:money2',\n",
        " u'clean_request_text',\n",
        " u'clean_title_text',\n",
        " u'giver_user_name_length',\n",
        " u'giver_username_if_known',\n",
        " u'link_presence?',\n",
        " u'log_request_length',\n",
        " u'log_title_length',\n",
        " u'number_of_downvotes_of_request_at_retrieval',\n",
        " u'number_of_upvotes_of_request_at_retrieval',\n",
        " u'post_was_edited',\n",
        " u'request_id',\n",
        " u'request_number_of_comments_at_retrieval',\n",
        " u'request_text',\n",
        " u'request_text_edit_aware',\n",
        " u'request_title',\n",
        " u'request_user_name_length',\n",
        " u'requester_account_age_in_days_at_request',\n",
        " u'requester_account_age_in_days_at_retrieval',\n",
        " u'requester_days_since_first_post_on_raop_at_request',\n",
        " u'requester_days_since_first_post_on_raop_at_retrieval',\n",
        " u'requester_number_of_comments_at_request',\n",
        " u'requester_number_of_comments_at_retrieval',\n",
        " u'requester_number_of_comments_in_raop_at_request',\n",
        " u'requester_number_of_comments_in_raop_at_retrieval',\n",
        " u'requester_number_of_posts_at_request',\n",
        " u'requester_number_of_posts_at_retrieval',\n",
        " u'requester_number_of_posts_on_raop_at_request',\n",
        " u'requester_number_of_posts_on_raop_at_retrieval',\n",
        " u'requester_number_of_subreddits_at_request',\n",
        " u'requester_received_pizza',\n",
        " u'requester_subreddits_at_request',\n",
        " u'requester_upvotes_minus_downvotes_at_request',\n",
        " u'requester_upvotes_minus_downvotes_at_retrieval',\n",
        " u'requester_upvotes_plus_downvotes_at_request',\n",
        " u'requester_upvotes_plus_downvotes_at_retrieval',\n",
        " u'requester_user_flair',\n",
        " u'requester_username',\n",
        " u'semi_colon?',\n",
        " u'unix_timestamp_of_request',\n",
        " u'unix_timestamp_of_request_utc']"
       ]
      }
     ],
     "prompt_number": 94
    },
    {
     "cell_type": "code",
     "collapsed": false,
     "input": [
      "def safelog10(value, negval=-1):\n",
      "    if value <= 0:\n",
      "        return negval\n",
      "    return math.log10(value)\n",
      "\n",
      "class NonTopicFeatures(Model):\n",
      "    def extract_features(self, df):\n",
      "        #df['log_textlen'] = df['request_text_edit_aware'].apply(lambda x: safelog10(len(x)))\n",
      "        df['log_age'] = df['requester_account_age_in_days_at_request'].apply(safelog10)\n",
      "        df['log_posts'] = df['requester_number_of_comments_at_request'].apply(safelog10)\n",
      "        df['log_posts_raop'] = df['requester_number_of_comments_in_raop_at_request'].apply(safelog10)\n",
      "        return np.array(df[\n",
      "                           ['log_age', 'log_posts', 'log_posts_raop', 'giver_user_name_length','link_presence?','log_request_length','log_title_length','semi_colon?']])\n",
      "\n",
      "class TopicFeatures(Model):\n",
      "    def extract_features(self, df):\n",
      "        #df['log_textlen'] = df['request_text_edit_aware'].apply(lambda x: safelog10(len(x)))\n",
      "        df['log_age'] = df['requester_account_age_in_days_at_request'].apply(safelog10)\n",
      "        df['log_posts'] = df['requester_number_of_comments_at_request'].apply(safelog10)\n",
      "        df['log_posts_raop'] = df['requester_number_of_comments_in_raop_at_request'].apply(safelog10)\n",
      "        return np.array(df[\n",
      "                           ['log_age', 'log_posts', 'log_posts_raop', 'giver_user_name_length','link_presence?',\n",
      "                            'log_request_length','log_title_length','semi_colon?','T:money1','T:money2','T:Job','T:Friend',\n",
      "                            'T:Student','T:Familytime','T:Time','T:gratitude','T:Pizza','T:General'\n",
      "                            \n",
      "                            ]])\n",
      "    "
     ],
     "language": "python",
     "metadata": {},
     "outputs": [],
     "prompt_number": 95
    },
    {
     "cell_type": "code",
     "collapsed": false,
     "input": [
      "class LinearRegression(TopicFeatures):\n",
      "    def train(self, X, y):\n",
      "        model = linear_model.LinearRegression()\n",
      "        model.fit(X, y)\n",
      "        self.model = model\n",
      "    def predict_internal(self, X):\n",
      "        return self.model.predict(X)\n",
      "model = build_and_test(LinearRegression)"
     ],
     "language": "python",
     "metadata": {},
     "outputs": [
      {
       "output_type": "stream",
       "stream": "stdout",
       "text": [
        "Test error: 0.147042429789\n",
        "Area under the ROC curve : 0.738319\n"
       ]
      },
      {
       "metadata": {},
       "output_type": "display_data",
       "png": "[encoded data removed]",
       "text": [
        "<matplotlib.figure.Figure at 0xe46f438>"
       ]
      }
     ],
     "prompt_number": 96
    },
    {
     "cell_type": "code",
     "collapsed": false,
     "input": [
      "class LassoRegression(TopicFeatures):\n",
      "    def train(self, X, y):\n",
      "        model = linear_model.Lasso( alpha=.1)\n",
      "        model.fit(X, y)\n",
      "        self.model = model\n",
      "    def predict_internal(self, X):\n",
      "        return self.model.predict(X)\n",
      "model = build_and_test(LassoRegression)"
     ],
     "language": "python",
     "metadata": {},
     "outputs": [
      {
       "output_type": "stream",
       "stream": "stdout",
       "text": [
        "Test error: 0.152529716126\n",
        "Area under the ROC curve : 0.643939\n"
       ]
      },
      {
       "metadata": {},
       "output_type": "display_data",
       "png": "[encoded data removed]",
       "text": [
        "<matplotlib.figure.Figure at 0x18b9b278>"
       ]
      }
     ],
     "prompt_number": 67
    },
    {
     "cell_type": "code",
     "collapsed": false,
     "input": [
      "class LogisticRegression(TopicFeatures):\n",
      "    def train(self, X, y):\n",
      "        model = linear_model.LogisticRegression()\n",
      "        model.fit(X, y)\n",
      "        self.model = model\n",
      "    def predict_internal(self, X):\n",
      "        return self.model.predict_log_proba(X)[:,1]\n",
      "\n",
      "model = build_and_test(LogisticRegression)"
     ],
     "language": "python",
     "metadata": {},
     "outputs": [
      {
       "output_type": "stream",
       "stream": "stdout",
       "text": [
        "Test error: 3.79633717479\n",
        "Area under the ROC curve : 0.786411\n"
       ]
      },
      {
       "metadata": {},
       "output_type": "display_data",
       "png": "[encoded data removed]",
       "text": [
        "<matplotlib.figure.Figure at 0x1170ae48>"
       ]
      }
     ],
     "prompt_number": 86
    },
    {
     "cell_type": "code",
     "collapsed": false,
     "input": [
      "class RandomForestc(TopicFeatures):\n",
      "    def train(self, X, y):\n",
      "        model = RandomForestClassifier(n_estimators=50)\n",
      "        model.fit(X, y)\n",
      "        self.model = model\n",
      "    def predict_internal(self, X):\n",
      "        return self.model.predict(X)\n",
      "\n",
      "model = build_and_test(RandomForestc)\n"
     ],
     "language": "python",
     "metadata": {},
     "outputs": [
      {
       "output_type": "stream",
       "stream": "stdout",
       "text": [
        "Test error: 0.173482032218\n",
        "Area under the ROC curve : 0.654986\n"
       ]
      },
      {
       "metadata": {},
       "output_type": "display_data",
       "png": "[encoded data removed]",
       "text": [
        "<matplotlib.figure.Figure at 0x114e1860>"
       ]
      }
     ],
     "prompt_number": 69
    },
    {
     "cell_type": "code",
     "collapsed": false,
     "input": [
      "class RandomForest(TopicFeatures):\n",
      "    def train(self, X, y):\n",
      "        model = RandomForestRegressor(n_estimators=30)\n",
      "        model.fit(X, y)\n",
      "        self.model = model\n",
      "    def predict_internal(self, X):\n",
      "        return self.model.predict(X)\n",
      "\n",
      "model = build_and_test(RandomForest)"
     ],
     "language": "python",
     "metadata": {},
     "outputs": [
      {
       "output_type": "stream",
       "stream": "stdout",
       "text": [
        "Test error: 0.142010188627\n",
        "Area under the ROC curve : 0.719929\n"
       ]
      },
      {
       "metadata": {},
       "output_type": "display_data",
       "png": "[encoded data removed]",
       "text": [
        "<matplotlib.figure.Figure at 0x125129b0>"
       ]
      }
     ],
     "prompt_number": 70
    },
    {
     "cell_type": "code",
     "collapsed": false,
     "input": [
      "# Generate predictions on the competition's test set\n",
      "df_realtest = pd.io.json.read_json('TopicTest1.json')\n",
      "print len(df_realtest), 'test samples'"
     ],
     "language": "python",
     "metadata": {},
     "outputs": [
      {
       "output_type": "stream",
       "stream": "stdout",
       "text": [
        "1631 test samples\n"
       ]
      }
     ],
     "prompt_number": 97
    },
    {
     "cell_type": "code",
     "collapsed": false,
     "input": [
      "#Training and writing out to csv\n",
      "model = LinearRegression(df)  # Now train on the full labelled dataset\n",
      "filename = 'Topic_predictions1.csv'\n",
      "results = zip(df_realtest['request_id'],\n",
      "              model.predict(df_realtest))\n",
      "f = open(filename, 'w')\n",
      "print >>f, 'request_id, requester_received_pizza'\n",
      "for a, b in results:\n",
      "    print >>f, '%s,%f' % (a, b)\n",
      "f.close()"
     ],
     "language": "python",
     "metadata": {},
     "outputs": [],
     "prompt_number": 98
    },
    {
     "cell_type": "code",
     "collapsed": false,
     "input": [
      "np.exp([2,2])"
     ],
     "language": "python",
     "metadata": {},
     "outputs": [
      {
       "metadata": {},
       "output_type": "pyout",
       "prompt_number": 64,
       "text": [
        "array([ 7.3890561,  7.3890561])"
       ]
      }
     ],
     "prompt_number": 64
    },
    {
     "cell_type": "code",
     "collapsed": false,
     "input": [],
     "language": "python",
     "metadata": {},
     "outputs": []
    }
   ],
   "metadata": {}
  }
 ]
}