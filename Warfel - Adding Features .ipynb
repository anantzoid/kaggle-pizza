{
 "metadata": {
  "name": ""
 },
 "nbformat": 3,
 "nbformat_minor": 0,
 "worksheets": [
  {
   "cells": [
    {
     "cell_type": "code",
     "collapsed": false,
     "input": [
      "import math \n",
      "import matplotlib.pyplot as plt\n",
      "import numpy as np\n",
      "import pandas as pd\n",
      "import random\n",
      "import prettyplotlib as ppl\n",
      "from sklearn import ensemble as ske\n",
      "%matplotlib inline\n",
      "import seaborn as sns\n",
      "\n"
     ],
     "language": "python",
     "metadata": {},
     "outputs": [],
     "prompt_number": 11
    },
    {
     "cell_type": "code",
     "collapsed": false,
     "input": [
      "df = pd.io.json.read_json('data/train.json')"
     ],
     "language": "python",
     "metadata": {},
     "outputs": [],
     "prompt_number": 3
    },
    {
     "cell_type": "code",
     "collapsed": false,
     "input": [
      "#Adding features: Length of posts  titles, log transformed\n",
      "df['request_length'] = df['request_text_edit_aware'].apply(lambda x: len(x))\n",
      "df['log_request_length'] = df['request_length'].apply(lambda x: math.log10(x+1))"
     ],
     "language": "python",
     "metadata": {},
     "outputs": [],
     "prompt_number": 8
    },
    {
     "cell_type": "code",
     "collapsed": false,
     "input": [
      "#Adding features: Length of requests, log transformed\n",
      "df['request_title_length'] = df['request_title'].apply(lambda x:len(x))\n",
      "df['log_title_length'] = df['request_title_length'].apply(lambda x: math.log10(x+1))"
     ],
     "language": "python",
     "metadata": {},
     "outputs": [],
     "prompt_number": 9
    },
    {
     "cell_type": "code",
     "collapsed": false,
     "input": [
      "#####################\n",
      "#LDA on titles#\n",
      "\n",
      "#Importing gensim\n",
      "import gensim #####\n",
      "#import logging\n",
      "#logging.basicConfig(format='%(asctime)s : %(levelname)s : %(message)s', level=logging.INFO)\n",
      "from gensim import corpora, models, similarities\n",
      "import codecs\n",
      "from django.utils.encoding import smart_str, smart_unicode\n"
     ],
     "language": "python",
     "metadata": {},
     "outputs": [],
     "prompt_number": 95
    },
    {
     "cell_type": "code",
     "collapsed": false,
     "input": [
      "#need to transfrom text from data frame into a list of strings. (for both request text and request title? or should they merged?\n",
      "#keeping them seperate for now\n",
      "request = df['request_text_edit_aware']\n",
      "Reqtxt = []\n",
      "for item in request:\n",
      "     Reqtxt.append(smart_str(item))\n",
      "title= df['request_title']\n",
      "Titletxt = []\n",
      "for item in title:\n",
      "    Titletxt.append(smart_str(item))"
     ],
     "language": "python",
     "metadata": {},
     "outputs": [],
     "prompt_number": 39
    },
    {
     "cell_type": "code",
     "collapsed": false,
     "input": [
      "##next version: update stoplist \n",
      "stoplist = set('for a of the and to in is i I am be has [request] [Request] [REQUEST] request (request) pizza pizza! pizza, pizza.'.split())\n",
      "Rtexts = [[word for word in document.lower().split() if word not in stoplist]\n",
      "        for document in Reqtxt]\n",
      "Ttexts = [[word for word in document.lower().split() if word not in stoplist]\n",
      "        for document in Titletxt]"
     ],
     "language": "python",
     "metadata": {},
     "outputs": [],
     "prompt_number": 103
    },
    {
     "cell_type": "code",
     "collapsed": false,
     "input": [
      "Rdict = corpora.Dictionary(Rtexts)\n",
      "Tdict = corpora.Dictionary(Ttexts)           "
     ],
     "language": "python",
     "metadata": {},
     "outputs": [
      {
       "output_type": "stream",
       "stream": "stderr",
       "text": [
        "2014-06-07 14:21:47,779 : INFO : adding document #0 to Dictionary(0 unique tokens: [])\n"
       ]
      },
      {
       "output_type": "stream",
       "stream": "stderr",
       "text": [
        "2014-06-07 14:21:49,999 : INFO : built Dictionary(22126 unique tokens: [u'considered.', u'spiders', u'hanging', u'pulmonary/critical', u'animals.\"']...) from 4040 documents (total 235737 corpus positions)\n"
       ]
      },
      {
       "output_type": "stream",
       "stream": "stderr",
       "text": [
        "2014-06-07 14:21:50,000 : INFO : adding document #0 to Dictionary(0 unique tokens: [])\n"
       ]
      },
      {
       "output_type": "stream",
       "stream": "stderr",
       "text": [
        "2014-06-07 14:21:50,404 : INFO : built Dictionary(7436 unique tokens: [u'portugal.', u'four', u\"friend's\", u'hanging', u'screaming,']...) from 4040 documents (total 36370 corpus positions)\n"
       ]
      }
     ],
     "prompt_number": 104
    },
    {
     "cell_type": "code",
     "collapsed": false,
     "input": [
      "Rdict.save('request_dictionary.dict')\n",
      "Tdict.save('title_dictionary.dict')"
     ],
     "language": "python",
     "metadata": {},
     "outputs": [
      {
       "output_type": "stream",
       "stream": "stderr",
       "text": [
        "2014-06-07 14:21:52,691 : INFO : saving Dictionary object under request_dictionary.dict, separately None\n"
       ]
      },
      {
       "output_type": "stream",
       "stream": "stderr",
       "text": [
        "2014-06-07 14:21:52,737 : INFO : saving Dictionary object under title_dictionary.dict, separately None\n"
       ]
      }
     ],
     "prompt_number": 105
    },
    {
     "cell_type": "code",
     "collapsed": false,
     "input": [
      "##creating a corpus\n",
      "Rcorpus = [Rdict.doc2bow(text) for text in Rtexts]\n",
      "Tcorpus = [Tdict.doc2bow(text) for text in Ttexts]\n",
      "corpora.MmCorpus.serialize('Rcorpus.mm', Rcorpus)\n",
      "corpora.MmCorpus.serialize('Tcorpus.mm', Tcorpus)"
     ],
     "language": "python",
     "metadata": {},
     "outputs": [
      {
       "output_type": "stream",
       "stream": "stderr",
       "text": [
        "2014-06-07 14:21:58,535 : INFO : storing corpus in Matrix Market format to Rcorpus.mm\n"
       ]
      },
      {
       "output_type": "stream",
       "stream": "stderr",
       "text": [
        "2014-06-07 14:21:58,536 : INFO : saving sparse matrix to Rcorpus.mm\n"
       ]
      },
      {
       "output_type": "stream",
       "stream": "stderr",
       "text": [
        "2014-06-07 14:21:58,538 : INFO : PROGRESS: saving document #0\n"
       ]
      },
      {
       "output_type": "stream",
       "stream": "stderr",
       "text": [
        "2014-06-07 14:21:59,148 : INFO : PROGRESS: saving document #1000\n"
       ]
      },
      {
       "output_type": "stream",
       "stream": "stderr",
       "text": [
        "2014-06-07 14:21:59,763 : INFO : PROGRESS: saving document #2000\n"
       ]
      },
      {
       "output_type": "stream",
       "stream": "stderr",
       "text": [
        "2014-06-07 14:22:00,381 : INFO : PROGRESS: saving document #3000\n"
       ]
      },
      {
       "output_type": "stream",
       "stream": "stderr",
       "text": [
        "2014-06-07 14:22:00,982 : INFO : PROGRESS: saving document #4000\n"
       ]
      },
      {
       "output_type": "stream",
       "stream": "stderr",
       "text": [
        "2014-06-07 14:22:01,006 : INFO : saved 4040x22126 matrix, density=0.226% (201613/89389040)\n"
       ]
      },
      {
       "output_type": "stream",
       "stream": "stderr",
       "text": [
        "2014-06-07 14:22:01,017 : INFO : saving MmCorpus index to Rcorpus.mm.index\n"
       ]
      },
      {
       "output_type": "stream",
       "stream": "stderr",
       "text": [
        "2014-06-07 14:22:01,032 : INFO : storing corpus in Matrix Market format to Tcorpus.mm\n"
       ]
      },
      {
       "output_type": "stream",
       "stream": "stderr",
       "text": [
        "2014-06-07 14:22:01,035 : INFO : saving sparse matrix to Tcorpus.mm\n"
       ]
      },
      {
       "output_type": "stream",
       "stream": "stderr",
       "text": [
        "2014-06-07 14:22:01,036 : INFO : PROGRESS: saving document #0\n"
       ]
      },
      {
       "output_type": "stream",
       "stream": "stderr",
       "text": [
        "2014-06-07 14:22:01,161 : INFO : PROGRESS: saving document #1000\n"
       ]
      },
      {
       "output_type": "stream",
       "stream": "stderr",
       "text": [
        "2014-06-07 14:22:01,283 : INFO : PROGRESS: saving document #2000\n"
       ]
      },
      {
       "output_type": "stream",
       "stream": "stderr",
       "text": [
        "2014-06-07 14:22:01,403 : INFO : PROGRESS: saving document #3000\n"
       ]
      },
      {
       "output_type": "stream",
       "stream": "stderr",
       "text": [
        "2014-06-07 14:22:01,529 : INFO : PROGRESS: saving document #4000\n"
       ]
      },
      {
       "output_type": "stream",
       "stream": "stderr",
       "text": [
        "2014-06-07 14:22:01,535 : INFO : saved 4040x7436 matrix, density=0.119% (35828/30041440)\n"
       ]
      },
      {
       "output_type": "stream",
       "stream": "stderr",
       "text": [
        "2014-06-07 14:22:01,563 : INFO : saving MmCorpus index to Tcorpus.mm.index\n"
       ]
      }
     ],
     "prompt_number": 106
    },
    {
     "cell_type": "code",
     "collapsed": false,
     "input": [
      "Rlda = gensim.models.ldamodel.LdaModel(corpus=Rcorpus, id2word=Rdict, num_topics=20, update_every=1, chunksize=100, passes=1)"
     ],
     "language": "python",
     "metadata": {},
     "outputs": [
      {
       "output_type": "stream",
       "stream": "stderr",
       "text": [
        "2014-06-07 14:22:30,635 : INFO : using symmetric alpha at 0.05\n"
       ]
      },
      {
       "output_type": "stream",
       "stream": "stderr",
       "text": [
        "2014-06-07 14:22:30,637 : INFO : using serial LDA version on this node\n"
       ]
      },
      {
       "output_type": "stream",
       "stream": "stderr",
       "text": [
        "2014-06-07 14:22:30,806 : INFO : running online LDA training, 20 topics, 1 passes over the supplied corpus of 4040 documents, updating model once every 100 documents, evaluating perplexity every 1000 documents, iterating 50x with a convergence threshold of 0.001000\n"
       ]
      },
      {
       "output_type": "stream",
       "stream": "stderr",
       "text": [
        "2014-06-07 14:22:30,812 : INFO : PROGRESS: pass 0, at document #100/4040\n"
       ]
      },
      {
       "output_type": "stream",
       "stream": "stderr",
       "text": [
        "2014-06-07 14:22:31,401 : INFO : merging changes from 100 documents into a model of 4040 documents\n"
       ]
      },
      {
       "output_type": "stream",
       "stream": "stderr",
       "text": [
        "2014-06-07 14:22:31,621 : INFO : topic #11 (0.050): 0.017*some + 0.017*me + 0.013*so + 0.013*my + 0.012*just + 0.012*if + 0.010*at + 0.010*will + 0.010*have + 0.010*food\n"
       ]
      },
      {
       "output_type": "stream",
       "stream": "stderr",
       "text": [
        "2014-06-07 14:22:31,625 : INFO : topic #0 (0.050): 0.020*my + 0.017*some + 0.013*was + 0.012*on + 0.011*i'm + 0.010*have + 0.010*it + 0.010*would + 0.010*but + 0.009*get\n"
       ]
      },
      {
       "output_type": "stream",
       "stream": "stderr",
       "text": [
        "2014-06-07 14:22:31,631 : INFO : topic #13 (0.050): 0.023*my + 0.018*would + 0.014*get + 0.013*on + 0.013*we + 0.011*have + 0.011*but + 0.011*it + 0.010*will + 0.009*me\n"
       ]
      },
      {
       "output_type": "stream",
       "stream": "stderr",
       "text": [
        "2014-06-07 14:22:31,637 : INFO : topic #2 (0.050): 0.025*my + 0.021*some + 0.012*would + 0.011*we + 0.010*so + 0.010*but + 0.009*with + 0.009*on + 0.009*our + 0.009*just\n"
       ]
      },
      {
       "output_type": "stream",
       "stream": "stderr",
       "text": [
        "2014-06-07 14:22:31,641 : INFO : topic #1 (0.050): 0.031*my + 0.016*you + 0.015*it + 0.014*some + 0.011*have + 0.010*would + 0.010*if + 0.009*i'm + 0.008*me + 0.008*like\n"
       ]
      },
      {
       "output_type": "stream",
       "stream": "stderr",
       "text": [
        "2014-06-07 14:22:31,648 : INFO : topic #19 (0.050): 0.022*have + 0.021*my + 0.021*just + 0.015*this + 0.014*would + 0.013*on + 0.013*with + 0.012*nice + 0.011*been + 0.010*out\n"
       ]
      },
      {
       "output_type": "stream",
       "stream": "stderr",
       "text": [
        "2014-06-07 14:22:31,653 : INFO : topic #7 (0.050): 0.019*there + 0.017*some + 0.015*on + 0.013*i'm + 0.012*from + 0.012*would + 0.012*can + 0.011*this + 0.011*two + 0.010*anything\n"
       ]
      },
      {
       "output_type": "stream",
       "stream": "stderr",
       "text": [
        "2014-06-07 14:22:31,657 : INFO : topic #5 (0.050): 0.016*i'd + 0.015*so + 0.014*if + 0.013*my + 0.013*this + 0.012*me + 0.012*:( + 0.012*can + 0.010*it + 0.009*i'm\n"
       ]
      },
      {
       "output_type": "stream",
       "stream": "stderr",
       "text": [
        "2014-06-07 14:22:31,663 : INFO : topic #6 (0.050): 0.024*my + 0.013*get + 0.011*out + 0.010*one + 0.009*some + 0.009*but + 0.009*that + 0.009*food + 0.009*was + 0.008*as\n"
       ]
      },
      {
       "output_type": "stream",
       "stream": "stderr",
       "text": [
        "2014-06-07 14:22:31,668 : INFO : topic #9 (0.050): 0.026*have + 0.020*so + 0.016*my + 0.016*would + 0.015*no + 0.015*food + 0.013*are + 0.011*was + 0.010*but + 0.010*with\n"
       ]
      },
      {
       "output_type": "stream",
       "stream": "stderr",
       "text": [
        "2014-06-07 14:22:31,674 : INFO : topic #12 (0.050): 0.017*have + 0.016*my + 0.014*or + 0.013*get + 0.013*it + 0.012*me + 0.011*but + 0.011*if + 0.010*i'm + 0.010*will\n"
       ]
      },
      {
       "output_type": "stream",
       "stream": "stderr",
       "text": [
        "2014-06-07 14:22:31,678 : INFO : topic #16 (0.050): 0.024*my + 0.024*i'm + 0.017*but + 0.014*get + 0.014*you + 0.014*this + 0.011*no + 0.011*would + 0.010*me + 0.008*it\n"
       ]
      },
      {
       "output_type": "stream",
       "stream": "stderr",
       "text": [
        "2014-06-07 14:22:31,684 : INFO : topic #8 (0.050): 0.022*my + 0.014** + 0.014*you + 0.013*but + 0.013*me + 0.012*have + 0.010*will + 0.010*it + 0.009*hard + 0.009*been\n"
       ]
      },
      {
       "output_type": "stream",
       "stream": "stderr",
       "text": [
        "2014-06-07 14:22:31,690 : INFO : topic #4 (0.050): 0.037*my + 0.017*have + 0.016*on + 0.014*would + 0.012*me + 0.011*just + 0.011*so + 0.009*with + 0.008*this + 0.008*could\n"
       ]
      },
      {
       "output_type": "stream",
       "stream": "stderr",
       "text": [
        "2014-06-07 14:22:31,701 : INFO : topic #18 (0.050): 0.021*my + 0.020*it's + 0.015*til + 0.014*just + 0.013*will + 0.011*that + 0.011*out + 0.010*but + 0.009*would + 0.008*me\n"
       ]
      },
      {
       "output_type": "stream",
       "stream": "stderr",
       "text": [
        "2014-06-07 14:22:31,707 : INFO : topic diff=18.520374, rho=1.000000\n"
       ]
      },
      {
       "output_type": "stream",
       "stream": "stderr",
       "text": [
        "2014-06-07 14:22:31,714 : INFO : PROGRESS: pass 0, at document #200/4040\n"
       ]
      },
      {
       "output_type": "stream",
       "stream": "stderr",
       "text": [
        "2014-06-07 14:22:32,234 : INFO : merging changes from 100 documents into a model of 4040 documents\n"
       ]
      },
      {
       "output_type": "stream",
       "stream": "stderr",
       "text": [
        "2014-06-07 14:22:32,430 : INFO : topic #13 (0.050): 0.030*my + 0.018*on + 0.016*would + 0.015*it + 0.014*but + 0.014*get + 0.012*have + 0.012*will + 0.010*definitely + 0.008*me\n"
       ]
      },
      {
       "output_type": "stream",
       "stream": "stderr",
       "text": [
        "2014-06-07 14:22:32,436 : INFO : topic #0 (0.050): 0.029*my + 0.014*i'm + 0.014*it + 0.013*was + 0.012*on + 0.012*but + 0.011*some + 0.011*have + 0.010*money + 0.010*going\n"
       ]
      },
      {
       "output_type": "stream",
       "stream": "stderr",
       "text": [
        "2014-06-07 14:22:32,440 : INFO : topic #10 (0.050): 0.021*my + 0.017*have + 0.015*you + 0.013*so + 0.013*was + 0.012*if + 0.012*she + 0.011*but + 0.011*no + 0.010*get\n"
       ]
      },
      {
       "output_type": "stream",
       "stream": "stderr",
       "text": [
        "2014-06-07 14:22:32,446 : INFO : topic #3 (0.050): 0.031*my + 0.019*i'm + 0.014*their + 0.013*was + 0.013*that + 0.010*have + 0.009*on + 0.009*if + 0.009*live + 0.009*out\n"
       ]
      },
      {
       "output_type": "stream",
       "stream": "stderr",
       "text": [
        "2014-06-07 14:22:32,450 : INFO : topic #12 (0.050): 0.026*or + 0.024*have + 0.021*my + 0.018*it + 0.014*me + 0.013*would + 0.012*but + 0.012*if + 0.012*get + 0.011*so\n"
       ]
      },
      {
       "output_type": "stream",
       "stream": "stderr",
       "text": [
        "2014-06-07 14:22:32,457 : INFO : topic #15 (0.050): 0.031*would + 0.021*my + 0.019*our + 0.018*have + 0.014*with + 0.013*day + 0.012*awesome + 0.011*you + 0.011*me + 0.010*at\n"
       ]
      },
      {
       "output_type": "stream",
       "stream": "stderr",
       "text": [
        "2014-06-07 14:22:32,461 : INFO : topic #9 (0.050): 0.033*have + 0.023*my + 0.018*so + 0.013*would + 0.013*food + 0.012*no + 0.011*are + 0.011*with + 0.010*but + 0.010*any\n"
       ]
      },
      {
       "output_type": "stream",
       "stream": "stderr",
       "text": [
        "2014-06-07 14:22:32,467 : INFO : topic #1 (0.050): 0.032*my + 0.028*you + 0.018*it + 0.013*kind + 0.012*i'm + 0.012*some + 0.011*would + 0.011*little + 0.010*if + 0.010*have\n"
       ]
      },
      {
       "output_type": "stream",
       "stream": "stderr",
       "text": [
        "2014-06-07 14:22:32,473 : INFO : topic #18 (0.050): 0.019*my + 0.018*it's + 0.014*will + 0.012*like + 0.011*but + 0.011*upon + 0.010*til + 0.010*would + 0.010*out + 0.009*just\n"
       ]
      },
      {
       "output_type": "stream",
       "stream": "stderr",
       "text": [
        "2014-06-07 14:22:32,479 : INFO : topic #19 (0.050): 0.025*just + 0.023*my + 0.023*have + 0.020*on + 0.015*with + 0.014*nice + 0.014*been + 0.013*would + 0.012*past + 0.011*this\n"
       ]
      },
      {
       "output_type": "stream",
       "stream": "stderr",
       "text": [
        "2014-06-07 14:22:32,487 : INFO : topic #11 (0.050): 0.022*house + 0.017*my + 0.016*so + 0.015*some + 0.014*me + 0.013*at + 0.012*alone + 0.012*wouldn't + 0.012*will + 0.011*have\n"
       ]
      },
      {
       "output_type": "stream",
       "stream": "stderr",
       "text": [
        "2014-06-07 14:22:32,494 : INFO : topic #7 (0.050): 0.021*i'm + 0.019*right + 0.016*on + 0.015*bank + 0.011*would + 0.011*some + 0.011*haven't + 0.010*my + 0.010*not + 0.010*now\n"
       ]
      },
      {
       "output_type": "stream",
       "stream": "stderr",
       "text": [
        "2014-06-07 14:22:32,502 : INFO : topic #14 (0.050): 0.031*my + 0.020*as + 0.015*help + 0.014*have + 0.011*that + 0.009*they + 0.009*but + 0.008*not + 0.008*so + 0.008*on\n"
       ]
      },
      {
       "output_type": "stream",
       "stream": "stderr",
       "text": [
        "2014-06-07 14:22:32,509 : INFO : topic #5 (0.050): 0.015*love + 0.015*so + 0.014*my + 0.014*if + 0.013*this + 0.013*i'd + 0.012*im + 0.011*it + 0.011*today. + 0.011*i'm\n"
       ]
      },
      {
       "output_type": "stream",
       "stream": "stderr",
       "text": [
        "2014-06-07 14:22:32,515 : INFO : topic #2 (0.050): 0.026*my + 0.019*some + 0.013*but + 0.012*would + 0.011*on + 0.010*we + 0.009*our + 0.009*with + 0.009*it + 0.008*so\n"
       ]
      },
      {
       "output_type": "stream",
       "stream": "stderr",
       "text": [
        "2014-06-07 14:22:32,519 : INFO : topic diff=1.082251, rho=0.707107\n"
       ]
      },
      {
       "output_type": "stream",
       "stream": "stderr",
       "text": [
        "2014-06-07 14:22:32,523 : INFO : PROGRESS: pass 0, at document #300/4040\n"
       ]
      },
      {
       "output_type": "stream",
       "stream": "stderr",
       "text": [
        "2014-06-07 14:22:33,039 : INFO : merging changes from 100 documents into a model of 4040 documents\n"
       ]
      },
      {
       "output_type": "stream",
       "stream": "stderr",
       "text": [
        "2014-06-07 14:22:33,234 : INFO : topic #7 (0.050): 0.022*bank + 0.020*right + 0.020*i'm + 0.018*now + 0.015*hoping + 0.012*on + 0.012*anyone + 0.012*some + 0.011*would + 0.011*reddit\n"
       ]
      },
      {
       "output_type": "stream",
       "stream": "stderr",
       "text": [
        "2014-06-07 14:22:33,240 : INFO : topic #8 (0.050): 0.022*my + 0.019*you + 0.015*been + 0.014*but + 0.014*will + 0.013*hard + 0.012*have + 0.012*it + 0.011*like + 0.011*thanks!\n"
       ]
      },
      {
       "output_type": "stream",
       "stream": "stderr",
       "text": [
        "2014-06-07 14:22:33,244 : INFO : topic #18 (0.050): 0.018*my + 0.013*that + 0.013*but + 0.012*like + 0.011*will + 0.011*we + 0.011*home. + 0.010*it's + 0.009*upon + 0.009*til\n"
       ]
      },
      {
       "output_type": "stream",
       "stream": "stderr",
       "text": [
        "2014-06-07 14:22:33,250 : INFO : topic #19 (0.050): 0.027*have + 0.022*just + 0.019*my + 0.019*on + 0.015*this + 0.014*been + 0.014*with + 0.012*couple + 0.012*would + 0.010*nice\n"
       ]
      },
      {
       "output_type": "stream",
       "stream": "stderr",
       "text": [
        "2014-06-07 14:22:33,256 : INFO : topic #1 (0.050): 0.031*you + 0.028*my + 0.016*it + 0.014*much + 0.013*would + 0.012*like + 0.011*little + 0.011*i'm + 0.011*kind + 0.011*with\n"
       ]
      },
      {
       "output_type": "stream",
       "stream": "stderr",
       "text": [
        "2014-06-07 14:22:33,260 : INFO : topic #4 (0.050): 0.037*my + 0.017*:) + 0.014*just + 0.014*would + 0.013*have + 0.012*with + 0.012*could + 0.011*so + 0.011*this + 0.010*on\n"
       ]
      },
      {
       "output_type": "stream",
       "stream": "stderr",
       "text": [
        "2014-06-07 14:22:33,266 : INFO : topic #5 (0.050): 0.017*love + 0.016*if + 0.016*so + 0.015*tonight + 0.014*i'd + 0.014*this + 0.014*can + 0.013*my + 0.011*im + 0.011*it\n"
       ]
      },
      {
       "output_type": "stream",
       "stream": "stderr",
       "text": [
        "2014-06-07 14:22:33,272 : INFO : topic #15 (0.050): 0.035*would + 0.023*our + 0.019*we + 0.019*my + 0.018*have + 0.015*awesome + 0.013*with + 0.012*good + 0.012*day + 0.011*such\n"
       ]
      },
      {
       "output_type": "stream",
       "stream": "stderr",
       "text": [
        "2014-06-07 14:22:33,276 : INFO : topic #14 (0.050): 0.030*my + 0.019*as + 0.015*help + 0.014*have + 0.011*that + 0.010*but + 0.009*they + 0.009*us + 0.008*not + 0.008*someone\n"
       ]
      },
      {
       "output_type": "stream",
       "stream": "stderr",
       "text": [
        "2014-06-07 14:22:33,282 : INFO : topic #3 (0.050): 0.027*my + 0.019*i'm + 0.014*that + 0.011*we + 0.011*if + 0.011*their + 0.010*just + 0.009*have + 0.009*little + 0.009*so\n"
       ]
      },
      {
       "output_type": "stream",
       "stream": "stderr",
       "text": [
        "2014-06-07 14:22:33,286 : INFO : topic #11 (0.050): 0.022*house + 0.016*my + 0.015*it + 0.013*so + 0.012*me + 0.012*wouldn't + 0.012*some + 0.011*will + 0.010*have + 0.009*if\n"
       ]
      },
      {
       "output_type": "stream",
       "stream": "stderr",
       "text": [
        "2014-06-07 14:22:33,292 : INFO : topic #10 (0.050): 0.022*my + 0.018*have + 0.016*you + 0.015*if + 0.014*but + 0.013*so + 0.012*was + 0.011*she + 0.011*we + 0.010*can\n"
       ]
      },
      {
       "output_type": "stream",
       "stream": "stderr",
       "text": [
        "2014-06-07 14:22:33,298 : INFO : topic #12 (0.050): 0.023*have + 0.022*or + 0.021*it + 0.020*my + 0.015*would + 0.014*me + 0.014*but + 0.012*get + 0.011*forward + 0.011*if\n"
       ]
      },
      {
       "output_type": "stream",
       "stream": "stderr",
       "text": [
        "2014-06-07 14:22:33,303 : INFO : topic #6 (0.050): 0.023*my + 0.016*as + 0.013*but + 0.012*better + 0.011*i've + 0.011*get + 0.009*next + 0.009*been + 0.009*have + 0.009*would\n"
       ]
      },
      {
       "output_type": "stream",
       "stream": "stderr",
       "text": [
        "2014-06-07 14:22:33,318 : INFO : topic #0 (0.050): 0.027*my + 0.015*as + 0.014*it + 0.013*this + 0.013*was + 0.013*favor + 0.012*but + 0.011*money + 0.011*i'm + 0.011*have\n"
       ]
      },
      {
       "output_type": "stream",
       "stream": "stderr",
       "text": [
        "2014-06-07 14:22:33,322 : INFO : topic diff=0.571277, rho=0.577350\n"
       ]
      },
      {
       "output_type": "stream",
       "stream": "stderr",
       "text": [
        "2014-06-07 14:22:33,328 : INFO : PROGRESS: pass 0, at document #400/4040\n"
       ]
      },
      {
       "output_type": "stream",
       "stream": "stderr",
       "text": [
        "2014-06-07 14:22:33,855 : INFO : merging changes from 100 documents into a model of 4040 documents\n"
       ]
      },
      {
       "output_type": "stream",
       "stream": "stderr",
       "text": [
        "2014-06-07 14:22:34,061 : INFO : topic #13 (0.050): 0.026*my + 0.016*on + 0.015*it + 0.013*would + 0.012*have + 0.012*get + 0.011*but + 0.011*we + 0.010*go + 0.010*will\n"
       ]
      },
      {
       "output_type": "stream",
       "stream": "stderr",
       "text": [
        "2014-06-07 14:22:34,066 : INFO : topic #7 (0.050): 0.033*bank + 0.022*i'm + 0.017*anyone + 0.017*right + 0.017*some + 0.016*now + 0.011*on + 0.011*there + 0.010*reddit + 0.010*haven't\n"
       ]
      },
      {
       "output_type": "stream",
       "stream": "stderr",
       "text": [
        "2014-06-07 14:22:34,072 : INFO : topic #19 (0.050): 0.026*have + 0.020*my + 0.018*just + 0.016*on + 0.015*nice + 0.015*- + 0.013*been + 0.013*this + 0.011*hi + 0.010*stuff\n"
       ]
      },
      {
       "output_type": "stream",
       "stream": "stderr",
       "text": [
        "2014-06-07 14:22:34,078 : INFO : topic #18 (0.050): 0.015*my + 0.014*move + 0.013*we + 0.012*that + 0.011*random + 0.010*it's + 0.010*but + 0.010*like + 0.010*generosity + 0.009*will\n"
       ]
      },
      {
       "output_type": "stream",
       "stream": "stderr",
       "text": [
        "2014-06-07 14:22:34,084 : INFO : topic #11 (0.050): 0.016*hasn't + 0.015*house + 0.015*my + 0.014*it + 0.013*some + 0.013*me + 0.012*today, + 0.012*wouldn't + 0.012*so + 0.010*will\n"
       ]
      },
      {
       "output_type": "stream",
       "stream": "stderr",
       "text": [
        "2014-06-07 14:22:34,088 : INFO : topic #6 (0.050): 0.020*my + 0.013*as + 0.012*next + 0.011*but + 0.010*been + 0.009*i've + 0.009*have + 0.009*hoping + 0.009*we've + 0.008*get\n"
       ]
      },
      {
       "output_type": "stream",
       "stream": "stderr",
       "text": [
        "2014-06-07 14:22:34,094 : INFO : topic #12 (0.050): 0.024*have + 0.021*it + 0.019*my + 0.019*me + 0.018*or + 0.016*if + 0.013*would + 0.012*but + 0.012*get + 0.011*so\n"
       ]
      },
      {
       "output_type": "stream",
       "stream": "stderr",
       "text": [
        "2014-06-07 14:22:34,098 : INFO : topic #17 (0.050): 0.020*would + 0.016*my + 0.015*her + 0.015*edit: + 0.013*have + 0.012*it + 0.012*day. + 0.012*we + 0.012*get + 0.012*me\n"
       ]
      },
      {
       "output_type": "stream",
       "stream": "stderr",
       "text": [
        "2014-06-07 14:22:34,104 : INFO : topic #0 (0.050): 0.025*my + 0.015*it + 0.014*this + 0.013*as + 0.012*i'm + 0.012*have + 0.012*that + 0.011*out + 0.011*but + 0.011*help\n"
       ]
      },
      {
       "output_type": "stream",
       "stream": "stderr",
       "text": [
        "2014-06-07 14:22:34,108 : INFO : topic #3 (0.050): 0.027*my + 0.019*i'm + 0.018*that + 0.012*we + 0.012*almost + 0.011*if + 0.011*out + 0.010*their + 0.009*have + 0.009*so\n"
       ]
      },
      {
       "output_type": "stream",
       "stream": "stderr",
       "text": [
        "2014-06-07 14:22:34,115 : INFO : topic #5 (0.050): 0.021*im + 0.017*can + 0.016*if + 0.016*i'd + 0.016*draw + 0.016*so + 0.015*this + 0.014*have + 0.014*love + 0.013*my\n"
       ]
      },
      {
       "output_type": "stream",
       "stream": "stderr",
       "text": [
        "2014-06-07 14:22:34,121 : INFO : topic #2 (0.050): 0.028*we + 0.021*my + 0.019*some + 0.010*us + 0.010*would + 0.010*on + 0.010*but + 0.009*like + 0.009*our + 0.008*have\n"
       ]
      },
      {
       "output_type": "stream",
       "stream": "stderr",
       "text": [
        "2014-06-07 14:22:34,127 : INFO : topic #1 (0.050): 0.034*you + 0.030*my + 0.017*like + 0.014*much + 0.013*i'm + 0.013*me + 0.012*if + 0.012*some + 0.011*it + 0.011*have\n"
       ]
      },
      {
       "output_type": "stream",
       "stream": "stderr",
       "text": [
        "2014-06-07 14:22:34,131 : INFO : topic #10 (0.050): 0.021*my + 0.019*she + 0.018*have + 0.016*you + 0.015*so + 0.014*we + 0.014*if + 0.014*but + 0.014*know + 0.012*can\n"
       ]
      },
      {
       "output_type": "stream",
       "stream": "stderr",
       "text": [
        "2014-06-07 14:22:34,144 : INFO : topic #14 (0.050): 0.028*my + 0.018*as + 0.015*have + 0.013*help + 0.012*that + 0.012*us + 0.009*but + 0.008*we + 0.008*out, + 0.008*so\n"
       ]
      },
      {
       "output_type": "stream",
       "stream": "stderr",
       "text": [
        "2014-06-07 14:22:34,148 : INFO : topic diff=0.651036, rho=0.500000\n"
       ]
      },
      {
       "output_type": "stream",
       "stream": "stderr",
       "text": [
        "2014-06-07 14:22:34,154 : INFO : PROGRESS: pass 0, at document #500/4040\n"
       ]
      },
      {
       "output_type": "stream",
       "stream": "stderr",
       "text": [
        "2014-06-07 14:22:34,713 : INFO : merging changes from 100 documents into a model of 4040 documents\n"
       ]
      },
      {
       "output_type": "stream",
       "stream": "stderr",
       "text": [
        "2014-06-07 14:22:34,913 : INFO : topic #14 (0.050): 0.028*my + 0.018*as + 0.015*that + 0.014*have + 0.011*help + 0.009*they + 0.009*us + 0.008*out, + 0.008*but + 0.008*someone\n"
       ]
      },
      {
       "output_type": "stream",
       "stream": "stderr",
       "text": [
        "2014-06-07 14:22:34,918 : INFO : topic #0 (0.050): 0.028*my + 0.016*it + 0.015*this + 0.014*me + 0.014*as + 0.014*have + 0.013*out + 0.013*that + 0.012*help + 0.012*with\n"
       ]
      },
      {
       "output_type": "stream",
       "stream": "stderr",
       "text": [
        "2014-06-07 14:22:34,924 : INFO : topic #1 (0.050): 0.035*my + 0.032*you + 0.016*like + 0.016*much + 0.014*me + 0.014*i'm + 0.013*that + 0.013*some + 0.013*have + 0.013*it\n"
       ]
      },
      {
       "output_type": "stream",
       "stream": "stderr",
       "text": [
        "2014-06-07 14:22:34,928 : INFO : topic #5 (0.050): 0.020*can + 0.018*if + 0.016*this + 0.016*i'd + 0.016*so + 0.015*love + 0.014*have + 0.014*im + 0.012*my + 0.012*like\n"
       ]
      },
      {
       "output_type": "stream",
       "stream": "stderr",
       "text": [
        "2014-06-07 14:22:34,936 : INFO : topic #9 (0.050): 0.023*have + 0.021*my + 0.016*any + 0.013*so + 0.013*with + 0.012*no + 0.012*would + 0.011*food + 0.011*this + 0.011*else\n"
       ]
      },
      {
       "output_type": "stream",
       "stream": "stderr",
       "text": [
        "2014-06-07 14:22:34,941 : INFO : topic #11 (0.050): 0.015*me + 0.015*it + 0.015*my + 0.014*today, + 0.014*hasn't + 0.013*some + 0.012*wouldn't + 0.011*6 + 0.010*will + 0.009*so\n"
       ]
      },
      {
       "output_type": "stream",
       "stream": "stderr",
       "text": [
        "2014-06-07 14:22:34,947 : INFO : topic #18 (0.050): 0.016*provide + 0.014*my + 0.013*it's + 0.012*like + 0.011*random + 0.011*that + 0.010*we + 0.010*move + 0.009*dinner. + 0.009*sob\n"
       ]
      },
      {
       "output_type": "stream",
       "stream": "stderr",
       "text": [
        "2014-06-07 14:22:34,951 : INFO : topic #16 (0.050): 0.037*my + 0.032*i'm + 0.026*but + 0.024*been + 0.019*this + 0.015*i've + 0.014*would + 0.013*get + 0.013*it + 0.012*just\n"
       ]
      },
      {
       "output_type": "stream",
       "stream": "stderr",
       "text": [
        "2014-06-07 14:22:34,957 : INFO : topic #4 (0.050): 0.037*my + 0.023*:) + 0.015*family + 0.014*just + 0.014*would + 0.014*with + 0.013*so + 0.013*have + 0.012*4 + 0.012*this\n"
       ]
      },
      {
       "output_type": "stream",
       "stream": "stderr",
       "text": [
        "2014-06-07 14:22:34,966 : INFO : topic #7 (0.050): 0.035*bank + 0.021*i'm + 0.016*right + 0.014*anyone + 0.014*some + 0.012*now + 0.011*on + 0.010*usually + 0.010*there + 0.009*my\n"
       ]
      },
      {
       "output_type": "stream",
       "stream": "stderr",
       "text": [
        "2014-06-07 14:22:34,973 : INFO : topic #10 (0.050): 0.022*my + 0.019*have + 0.019*she + 0.017*you + 0.014*so + 0.014*if + 0.014*we + 0.013*know + 0.013*can + 0.013*but\n"
       ]
      },
      {
       "output_type": "stream",
       "stream": "stderr",
       "text": [
        "2014-06-07 14:22:34,980 : INFO : topic #8 (0.050): 0.021*my + 0.020*been + 0.018*you + 0.014*hard + 0.014*will + 0.014*like + 0.013*have + 0.012*but + 0.010*are + 0.010*or\n"
       ]
      },
      {
       "output_type": "stream",
       "stream": "stderr",
       "text": [
        "2014-06-07 14:22:34,986 : INFO : topic #15 (0.050): 0.027*we + 0.027*would + 0.025*our + 0.020*have + 0.016*really + 0.016*my + 0.015*her + 0.012*good + 0.012*an + 0.012*there's\n"
       ]
      },
      {
       "output_type": "stream",
       "stream": "stderr",
       "text": [
        "2014-06-07 14:22:34,993 : INFO : topic #2 (0.050): 0.023*we + 0.022*some + 0.018*my + 0.012*craving + 0.010*would + 0.009*sounds + 0.009*on + 0.009*us + 0.009*our + 0.009*food.\n"
       ]
      },
      {
       "output_type": "stream",
       "stream": "stderr",
       "text": [
        "2014-06-07 14:22:34,997 : INFO : topic #6 (0.050): 0.020*my + 0.015*as + 0.011*but + 0.011*next + 0.010*been + 0.010*i've + 0.010*have + 0.009*we've + 0.009*really + 0.009*this,\n"
       ]
      },
      {
       "output_type": "stream",
       "stream": "stderr",
       "text": [
        "2014-06-07 14:22:35,003 : INFO : topic diff=0.549619, rho=0.447214\n"
       ]
      },
      {
       "output_type": "stream",
       "stream": "stderr",
       "text": [
        "2014-06-07 14:22:35,007 : INFO : PROGRESS: pass 0, at document #600/4040\n"
       ]
      },
      {
       "output_type": "stream",
       "stream": "stderr",
       "text": [
        "2014-06-07 14:22:35,516 : INFO : merging changes from 100 documents into a model of 4040 documents\n"
       ]
      },
      {
       "output_type": "stream",
       "stream": "stderr",
       "text": [
        "2014-06-07 14:22:35,710 : INFO : topic #3 (0.050): 0.033*my + 0.019*that + 0.018*i'm + 0.011*just + 0.011*out + 0.011*almost + 0.010*their + 0.010*if + 0.010*school + 0.009*we\n"
       ]
      },
      {
       "output_type": "stream",
       "stream": "stderr",
       "text": [
        "2014-06-07 14:22:35,714 : INFO : topic #19 (0.050): 0.023*have + 0.022*nice + 0.021*my + 0.017*just + 0.017*- + 0.013*with + 0.013*on + 0.012*would + 0.011*couple + 0.011*this\n"
       ]
      },
      {
       "output_type": "stream",
       "stream": "stderr",
       "text": [
        "2014-06-07 14:22:35,720 : INFO : topic #15 (0.050): 0.032*our + 0.027*would + 0.026*we + 0.019*have + 0.017*my + 0.014*really + 0.012*good + 0.012*her + 0.011*an + 0.011*with\n"
       ]
      },
      {
       "output_type": "stream",
       "stream": "stderr",
       "text": [
        "2014-06-07 14:22:35,726 : INFO : topic #18 (0.050): 0.023*provide + 0.013*my + 0.013*proof + 0.012*show + 0.012*random + 0.011*your + 0.010*that + 0.010*will + 0.010*it's + 0.009*til\n"
       ]
      },
      {
       "output_type": "stream",
       "stream": "stderr",
       "text": [
        "2014-06-07 14:22:35,732 : INFO : topic #14 (0.050): 0.030*my + 0.018*as + 0.014*have + 0.013*that + 0.011*help + 0.011*fridge + 0.011*they + 0.010*out, + 0.009*us + 0.008*can\n"
       ]
      },
      {
       "output_type": "stream",
       "stream": "stderr",
       "text": [
        "2014-06-07 14:22:35,737 : INFO : topic #4 (0.050): 0.042*my + 0.021*:) + 0.017*family + 0.015*would + 0.014*so + 0.014*with + 0.013*just + 0.012*have + 0.012*4 + 0.012*really\n"
       ]
      },
      {
       "output_type": "stream",
       "stream": "stderr",
       "text": [
        "2014-06-07 14:22:35,744 : INFO : topic #17 (0.050): 0.018*my + 0.018*edit: + 0.017*would + 0.014*her + 0.014*have + 0.014*it + 0.012*said + 0.012*me + 0.012*than + 0.012*on\n"
       ]
      },
      {
       "output_type": "stream",
       "stream": "stderr",
       "text": [
        "2014-06-07 14:22:35,750 : INFO : topic #10 (0.050): 0.025*my + 0.022*she + 0.019*have + 0.015*can + 0.014*so + 0.014*we + 0.014*you + 0.013*if + 0.012*but + 0.011*know\n"
       ]
      },
      {
       "output_type": "stream",
       "stream": "stderr",
       "text": [
        "2014-06-07 14:22:35,755 : INFO : topic #2 (0.050): 0.024*we + 0.020*my + 0.017*some + 0.012*short + 0.011*craving + 0.011*our + 0.011*write + 0.010*would + 0.009*us + 0.009*on\n"
       ]
      },
      {
       "output_type": "stream",
       "stream": "stderr",
       "text": [
        "2014-06-07 14:22:35,760 : INFO : topic #5 (0.050): 0.015*if + 0.015*can + 0.015*this + 0.014*my + 0.014*so + 0.014*im + 0.013*first + 0.013*tonight + 0.012*have + 0.012*i'd\n"
       ]
      },
      {
       "output_type": "stream",
       "stream": "stderr",
       "text": [
        "2014-06-07 14:22:35,766 : INFO : topic #7 (0.050): 0.031*bank + 0.020*right + 0.018*i'm + 0.018*now + 0.013*anyone + 0.011*some + 0.010*on + 0.010*there + 0.009*my + 0.009*reddit\n"
       ]
      },
      {
       "output_type": "stream",
       "stream": "stderr",
       "text": [
        "2014-06-07 14:22:35,772 : INFO : topic #12 (0.050): 0.029*it + 0.023*have + 0.022*my + 0.022*me + 0.016*pay + 0.016*if + 0.015*forward + 0.014*will + 0.014*or + 0.013*would\n"
       ]
      },
      {
       "output_type": "stream",
       "stream": "stderr",
       "text": [
        "2014-06-07 14:22:35,776 : INFO : topic #1 (0.050): 0.039*my + 0.031*you + 0.016*me + 0.016*account + 0.014*some + 0.014*person + 0.013*i'm + 0.013*have + 0.013*that + 0.012*it\n"
       ]
      },
      {
       "output_type": "stream",
       "stream": "stderr",
       "text": [
        "2014-06-07 14:22:35,783 : INFO : topic #9 (0.050): 0.023*my + 0.022*have + 0.016*any + 0.014*so + 0.012*else + 0.012*no + 0.012*with + 0.012*would + 0.012*10 + 0.011*food\n"
       ]
      },
      {
       "output_type": "stream",
       "stream": "stderr",
       "text": [
        "2014-06-07 14:22:35,789 : INFO : topic #0 (0.050): 0.032*my + 0.017*as + 0.015*it + 0.015*me + 0.015*help + 0.013*out + 0.013*that + 0.013*this + 0.012*have + 0.011*with\n"
       ]
      },
      {
       "output_type": "stream",
       "stream": "stderr",
       "text": [
        "2014-06-07 14:22:35,801 : INFO : topic diff=0.487512, rho=0.408248\n"
       ]
      },
      {
       "output_type": "stream",
       "stream": "stderr",
       "text": [
        "2014-06-07 14:22:35,806 : INFO : PROGRESS: pass 0, at document #700/4040\n"
       ]
      },
      {
       "output_type": "stream",
       "stream": "stderr",
       "text": [
        "2014-06-07 14:22:36,273 : INFO : merging changes from 100 documents into a model of 4040 documents\n"
       ]
      },
      {
       "output_type": "stream",
       "stream": "stderr",
       "text": [
        "2014-06-07 14:22:36,473 : INFO : topic #11 (0.050): 0.017*house + 0.015*my + 0.015*me + 0.014*tonight + 0.013*some + 0.013*6 + 0.012*it + 0.012*:) + 0.012*alone + 0.010*havent\n"
       ]
      },
      {
       "output_type": "stream",
       "stream": "stderr",
       "text": [
        "2014-06-07 14:22:36,480 : INFO : topic #0 (0.050): 0.031*my + 0.016*help + 0.016*it + 0.015*me + 0.014*as + 0.013*this + 0.012*out + 0.012*that + 0.012*with + 0.011*have\n"
       ]
      },
      {
       "output_type": "stream",
       "stream": "stderr",
       "text": [
        "2014-06-07 14:22:36,484 : INFO : topic #6 (0.050): 0.022*my + 0.012*as + 0.012*up, + 0.012*one + 0.011*i've + 0.010*but + 0.009*some + 0.009*next + 0.009*pie + 0.009*really\n"
       ]
      },
      {
       "output_type": "stream",
       "stream": "stderr",
       "text": [
        "2014-06-07 14:22:36,490 : INFO : topic #17 (0.050): 0.019*my + 0.017*her + 0.016*would + 0.015*said + 0.015*edit: + 0.014*it + 0.012*have + 0.012*on + 0.012*me + 0.011*than\n"
       ]
      },
      {
       "output_type": "stream",
       "stream": "stderr",
       "text": [
        "2014-06-07 14:22:36,496 : INFO : topic #19 (0.050): 0.027*nice + 0.020*just + 0.019*my + 0.019*have + 0.016*couple + 0.014*on + 0.012*with + 0.012*free + 0.012*- + 0.012*papa\n"
       ]
      },
      {
       "output_type": "stream",
       "stream": "stderr",
       "text": [
        "2014-06-07 14:22:36,500 : INFO : topic #1 (0.050): 0.043*you + 0.032*my + 0.016*account + 0.015*me + 0.014*that + 0.014*i'm + 0.013*some + 0.013*if + 0.012*it + 0.012*with\n"
       ]
      },
      {
       "output_type": "stream",
       "stream": "stderr",
       "text": [
        "2014-06-07 14:22:36,506 : INFO : topic #14 (0.050): 0.027*my + 0.016*as + 0.015*that + 0.012*have + 0.011*us + 0.010*help + 0.009*fridge + 0.009*out, + 0.008*can + 0.007*they\n"
       ]
      },
      {
       "output_type": "stream",
       "stream": "stderr",
       "text": [
        "2014-06-07 14:22:36,515 : INFO : topic #4 (0.050): 0.039*my + 0.020*:) + 0.017*would + 0.015*just + 0.014*family + 0.014*with + 0.013*have + 0.012*4 + 0.012*so + 0.010*i'm\n"
       ]
      },
      {
       "output_type": "stream",
       "stream": "stderr",
       "text": [
        "2014-06-07 14:22:36,522 : INFO : topic #5 (0.050): 0.015*if + 0.015*can + 0.014*i'd + 0.014*my + 0.013*so + 0.013*love + 0.013*this + 0.012*i'm + 0.012*cheer + 0.011*like\n"
       ]
      },
      {
       "output_type": "stream",
       "stream": "stderr",
       "text": [
        "2014-06-07 14:22:36,529 : INFO : topic #18 (0.050): 0.022*provide + 0.014*cheesy + 0.013*random + 0.012*your + 0.012*act + 0.011*proof + 0.011*show + 0.011*it's + 0.011*mean + 0.010*my\n"
       ]
      },
      {
       "output_type": "stream",
       "stream": "stderr",
       "text": [
        "2014-06-07 14:22:36,536 : INFO : topic #2 (0.050): 0.036*we + 0.017*my + 0.016*some + 0.014*us + 0.013*craving + 0.013*short + 0.011*write + 0.011*gift + 0.010*our + 0.010*are\n"
       ]
      },
      {
       "output_type": "stream",
       "stream": "stderr",
       "text": [
        "2014-06-07 14:22:36,543 : INFO : topic #7 (0.050): 0.034*bank + 0.020*i'm + 0.019*now + 0.019*right + 0.013*anyone + 0.010*some + 0.009*on + 0.009*reddit + 0.009*there + 0.008*my\n"
       ]
      },
      {
       "output_type": "stream",
       "stream": "stderr",
       "text": [
        "2014-06-07 14:22:36,549 : INFO : topic #3 (0.050): 0.032*my + 0.021*i'm + 0.018*that + 0.011*if + 0.011*out + 0.010*just + 0.010*husband + 0.009*their + 0.009*he + 0.009*school\n"
       ]
      },
      {
       "output_type": "stream",
       "stream": "stderr",
       "text": [
        "2014-06-07 14:22:36,555 : INFO : topic #8 (0.050): 0.020*my + 0.016*you + 0.015*been + 0.015*will + 0.015*like + 0.014*jobs + 0.013*but + 0.011*hard + 0.011*with + 0.010*have\n"
       ]
      },
      {
       "output_type": "stream",
       "stream": "stderr",
       "text": [
        "2014-06-07 14:22:36,561 : INFO : topic #12 (0.050): 0.030*it + 0.022*my + 0.021*have + 0.021*me + 0.018*if + 0.016*forward + 0.016*will + 0.016*pay + 0.016*get + 0.015*would\n"
       ]
      },
      {
       "output_type": "stream",
       "stream": "stderr",
       "text": [
        "2014-06-07 14:22:36,565 : INFO : topic diff=0.582985, rho=0.377964\n"
       ]
      },
      {
       "output_type": "stream",
       "stream": "stderr",
       "text": [
        "2014-06-07 14:22:36,569 : INFO : PROGRESS: pass 0, at document #800/4040\n"
       ]
      },
      {
       "output_type": "stream",
       "stream": "stderr",
       "text": [
        "2014-06-07 14:22:37,048 : INFO : merging changes from 100 documents into a model of 4040 documents\n"
       ]
      },
      {
       "output_type": "stream",
       "stream": "stderr",
       "text": [
        "2014-06-07 14:22:37,249 : INFO : topic #3 (0.050): 0.033*my + 0.018*i'm + 0.018*that + 0.011*out + 0.011*just + 0.011*he + 0.010*if + 0.009*their + 0.009*ago + 0.009*was\n"
       ]
      },
      {
       "output_type": "stream",
       "stream": "stderr",
       "text": [
        "2014-06-07 14:22:37,255 : INFO : topic #8 (0.050): 0.020*my + 0.016*like + 0.016*you + 0.012*been + 0.012*but + 0.012*will + 0.011*are + 0.010*jobs + 0.010*with + 0.010*have\n"
       ]
      },
      {
       "output_type": "stream",
       "stream": "stderr",
       "text": [
        "2014-06-07 14:22:37,259 : INFO : topic #16 (0.050): 0.042*my + 0.028*i'm + 0.023*but + 0.020*been + 0.019*i've + 0.018*this + 0.014*had + 0.014*on + 0.013*it + 0.013*get\n"
       ]
      },
      {
       "output_type": "stream",
       "stream": "stderr",
       "text": [
        "2014-06-07 14:22:37,266 : INFO : topic #0 (0.050): 0.031*my + 0.017*me + 0.016*it + 0.014*as + 0.014*help + 0.013*out + 0.012*on + 0.012*this + 0.012*that + 0.011*get\n"
       ]
      },
      {
       "output_type": "stream",
       "stream": "stderr",
       "text": [
        "2014-06-07 14:22:37,272 : INFO : topic #11 (0.050): 0.019*tonight + 0.019*house + 0.015*my + 0.015*me + 0.013*sister + 0.012*full + 0.012*food + 0.012*6 + 0.012*some + 0.011*:)\n"
       ]
      },
      {
       "output_type": "stream",
       "stream": "stderr",
       "text": [
        "2014-06-07 14:22:37,276 : INFO : topic #19 (0.050): 0.039*nice + 0.020*have + 0.018*my + 0.018*free + 0.017*couple + 0.016*just + 0.015*papa + 0.015*on + 0.011*- + 0.011*with\n"
       ]
      },
      {
       "output_type": "stream",
       "stream": "stderr",
       "text": [
        "2014-06-07 14:22:37,282 : INFO : topic #12 (0.050): 0.031*it + 0.023*my + 0.022*have + 0.022*me + 0.018*get + 0.018*if + 0.017*pay + 0.016*forward + 0.014*will + 0.014*would\n"
       ]
      },
      {
       "output_type": "stream",
       "stream": "stderr",
       "text": [
        "2014-06-07 14:22:37,288 : INFO : topic #5 (0.050): 0.017*if + 0.016*:( + 0.015*i'd + 0.014*can + 0.014*love + 0.013*thought + 0.013*like + 0.013*my + 0.012*this + 0.012*so\n"
       ]
      },
      {
       "output_type": "stream",
       "stream": "stderr",
       "text": [
        "2014-06-07 14:22:37,293 : INFO : topic #2 (0.050): 0.036*we + 0.017*my + 0.016*some + 0.013*craving + 0.012*us + 0.011*are + 0.011*thanks + 0.011*sounds + 0.010*short + 0.010*our\n"
       ]
      },
      {
       "output_type": "stream",
       "stream": "stderr",
       "text": [
        "2014-06-07 14:22:37,299 : INFO : topic #18 (0.050): 0.018*provide + 0.015*dinner. + 0.012*random + 0.012*your + 0.011*proof + 0.011*show + 0.010*til + 0.010*that + 0.010*cheesy + 0.010*my\n"
       ]
      },
      {
       "output_type": "stream",
       "stream": "stderr",
       "text": [
        "2014-06-07 14:22:37,305 : INFO : topic #4 (0.050): 0.038*my + 0.020*:) + 0.017*would + 0.015*just + 0.014*with + 0.013*have + 0.012*so + 0.012*4 + 0.010*on + 0.010*me\n"
       ]
      },
      {
       "output_type": "stream",
       "stream": "stderr",
       "text": [
        "2014-06-07 14:22:37,312 : INFO : topic #15 (0.050): 0.035*our + 0.026*would + 0.025*we + 0.016*my + 0.016*have + 0.013*an + 0.012*really + 0.011*with + 0.010*afford + 0.010*it.\n"
       ]
      },
      {
       "output_type": "stream",
       "stream": "stderr",
       "text": [
        "2014-06-07 14:22:37,322 : INFO : topic #17 (0.050): 0.020*my + 0.018*said + 0.015*would + 0.014*it + 0.014*edit: + 0.013*me + 0.013*her + 0.012*on + 0.012*day. + 0.012*than\n"
       ]
      },
      {
       "output_type": "stream",
       "stream": "stderr",
       "text": [
        "2014-06-07 14:22:37,328 : INFO : topic #13 (0.050): 0.026*my + 0.018*on + 0.016*get + 0.015*have + 0.014*it + 0.013*would + 0.013*but + 0.011*at + 0.010*me + 0.010*go\n"
       ]
      },
      {
       "output_type": "stream",
       "stream": "stderr",
       "text": [
        "2014-06-07 14:22:37,332 : INFO : topic #6 (0.050): 0.022*my + 0.013*as + 0.012*one + 0.012*some + 0.011*ramen + 0.011*next + 0.010*really + 0.010*but + 0.009*then + 0.009*up,\n"
       ]
      },
      {
       "output_type": "stream",
       "stream": "stderr",
       "text": [
        "2014-06-07 14:22:37,338 : INFO : topic diff=0.533087, rho=0.353553\n"
       ]
      },
      {
       "output_type": "stream",
       "stream": "stderr",
       "text": [
        "2014-06-07 14:22:37,345 : INFO : PROGRESS: pass 0, at document #900/4040\n"
       ]
      },
      {
       "output_type": "stream",
       "stream": "stderr",
       "text": [
        "2014-06-07 14:22:37,788 : INFO : merging changes from 100 documents into a model of 4040 documents\n"
       ]
      },
      {
       "output_type": "stream",
       "stream": "stderr",
       "text": [
        "2014-06-07 14:22:37,990 : INFO : topic #2 (0.050): 0.036*we + 0.018*craving + 0.016*some + 0.016*my + 0.013*us + 0.012*are + 0.011*short + 0.011*break + 0.010*thanks + 0.010*from\n"
       ]
      },
      {
       "output_type": "stream",
       "stream": "stderr",
       "text": [
        "2014-06-07 14:22:37,996 : INFO : topic #6 (0.050): 0.022*my + 0.013*some + 0.012*ramen + 0.011*as + 0.011*this, + 0.010*next + 0.010*pie + 0.009*but + 0.009*one + 0.009*really\n"
       ]
      },
      {
       "output_type": "stream",
       "stream": "stderr",
       "text": [
        "2014-06-07 14:22:38,002 : INFO : topic #5 (0.050): 0.020*i'd + 0.017*love + 0.016*thought + 0.015*if + 0.014*tonight + 0.014*:( + 0.013*like + 0.012*much. + 0.012*my + 0.012*this\n"
       ]
      },
      {
       "output_type": "stream",
       "stream": "stderr",
       "text": [
        "2014-06-07 14:22:38,006 : INFO : topic #10 (0.050): 0.030*my + 0.023*we + 0.021*have + 0.019*you + 0.016*so + 0.015*can + 0.013*if + 0.012*but + 0.012*she + 0.009*know\n"
       ]
      },
      {
       "output_type": "stream",
       "stream": "stderr",
       "text": [
        "2014-06-07 14:22:38,012 : INFO : topic #13 (0.050): 0.026*my + 0.019*on + 0.016*have + 0.014*would + 0.014*but + 0.013*get + 0.013*it + 0.012*at + 0.011*money + 0.010*all\n"
       ]
      },
      {
       "output_type": "stream",
       "stream": "stderr",
       "text": [
        "2014-06-07 14:22:38,017 : INFO : topic #4 (0.050): 0.036*my + 0.018*would + 0.018*:) + 0.015*with + 0.014*just + 0.014*have + 0.014*so + 0.012*4 + 0.011*i'm + 0.011*really\n"
       ]
      },
      {
       "output_type": "stream",
       "stream": "stderr",
       "text": [
        "2014-06-07 14:22:38,023 : INFO : topic #9 (0.050): 0.023*have + 0.018*my + 0.016*else + 0.013*any + 0.012*would + 0.011*so + 0.011*them + 0.010*with + 0.010*no + 0.009*food\n"
       ]
      },
      {
       "output_type": "stream",
       "stream": "stderr",
       "text": [
        "2014-06-07 14:22:38,033 : INFO : topic #16 (0.050): 0.043*my + 0.030*i'm + 0.024*but + 0.022*been + 0.020*i've + 0.018*this + 0.013*on + 0.013*it + 0.013*would + 0.013*just\n"
       ]
      },
      {
       "output_type": "stream",
       "stream": "stderr",
       "text": [
        "2014-06-07 14:22:38,046 : INFO : topic #14 (0.050): 0.026*my + 0.017*as + 0.013*fridge + 0.013*that + 0.010*have + 0.009*help + 0.008*us + 0.008*out, + 0.008*pizza? + 0.007*they\n"
       ]
      },
      {
       "output_type": "stream",
       "stream": "stderr",
       "text": [
        "2014-06-07 14:22:38,052 : INFO : topic #12 (0.050): 0.031*it + 0.023*my + 0.022*have + 0.021*me + 0.019*pay + 0.019*if + 0.016*forward + 0.015*or + 0.015*get + 0.014*would\n"
       ]
      },
      {
       "output_type": "stream",
       "stream": "stderr",
       "text": [
        "2014-06-07 14:22:38,058 : INFO : topic #8 (0.050): 0.020*my + 0.017*like + 0.016*you + 0.014*are + 0.014*been + 0.014*weeks. + 0.012*will + 0.012*but + 0.012*things + 0.011*jobs\n"
       ]
      },
      {
       "output_type": "stream",
       "stream": "stderr",
       "text": [
        "2014-06-07 14:22:38,063 : INFO : topic #18 (0.050): 0.023*provide + 0.015*proof + 0.014*your + 0.013*random + 0.010*dinner. + 0.009*til + 0.009*cheesy + 0.009*my + 0.008*probably + 0.008*that\n"
       ]
      },
      {
       "output_type": "stream",
       "stream": "stderr",
       "text": [
        "2014-06-07 14:22:38,075 : INFO : topic #7 (0.050): 0.036*bank + 0.018*i'm + 0.016*now + 0.016*right + 0.011*some + 0.010*anyone + 0.010*reddit + 0.009*towards + 0.009*on + 0.009*edit\n"
       ]
      },
      {
       "output_type": "stream",
       "stream": "stderr",
       "text": [
        "2014-06-07 14:22:38,081 : INFO : topic #11 (0.050): 0.022*6 + 0.015*tonight + 0.015*house + 0.015*sister + 0.013*my + 0.013*me + 0.012*full + 0.011*today, + 0.011*some + 0.010*alone\n"
       ]
      },
      {
       "output_type": "stream",
       "stream": "stderr",
       "text": [
        "2014-06-07 14:22:38,085 : INFO : topic #19 (0.050): 0.033*nice + 0.019*free + 0.019*my + 0.018*have + 0.017*- + 0.015*just + 0.015*on + 0.014*papa + 0.013*couple + 0.013*worth\n"
       ]
      },
      {
       "output_type": "stream",
       "stream": "stderr",
       "text": [
        "2014-06-07 14:22:38,091 : INFO : topic diff=0.481868, rho=0.333333\n"
       ]
      },
      {
       "output_type": "stream",
       "stream": "stderr",
       "text": [
        "2014-06-07 14:22:39,128 : INFO : -10.377 per-word bound, 1329.8 perplexity estimate based on a held-out corpus of 100 documents with 6058 words\n"
       ]
      },
      {
       "output_type": "stream",
       "stream": "stderr",
       "text": [
        "2014-06-07 14:22:39,130 : INFO : PROGRESS: pass 0, at document #1000/4040\n"
       ]
      },
      {
       "output_type": "stream",
       "stream": "stderr",
       "text": [
        "2014-06-07 14:22:39,556 : INFO : merging changes from 100 documents into a model of 4040 documents\n"
       ]
      },
      {
       "output_type": "stream",
       "stream": "stderr",
       "text": [
        "2014-06-07 14:22:39,757 : INFO : topic #10 (0.050): 0.029*my + 0.025*we + 0.021*have + 0.016*you + 0.015*so + 0.015*can + 0.013*if + 0.013*but + 0.011*she + 0.011*with\n"
       ]
      },
      {
       "output_type": "stream",
       "stream": "stderr",
       "text": [
        "2014-06-07 14:22:39,763 : INFO : topic #4 (0.050): 0.033*my + 0.019*would + 0.016*with + 0.014*:) + 0.014*so + 0.014*have + 0.013*really + 0.013*just + 0.012*4 + 0.012*i'm\n"
       ]
      },
      {
       "output_type": "stream",
       "stream": "stderr",
       "text": [
        "2014-06-07 14:22:39,769 : INFO : topic #6 (0.050): 0.020*my + 0.013*some + 0.011*as + 0.011*ramen + 0.011*hoping + 0.010*one + 0.010*feel + 0.010*but + 0.009*this, + 0.009*well\n"
       ]
      },
      {
       "output_type": "stream",
       "stream": "stderr",
       "text": [
        "2014-06-07 14:22:39,776 : INFO : topic #11 (0.050): 0.020*house + 0.016*6 + 0.016*day + 0.014*special + 0.013*tonight + 0.013*me + 0.013*alone + 0.012*full + 0.012*my + 0.011*today,\n"
       ]
      },
      {
       "output_type": "stream",
       "stream": "stderr",
       "text": [
        "2014-06-07 14:22:39,782 : INFO : topic #2 (0.050): 0.041*we + 0.015*some + 0.014*are + 0.014*my + 0.014*us + 0.013*craving + 0.011*thanks + 0.010*short + 0.010*break + 0.010*our\n"
       ]
      },
      {
       "output_type": "stream",
       "stream": "stderr",
       "text": [
        "2014-06-07 14:22:39,786 : INFO : topic #18 (0.050): 0.020*provide + 0.018*your + 0.016*random + 0.014*proof + 0.010*time, + 0.010*mean + 0.010*grateful + 0.010*that + 0.010*hope + 0.009*us.\n"
       ]
      },
      {
       "output_type": "stream",
       "stream": "stderr",
       "text": [
        "2014-06-07 14:22:39,792 : INFO : topic #19 (0.050): 0.029*nice + 0.019*free + 0.017*- + 0.017*my + 0.016*stuff + 0.016*couple + 0.015*have + 0.014*papa + 0.013*worth + 0.013*just\n"
       ]
      },
      {
       "output_type": "stream",
       "stream": "stderr",
       "text": [
        "2014-06-07 14:22:39,799 : INFO : topic #15 (0.050): 0.030*our + 0.028*would + 0.024*we + 0.017*her + 0.016*my + 0.014*have + 0.013*with + 0.013*really + 0.012*we're + 0.011*there's\n"
       ]
      },
      {
       "output_type": "stream",
       "stream": "stderr",
       "text": [
        "2014-06-07 14:22:39,805 : INFO : topic #3 (0.050): 0.034*my + 0.018*i'm + 0.016*that + 0.016*he + 0.011*ago + 0.011*was + 0.011*out + 0.010*just + 0.010*not + 0.009*if\n"
       ]
      },
      {
       "output_type": "stream",
       "stream": "stderr",
       "text": [
        "2014-06-07 14:22:39,811 : INFO : topic #7 (0.050): 0.035*bank + 0.017*i'm + 0.016*now + 0.016*right + 0.015*reddit + 0.010*some + 0.009*towards + 0.009*anyone + 0.009*sitting + 0.008*on\n"
       ]
      },
      {
       "output_type": "stream",
       "stream": "stderr",
       "text": [
        "2014-06-07 14:22:39,816 : INFO : topic #1 (0.050): 0.043*you + 0.036*my + 0.022*account + 0.019*some + 0.017*me + 0.014*i'll + 0.013*that + 0.013*with + 0.013*if + 0.013*i'm\n"
       ]
      },
      {
       "output_type": "stream",
       "stream": "stderr",
       "text": [
        "2014-06-07 14:22:39,823 : INFO : topic #12 (0.050): 0.029*it + 0.022*have + 0.021*my + 0.021*if + 0.020*me + 0.017*pay + 0.015*or + 0.015*get + 0.014*will + 0.014*would\n"
       ]
      },
      {
       "output_type": "stream",
       "stream": "stderr",
       "text": [
        "2014-06-07 14:22:39,829 : INFO : topic #17 (0.050): 0.020*edit: + 0.018*my + 0.015*her + 0.014*would + 0.014*me + 0.013*day. + 0.012*than + 0.011*was + 0.010*it + 0.010*on\n"
       ]
      },
      {
       "output_type": "stream",
       "stream": "stderr",
       "text": [
        "2014-06-07 14:22:39,835 : INFO : topic #13 (0.050): 0.025*my + 0.017*on + 0.015*have + 0.015*at + 0.014*would + 0.013*but + 0.012*get + 0.011*money + 0.011*it + 0.010*me\n"
       ]
      },
      {
       "output_type": "stream",
       "stream": "stderr",
       "text": [
        "2014-06-07 14:22:39,848 : INFO : topic #5 (0.050): 0.023*i'd + 0.019*love + 0.017*if + 0.017*hate + 0.014*tonight + 0.014*thought + 0.013*like + 0.013*so + 0.012*this + 0.012*can\n"
       ]
      },
      {
       "output_type": "stream",
       "stream": "stderr",
       "text": [
        "2014-06-07 14:22:39,855 : INFO : topic diff=0.549205, rho=0.316228\n"
       ]
      },
      {
       "output_type": "stream",
       "stream": "stderr",
       "text": [
        "2014-06-07 14:22:39,861 : INFO : PROGRESS: pass 0, at document #1100/4040\n"
       ]
      },
      {
       "output_type": "stream",
       "stream": "stderr",
       "text": [
        "2014-06-07 14:22:40,282 : INFO : merging changes from 100 documents into a model of 4040 documents\n"
       ]
      },
      {
       "output_type": "stream",
       "stream": "stderr",
       "text": [
        "2014-06-07 14:22:40,480 : INFO : topic #19 (0.050): 0.030*nice + 0.024*stuff + 0.020*- + 0.019*free + 0.015*my + 0.015*papa + 0.014*have + 0.013*on + 0.013*couple + 0.012*just\n"
       ]
      },
      {
       "output_type": "stream",
       "stream": "stderr",
       "text": [
        "2014-06-07 14:22:40,486 : INFO : topic #1 (0.050): 0.042*you + 0.034*my + 0.019*some + 0.017*account + 0.015*me + 0.014*i'll + 0.012*that + 0.012*if + 0.012*i'm + 0.012*with\n"
       ]
      },
      {
       "output_type": "stream",
       "stream": "stderr",
       "text": [
        "2014-06-07 14:22:40,490 : INFO : topic #15 (0.050): 0.034*our + 0.026*would + 0.024*we + 0.017*her + 0.016*my + 0.013*have + 0.013*day + 0.013*really + 0.013*we're + 0.012*with\n"
       ]
      },
      {
       "output_type": "stream",
       "stream": "stderr",
       "text": [
        "2014-06-07 14:22:40,496 : INFO : topic #3 (0.050): 0.034*my + 0.018*i'm + 0.017*that + 0.015*he + 0.011*out + 0.010*not + 0.010*ago + 0.010*now + 0.010*was + 0.009*just\n"
       ]
      },
      {
       "output_type": "stream",
       "stream": "stderr",
       "text": [
        "2014-06-07 14:22:40,503 : INFO : topic #5 (0.050): 0.021*i'd + 0.016*if + 0.016*love + 0.015*thought + 0.015*tonight + 0.015*hate + 0.014*like + 0.014*this + 0.012*so + 0.012*up\n"
       ]
      },
      {
       "output_type": "stream",
       "stream": "stderr",
       "text": [
        "2014-06-07 14:22:40,507 : INFO : topic #16 (0.050): 0.044*my + 0.030*i'm + 0.025*been + 0.025*but + 0.023*i've + 0.020*this + 0.013*on + 0.013*few + 0.012*would + 0.012*had\n"
       ]
      },
      {
       "output_type": "stream",
       "stream": "stderr",
       "text": [
        "2014-06-07 14:22:40,513 : INFO : topic #10 (0.050): 0.028*my + 0.027*we + 0.021*have + 0.017*so + 0.016*you + 0.016*can + 0.013*but + 0.012*if + 0.011*are + 0.010*know\n"
       ]
      },
      {
       "output_type": "stream",
       "stream": "stderr",
       "text": [
        "2014-06-07 14:22:40,519 : INFO : topic #8 (0.050): 0.019*my + 0.017*like + 0.016*you + 0.016*are + 0.014*jobs + 0.013*been + 0.012*will + 0.012*weeks. + 0.011*but + 0.011*with\n"
       ]
      },
      {
       "output_type": "stream",
       "stream": "stderr",
       "text": [
        "2014-06-07 14:22:40,529 : INFO : topic #12 (0.050): 0.031*it + 0.022*have + 0.021*my + 0.020*if + 0.019*me + 0.018*pay + 0.015*or + 0.015*get + 0.014*will + 0.014*forward\n"
       ]
      },
      {
       "output_type": "stream",
       "stream": "stderr",
       "text": [
        "2014-06-07 14:22:40,535 : INFO : topic #11 (0.050): 0.017*house + 0.017*today, + 0.017*6 + 0.016*. + 0.016*day + 0.014*tonight + 0.013*full + 0.012*my + 0.011*me + 0.011*sister\n"
       ]
      },
      {
       "output_type": "stream",
       "stream": "stderr",
       "text": [
        "2014-06-07 14:22:40,543 : INFO : topic #18 (0.050): 0.021*provide + 0.019*proof + 0.018*your + 0.018*random + 0.016*us. + 0.014*time, + 0.011*that + 0.010*act + 0.009*mean + 0.009*til\n"
       ]
      },
      {
       "output_type": "stream",
       "stream": "stderr",
       "text": [
        "2014-06-07 14:22:40,551 : INFO : topic #4 (0.050): 0.034*my + 0.019*would + 0.015*with + 0.015*so + 0.014*:) + 0.014*have + 0.014*4 + 0.013*just + 0.012*apartment + 0.012*studying\n"
       ]
      },
      {
       "output_type": "stream",
       "stream": "stderr",
       "text": [
        "2014-06-07 14:22:40,556 : INFO : topic #6 (0.050): 0.020*my + 0.013*this, + 0.012*as + 0.012*ramen + 0.011*hoping + 0.010*feel + 0.010*some + 0.010*one + 0.010*offer + 0.009*:d\n"
       ]
      },
      {
       "output_type": "stream",
       "stream": "stderr",
       "text": [
        "2014-06-07 14:22:40,565 : INFO : topic #0 (0.050): 0.035*my + 0.017*it + 0.016*out + 0.015*me + 0.014*help + 0.013*as + 0.013*this + 0.011*that + 0.011*some + 0.011*get\n"
       ]
      },
      {
       "output_type": "stream",
       "stream": "stderr",
       "text": [
        "2014-06-07 14:22:40,572 : INFO : topic #17 (0.050): 0.020*edit: + 0.018*her + 0.017*my + 0.016*day. + 0.012*would + 0.012*than + 0.011*on + 0.011*me + 0.010*was + 0.010*don't\n"
       ]
      },
      {
       "output_type": "stream",
       "stream": "stderr",
       "text": [
        "2014-06-07 14:22:40,575 : INFO : topic diff=0.528798, rho=0.301511\n"
       ]
      },
      {
       "output_type": "stream",
       "stream": "stderr",
       "text": [
        "2014-06-07 14:22:40,581 : INFO : PROGRESS: pass 0, at document #1200/4040\n"
       ]
      },
      {
       "output_type": "stream",
       "stream": "stderr",
       "text": [
        "2014-06-07 14:22:41,000 : INFO : merging changes from 100 documents into a model of 4040 documents\n"
       ]
      },
      {
       "output_type": "stream",
       "stream": "stderr",
       "text": [
        "2014-06-07 14:22:41,203 : INFO : topic #9 (0.050): 0.017*have + 0.014*my + 0.013*them + 0.013*everything + 0.012*month, + 0.012*huge + 0.010*so + 0.010*send + 0.010*would + 0.009*no\n"
       ]
      },
      {
       "output_type": "stream",
       "stream": "stderr",
       "text": [
        "2014-06-07 14:22:41,210 : INFO : topic #2 (0.050): 0.041*we + 0.014*us + 0.013*are + 0.013*my + 0.013*some + 0.011*craving + 0.011*short + 0.010*thanks + 0.010*our + 0.010*from\n"
       ]
      },
      {
       "output_type": "stream",
       "stream": "stderr",
       "text": [
        "2014-06-07 14:22:41,214 : INFO : topic #7 (0.050): 0.034*bank + 0.016*i'm + 0.014*now + 0.014*sitting + 0.013*reddit + 0.012*wanna + 0.011*right + 0.009*anyone + 0.009*some + 0.009*aid\n"
       ]
      },
      {
       "output_type": "stream",
       "stream": "stderr",
       "text": [
        "2014-06-07 14:22:41,220 : INFO : topic #0 (0.050): 0.035*my + 0.017*me + 0.017*it + 0.015*out + 0.014*help + 0.014*this + 0.012*as + 0.012*get + 0.011*but + 0.011*that\n"
       ]
      },
      {
       "output_type": "stream",
       "stream": "stderr",
       "text": [
        "2014-06-07 14:22:41,226 : INFO : topic #8 (0.050): 0.019*like + 0.018*my + 0.017*you + 0.013*jobs + 0.013*are + 0.013*things + 0.013*been + 0.012*surprise + 0.011*will + 0.010*weeks.\n"
       ]
      },
      {
       "output_type": "stream",
       "stream": "stderr",
       "text": [
        "2014-06-07 14:22:41,232 : INFO : topic #4 (0.050): 0.035*my + 0.019*would + 0.015*with + 0.014*so + 0.013*just + 0.013*have + 0.012*apartment + 0.012*:) + 0.011*&amp; + 0.011*studying\n"
       ]
      },
      {
       "output_type": "stream",
       "stream": "stderr",
       "text": [
        "2014-06-07 14:22:41,236 : INFO : topic #6 (0.050): 0.019*my + 0.013*this, + 0.012*offer + 0.011*hoping + 0.011*as + 0.010*ramen + 0.010*one + 0.010*some + 0.010*out? + 0.009*but\n"
       ]
      },
      {
       "output_type": "stream",
       "stream": "stderr",
       "text": [
        "2014-06-07 14:22:41,243 : INFO : topic #1 (0.050): 0.048*you + 0.032*my + 0.017*some + 0.016*account + 0.015*me + 0.014*if + 0.013*that + 0.013*i'm + 0.012*i'll + 0.012*top\n"
       ]
      },
      {
       "output_type": "stream",
       "stream": "stderr",
       "text": [
        "2014-06-07 14:22:41,247 : INFO : topic #14 (0.050): 0.023*my + 0.014*fridge + 0.014*as + 0.013*that + 0.009*out, + 0.009*gotten + 0.008*have + 0.007*, + 0.007*far + 0.006*they\n"
       ]
      },
      {
       "output_type": "stream",
       "stream": "stderr",
       "text": [
        "2014-06-07 14:22:41,255 : INFO : topic #18 (0.050): 0.021*your + 0.020*provide + 0.017*time, + 0.016*random + 0.015*show + 0.014*proof + 0.014*mean + 0.011*us. + 0.011*til + 0.010*that\n"
       ]
      },
      {
       "output_type": "stream",
       "stream": "stderr",
       "text": [
        "2014-06-07 14:22:41,260 : INFO : topic #16 (0.050): 0.044*my + 0.031*i'm + 0.026*but + 0.026*been + 0.023*i've + 0.021*this + 0.013*on + 0.012*would + 0.012*few + 0.012*not\n"
       ]
      },
      {
       "output_type": "stream",
       "stream": "stderr",
       "text": [
        "2014-06-07 14:22:41,266 : INFO : topic #3 (0.050): 0.035*my + 0.021*he + 0.016*i'm + 0.016*that + 0.011*not + 0.010*he's + 0.010*out + 0.010*if + 0.009*ago + 0.009*was\n"
       ]
      },
      {
       "output_type": "stream",
       "stream": "stderr",
       "text": [
        "2014-06-07 14:22:41,273 : INFO : topic #12 (0.050): 0.029*it + 0.023*have + 0.021*my + 0.020*if + 0.019*pay + 0.019*me + 0.016*will + 0.016*get + 0.016*or + 0.013*on\n"
       ]
      },
      {
       "output_type": "stream",
       "stream": "stderr",
       "text": [
        "2014-06-07 14:22:41,286 : INFO : topic #19 (0.050): 0.027*stuff + 0.025*nice + 0.021*- + 0.019*free + 0.015*worth + 0.014*my + 0.013*papa + 0.013*have + 0.013*on + 0.012*couple\n"
       ]
      },
      {
       "output_type": "stream",
       "stream": "stderr",
       "text": [
        "2014-06-07 14:22:41,290 : INFO : topic #13 (0.050): 0.023*my + 0.017*on + 0.015*at + 0.014*have + 0.014*would + 0.012*but + 0.012*get + 0.010*will + 0.010*it + 0.010*me\n"
       ]
      },
      {
       "output_type": "stream",
       "stream": "stderr",
       "text": [
        "2014-06-07 14:22:41,296 : INFO : topic diff=0.536695, rho=0.288675\n"
       ]
      },
      {
       "output_type": "stream",
       "stream": "stderr",
       "text": [
        "2014-06-07 14:22:41,302 : INFO : PROGRESS: pass 0, at document #1300/4040\n"
       ]
      },
      {
       "output_type": "stream",
       "stream": "stderr",
       "text": [
        "2014-06-07 14:22:41,711 : INFO : merging changes from 100 documents into a model of 4040 documents\n"
       ]
      },
      {
       "output_type": "stream",
       "stream": "stderr",
       "text": [
        "2014-06-07 14:22:41,908 : INFO : topic #10 (0.050): 0.028*my + 0.024*we + 0.021*have + 0.017*can + 0.016*so + 0.014*but + 0.013*you + 0.013*are + 0.012*know + 0.012*if\n"
       ]
      },
      {
       "output_type": "stream",
       "stream": "stderr",
       "text": [
        "2014-06-07 14:22:41,914 : INFO : topic #11 (0.050): 0.022*6 + 0.019*house + 0.017*today, + 0.015*sister + 0.015*day + 0.014*alone + 0.013*hasn't + 0.012*tonight + 0.011*. + 0.010*me\n"
       ]
      },
      {
       "output_type": "stream",
       "stream": "stderr",
       "text": [
        "2014-06-07 14:22:41,920 : INFO : topic #19 (0.050): 0.029*nice + 0.029*free + 0.024*stuff + 0.020*- + 0.016*papa + 0.013*have + 0.013*my + 0.011*on + 0.011*just + 0.011*worth\n"
       ]
      },
      {
       "output_type": "stream",
       "stream": "stderr",
       "text": [
        "2014-06-07 14:22:41,926 : INFO : topic #8 (0.050): 0.017*like + 0.016*my + 0.015*jobs + 0.014*things + 0.014*you + 0.012*are + 0.012*been + 0.012*hard + 0.012*do + 0.011*recently\n"
       ]
      },
      {
       "output_type": "stream",
       "stream": "stderr",
       "text": [
        "2014-06-07 14:22:41,931 : INFO : topic #18 (0.050): 0.026*provide + 0.016*your + 0.015*proof + 0.014*random + 0.014*show + 0.013*time, + 0.013*cheesy + 0.010*act + 0.010*kicked + 0.010*here's\n"
       ]
      },
      {
       "output_type": "stream",
       "stream": "stderr",
       "text": [
        "2014-06-07 14:22:41,937 : INFO : topic #3 (0.050): 0.035*my + 0.019*he + 0.016*that + 0.015*i'm + 0.010*not + 0.010*out + 0.010*an + 0.010*their + 0.009*just + 0.009*so\n"
       ]
      },
      {
       "output_type": "stream",
       "stream": "stderr",
       "text": [
        "2014-06-07 14:22:41,943 : INFO : topic #15 (0.050): 0.028*our + 0.026*would + 0.022*we + 0.021*her + 0.015*day + 0.014*my + 0.014*have + 0.013*with + 0.012*really + 0.012*she\n"
       ]
      },
      {
       "output_type": "stream",
       "stream": "stderr",
       "text": [
        "2014-06-07 14:22:41,948 : INFO : topic #1 (0.050): 0.042*you + 0.031*my + 0.019*some + 0.015*me + 0.015*if + 0.013*order + 0.013*i'll + 0.013*i'm + 0.013*account + 0.012*that\n"
       ]
      },
      {
       "output_type": "stream",
       "stream": "stderr",
       "text": [
        "2014-06-07 14:22:41,954 : INFO : topic #2 (0.050): 0.037*we + 0.014*us + 0.013*some + 0.012*are + 0.012*my + 0.011*craving + 0.010*thanks + 0.010*short + 0.009*our + 0.009*from\n"
       ]
      },
      {
       "output_type": "stream",
       "stream": "stderr",
       "text": [
        "2014-06-07 14:22:41,964 : INFO : topic #4 (0.050): 0.034*my + 0.020*would + 0.015*with + 0.015*so + 0.014*&amp; + 0.013*just + 0.013*have + 0.012*apartment + 0.010*:) + 0.010*much\n"
       ]
      },
      {
       "output_type": "stream",
       "stream": "stderr",
       "text": [
        "2014-06-07 14:22:41,971 : INFO : topic #16 (0.050): 0.044*my + 0.030*i'm + 0.026*been + 0.025*but + 0.022*this + 0.021*i've + 0.013*on + 0.012*would + 0.012*have + 0.012*just\n"
       ]
      },
      {
       "output_type": "stream",
       "stream": "stderr",
       "text": [
        "2014-06-07 14:22:41,980 : INFO : topic #9 (0.050): 0.017*have + 0.015*everything + 0.014*my + 0.011*any + 0.011*month, + 0.010*them + 0.010*so + 0.009*which + 0.009*else + 0.009*huge\n"
       ]
      },
      {
       "output_type": "stream",
       "stream": "stderr",
       "text": [
        "2014-06-07 14:22:41,986 : INFO : topic #0 (0.050): 0.036*my + 0.017*me + 0.016*it + 0.015*this + 0.015*help + 0.015*out + 0.013*get + 0.011*as + 0.011*that + 0.011*but\n"
       ]
      },
      {
       "output_type": "stream",
       "stream": "stderr",
       "text": [
        "2014-06-07 14:22:41,992 : INFO : topic #7 (0.050): 0.040*bank + 0.014*i'm + 0.013*sitting + 0.013*now + 0.013*reddit + 0.011*wanna + 0.010*right + 0.009*aid + 0.009*before, + 0.008*some\n"
       ]
      },
      {
       "output_type": "stream",
       "stream": "stderr",
       "text": [
        "2014-06-07 14:22:41,997 : INFO : topic #17 (0.050): 0.018*edit: + 0.018*her + 0.017*day. + 0.016*my + 0.014*than + 0.012*don't + 0.012*me + 0.011*would + 0.011*on + 0.010*have\n"
       ]
      },
      {
       "output_type": "stream",
       "stream": "stderr",
       "text": [
        "2014-06-07 14:22:42,002 : INFO : topic diff=0.497249, rho=0.277350\n"
       ]
      },
      {
       "output_type": "stream",
       "stream": "stderr",
       "text": [
        "2014-06-07 14:22:42,006 : INFO : PROGRESS: pass 0, at document #1400/4040\n"
       ]
      },
      {
       "output_type": "stream",
       "stream": "stderr",
       "text": [
        "2014-06-07 14:22:42,566 : INFO : merging changes from 100 documents into a model of 4040 documents\n"
       ]
      },
      {
       "output_type": "stream",
       "stream": "stderr",
       "text": [
        "2014-06-07 14:22:42,765 : INFO : topic #13 (0.050): 0.024*my + 0.017*have + 0.016*would + 0.015*on + 0.013*at + 0.013*get + 0.011*but + 0.010*me + 0.010*it + 0.010*out\n"
       ]
      },
      {
       "output_type": "stream",
       "stream": "stderr",
       "text": [
        "2014-06-07 14:22:42,772 : INFO : topic #9 (0.050): 0.016*have + 0.013*my + 0.013*everything + 0.013*else + 0.012*any + 0.010*so + 0.010*them + 0.009*month, + 0.008*would + 0.008*which\n"
       ]
      },
      {
       "output_type": "stream",
       "stream": "stderr",
       "text": [
        "2014-06-07 14:22:42,778 : INFO : topic #15 (0.050): 0.030*our + 0.027*would + 0.026*her + 0.022*we + 0.015*day + 0.015*my + 0.014*have + 0.014*with + 0.011*awesome + 0.011*really\n"
       ]
      },
      {
       "output_type": "stream",
       "stream": "stderr",
       "text": [
        "2014-06-07 14:22:42,783 : INFO : topic #8 (0.050): 0.017*like + 0.015*my + 0.014*jobs + 0.013*are + 0.013*things + 0.012*you + 0.011*surprise + 0.011*been + 0.011*will + 0.010*thanks!\n"
       ]
      },
      {
       "output_type": "stream",
       "stream": "stderr",
       "text": [
        "2014-06-07 14:22:42,789 : INFO : topic #10 (0.050): 0.029*my + 0.028*we + 0.023*have + 0.017*so + 0.017*can + 0.015*but + 0.014*are + 0.013*you + 0.011*know + 0.011*if\n"
       ]
      },
      {
       "output_type": "stream",
       "stream": "stderr",
       "text": [
        "2014-06-07 14:22:42,796 : INFO : topic #14 (0.050): 0.022*my + 0.013*fridge + 0.012*that + 0.012*as + 0.010*far + 0.010*, + 0.009*anything. + 0.008*out, + 0.008*have + 0.007*shitty\n"
       ]
      },
      {
       "output_type": "stream",
       "stream": "stderr",
       "text": [
        "2014-06-07 14:22:42,802 : INFO : topic #18 (0.050): 0.028*provide + 0.016*time, + 0.015*here's + 0.015*random + 0.014*your + 0.014*cheesy + 0.014*proof + 0.012*act + 0.011*mean + 0.011*show\n"
       ]
      },
      {
       "output_type": "stream",
       "stream": "stderr",
       "text": [
        "2014-06-07 14:22:42,809 : INFO : topic #6 (0.050): 0.018*my + 0.016*this, + 0.013*offer + 0.012*hoping + 0.011*ramen + 0.011*some + 0.009*but + 0.009*out? + 0.009*as + 0.008*awesome.\n"
       ]
      },
      {
       "output_type": "stream",
       "stream": "stderr",
       "text": [
        "2014-06-07 14:22:42,815 : INFO : topic #5 (0.050): 0.020*tonight + 0.019*i'd + 0.018*like + 0.017*if + 0.016*love + 0.015*this + 0.015*thought + 0.015*so + 0.014*:( + 0.013*hate\n"
       ]
      },
      {
       "output_type": "stream",
       "stream": "stderr",
       "text": [
        "2014-06-07 14:22:42,823 : INFO : topic #1 (0.050): 0.042*you + 0.029*my + 0.020*some + 0.015*if + 0.014*me + 0.014*i'm + 0.013*account + 0.013*order + 0.012*like + 0.011*i'll\n"
       ]
      },
      {
       "output_type": "stream",
       "stream": "stderr",
       "text": [
        "2014-06-07 14:22:42,831 : INFO : topic #17 (0.050): 0.019*day. + 0.017*edit: + 0.016*my + 0.015*her + 0.013*than + 0.011*would + 0.011*me + 0.011*don't + 0.010*on + 0.009*have\n"
       ]
      },
      {
       "output_type": "stream",
       "stream": "stderr",
       "text": [
        "2014-06-07 14:22:42,838 : INFO : topic #19 (0.050): 0.032*nice + 0.027*free + 0.022*- + 0.020*stuff + 0.014*papa + 0.012*have + 0.012*my + 0.011*just + 0.011*on + 0.010*worth\n"
       ]
      },
      {
       "output_type": "stream",
       "stream": "stderr",
       "text": [
        "2014-06-07 14:22:42,845 : INFO : topic #16 (0.050): 0.047*my + 0.028*i'm + 0.025*been + 0.025*but + 0.021*this + 0.020*i've + 0.013*have + 0.013*would + 0.013*on + 0.012*had\n"
       ]
      },
      {
       "output_type": "stream",
       "stream": "stderr",
       "text": [
        "2014-06-07 14:22:42,851 : INFO : topic #7 (0.050): 0.045*bank + 0.013*i'm + 0.012*sitting + 0.012*now + 0.011*reddit + 0.010*wanna + 0.009*towards + 0.009*some + 0.009*earlier + 0.008*right\n"
       ]
      },
      {
       "output_type": "stream",
       "stream": "stderr",
       "text": [
        "2014-06-07 14:22:42,857 : INFO : topic #0 (0.050): 0.038*my + 0.017*me + 0.017*it + 0.015*this + 0.015*help + 0.014*out + 0.013*get + 0.013*some + 0.012*but + 0.011*have\n"
       ]
      },
      {
       "output_type": "stream",
       "stream": "stderr",
       "text": [
        "2014-06-07 14:22:42,861 : INFO : topic diff=0.483299, rho=0.267261\n"
       ]
      },
      {
       "output_type": "stream",
       "stream": "stderr",
       "text": [
        "2014-06-07 14:22:42,865 : INFO : PROGRESS: pass 0, at document #1500/4040\n"
       ]
      },
      {
       "output_type": "stream",
       "stream": "stderr",
       "text": [
        "2014-06-07 14:22:43,421 : INFO : merging changes from 100 documents into a model of 4040 documents\n"
       ]
      },
      {
       "output_type": "stream",
       "stream": "stderr",
       "text": [
        "2014-06-07 14:22:43,619 : INFO : topic #13 (0.050): 0.024*my + 0.018*have + 0.015*would + 0.015*on + 0.014*at + 0.013*get + 0.011*but + 0.010*me + 0.010*out + 0.010*all\n"
       ]
      },
      {
       "output_type": "stream",
       "stream": "stderr",
       "text": [
        "2014-06-07 14:22:43,625 : INFO : topic #14 (0.050): 0.021*my + 0.014*far + 0.012*that + 0.011*as + 0.011*fridge + 0.008*sort + 0.008*out, + 0.008*anything. + 0.008*have + 0.007*shitty\n"
       ]
      },
      {
       "output_type": "stream",
       "stream": "stderr",
       "text": [
        "2014-06-07 14:22:43,631 : INFO : topic #5 (0.050): 0.022*i'd + 0.020*tonight + 0.019*like + 0.018*if + 0.016*love + 0.013*i'm + 0.013*thought + 0.013*so + 0.013*this + 0.013*:(\n"
       ]
      },
      {
       "output_type": "stream",
       "stream": "stderr",
       "text": [
        "2014-06-07 14:22:43,638 : INFO : topic #12 (0.050): 0.032*it + 0.027*have + 0.023*pay + 0.021*if + 0.020*will + 0.020*my + 0.019*get + 0.016*me + 0.014*or + 0.014*would\n"
       ]
      },
      {
       "output_type": "stream",
       "stream": "stderr",
       "text": [
        "2014-06-07 14:22:43,642 : INFO : topic #1 (0.050): 0.048*you + 0.028*my + 0.019*some + 0.015*if + 0.014*me + 0.013*like + 0.013*i'm + 0.012*account + 0.012*with + 0.011*that\n"
       ]
      },
      {
       "output_type": "stream",
       "stream": "stderr",
       "text": [
        "2014-06-07 14:22:43,648 : INFO : topic #8 (0.050): 0.017*like + 0.014*my + 0.012*will + 0.012*you + 0.012*jobs + 0.012*are + 0.011*surprise + 0.011*things + 0.011*been + 0.011*hard\n"
       ]
      },
      {
       "output_type": "stream",
       "stream": "stderr",
       "text": [
        "2014-06-07 14:22:43,654 : INFO : topic #2 (0.050): 0.037*we + 0.013*us + 0.013*short + 0.011*our + 0.011*my + 0.011*thanks + 0.011*are + 0.011*some + 0.010*craving + 0.010*from\n"
       ]
      },
      {
       "output_type": "stream",
       "stream": "stderr",
       "text": [
        "2014-06-07 14:22:43,658 : INFO : topic #15 (0.050): 0.028*our + 0.026*would + 0.025*we + 0.023*her + 0.016*with + 0.015*my + 0.014*she + 0.014*awesome + 0.014*have + 0.014*day\n"
       ]
      },
      {
       "output_type": "stream",
       "stream": "stderr",
       "text": [
        "2014-06-07 14:22:43,664 : INFO : topic #17 (0.050): 0.016*day. + 0.015*edit: + 0.015*my + 0.013*than + 0.012*her + 0.011*would + 0.011*me + 0.010*don't + 0.010*on + 0.009*make\n"
       ]
      },
      {
       "output_type": "stream",
       "stream": "stderr",
       "text": [
        "2014-06-07 14:22:43,671 : INFO : topic #0 (0.050): 0.039*my + 0.018*me + 0.016*it + 0.015*out + 0.015*this + 0.015*help + 0.014*get + 0.012*with + 0.012*as + 0.012*have\n"
       ]
      },
      {
       "output_type": "stream",
       "stream": "stderr",
       "text": [
        "2014-06-07 14:22:43,677 : INFO : topic #9 (0.050): 0.015*have + 0.013*everything + 0.012*my + 0.010*else + 0.010*month, + 0.010*so + 0.010*any + 0.009*them + 0.009*with + 0.008*amazing.\n"
       ]
      },
      {
       "output_type": "stream",
       "stream": "stderr",
       "text": [
        "2014-06-07 14:22:43,683 : INFO : topic #6 (0.050): 0.017*my + 0.014*this, + 0.011*as + 0.010*out? + 0.010*offer + 0.010*some + 0.010*hoping + 0.009*:d + 0.009*better + 0.009*ramen\n"
       ]
      },
      {
       "output_type": "stream",
       "stream": "stderr",
       "text": [
        "2014-06-07 14:22:43,690 : INFO : topic #18 (0.050): 0.030*provide + 0.019*proof + 0.019*time, + 0.016*your + 0.015*random + 0.014*here's + 0.012*kicked + 0.011*cheesy + 0.010*grateful + 0.010*show\n"
       ]
      },
      {
       "output_type": "stream",
       "stream": "stderr",
       "text": [
        "2014-06-07 14:22:43,700 : INFO : topic #11 (0.050): 0.023*house + 0.020*today, + 0.017*hasn't + 0.017*6 + 0.015*alone + 0.015*sister + 0.014*dog + 0.012*day + 0.011*watch + 0.011*.\n"
       ]
      },
      {
       "output_type": "stream",
       "stream": "stderr",
       "text": [
        "2014-06-07 14:22:43,706 : INFO : topic #10 (0.050): 0.028*we + 0.028*my + 0.026*have + 0.017*can + 0.016*so + 0.015*but + 0.013*you + 0.012*are + 0.011*with + 0.010*know\n"
       ]
      },
      {
       "output_type": "stream",
       "stream": "stderr",
       "text": [
        "2014-06-07 14:22:43,710 : INFO : topic diff=0.478174, rho=0.258199\n"
       ]
      },
      {
       "output_type": "stream",
       "stream": "stderr",
       "text": [
        "2014-06-07 14:22:43,716 : INFO : PROGRESS: pass 0, at document #1600/4040\n"
       ]
      },
      {
       "output_type": "stream",
       "stream": "stderr",
       "text": [
        "2014-06-07 14:22:44,102 : INFO : merging changes from 100 documents into a model of 4040 documents\n"
       ]
      },
      {
       "output_type": "stream",
       "stream": "stderr",
       "text": [
        "2014-06-07 14:22:44,301 : INFO : topic #16 (0.050): 0.047*my + 0.027*i'm + 0.024*been + 0.024*but + 0.019*i've + 0.017*this + 0.014*have + 0.013*would + 0.012*last + 0.012*on\n"
       ]
      },
      {
       "output_type": "stream",
       "stream": "stderr",
       "text": [
        "2014-06-07 14:22:44,305 : INFO : topic #17 (0.050): 0.018*edit: + 0.017*day. + 0.015*my + 0.013*than + 0.012*would + 0.012*me + 0.012*her + 0.012*don't + 0.010*on + 0.009*have\n"
       ]
      },
      {
       "output_type": "stream",
       "stream": "stderr",
       "text": [
        "2014-06-07 14:22:44,312 : INFO : topic #19 (0.050): 0.035*nice + 0.021*- + 0.018*free + 0.016*stuff + 0.015*papa + 0.012*have + 0.011*managed + 0.011*my + 0.010*birthday + 0.009*on\n"
       ]
      },
      {
       "output_type": "stream",
       "stream": "stderr",
       "text": [
        "2014-06-07 14:22:44,319 : INFO : topic #4 (0.050): 0.031*my + 0.022*would + 0.018*with + 0.014*have + 0.013*so + 0.011*just + 0.011*apartment + 0.011*own + 0.010*verification + 0.010*&amp;\n"
       ]
      },
      {
       "output_type": "stream",
       "stream": "stderr",
       "text": [
        "2014-06-07 14:22:44,323 : INFO : topic #5 (0.050): 0.024*i'd + 0.020*tonight + 0.019*like + 0.018*love + 0.017*if + 0.014*:( + 0.013*this + 0.013*so + 0.013*thought + 0.013*i'm\n"
       ]
      },
      {
       "output_type": "stream",
       "stream": "stderr",
       "text": [
        "2014-06-07 14:22:44,329 : INFO : topic #11 (0.050): 0.021*today, + 0.019*alone + 0.019*house + 0.018*6 + 0.015*sister + 0.014*hasn't + 0.014*watch + 0.012*dog + 0.011*. + 0.010*day\n"
       ]
      },
      {
       "output_type": "stream",
       "stream": "stderr",
       "text": [
        "2014-06-07 14:22:44,335 : INFO : topic #9 (0.050): 0.014*everything + 0.013*have + 0.011*my + 0.011*amazing. + 0.009*month, + 0.009*so + 0.009*guys! + 0.009*any + 0.009*10 + 0.008*huge\n"
       ]
      },
      {
       "output_type": "stream",
       "stream": "stderr",
       "text": [
        "2014-06-07 14:22:44,341 : INFO : topic #12 (0.050): 0.034*it + 0.027*have + 0.022*if + 0.022*pay + 0.020*will + 0.019*my + 0.019*get + 0.016*me + 0.014*would + 0.014*when\n"
       ]
      },
      {
       "output_type": "stream",
       "stream": "stderr",
       "text": [
        "2014-06-07 14:22:44,348 : INFO : topic #8 (0.050): 0.016*like + 0.014*my + 0.012*you + 0.012*are + 0.012*hard + 0.012*jobs + 0.012*things + 0.010*will + 0.010*been + 0.010*with\n"
       ]
      },
      {
       "output_type": "stream",
       "stream": "stderr",
       "text": [
        "2014-06-07 14:22:44,355 : INFO : topic #15 (0.050): 0.027*our + 0.026*we + 0.025*would + 0.024*her + 0.016*with + 0.014*my + 0.014*day + 0.014*she + 0.013*have + 0.013*an\n"
       ]
      },
      {
       "output_type": "stream",
       "stream": "stderr",
       "text": [
        "2014-06-07 14:22:44,359 : INFO : topic #18 (0.050): 0.023*provide + 0.018*time, + 0.018*random + 0.017*act + 0.016*your + 0.015*grateful + 0.014*proof + 0.014*show + 0.012*here's + 0.011*kicked\n"
       ]
      },
      {
       "output_type": "stream",
       "stream": "stderr",
       "text": [
        "2014-06-07 14:22:44,365 : INFO : topic #10 (0.050): 0.029*we + 0.027*my + 0.025*have + 0.017*can + 0.016*so + 0.015*but + 0.015*are + 0.014*you + 0.011*with + 0.011*know\n"
       ]
      },
      {
       "output_type": "stream",
       "stream": "stderr",
       "text": [
        "2014-06-07 14:22:44,372 : INFO : topic #14 (0.050): 0.020*my + 0.012*that + 0.012*fridge + 0.011*far + 0.011*as + 0.008*out, + 0.008*kitchen + 0.007*have + 0.007*sort + 0.007*especially\n"
       ]
      },
      {
       "output_type": "stream",
       "stream": "stderr",
       "text": [
        "2014-06-07 14:22:44,381 : INFO : topic #1 (0.050): 0.050*you + 0.026*my + 0.020*some + 0.016*if + 0.014*i'm + 0.013*me + 0.013*like + 0.012*that + 0.012*account + 0.012*want\n"
       ]
      },
      {
       "output_type": "stream",
       "stream": "stderr",
       "text": [
        "2014-06-07 14:22:44,387 : INFO : topic #7 (0.050): 0.041*bank + 0.012*i'm + 0.011*sitting + 0.011*now + 0.011*playing + 0.010*right + 0.009*wish + 0.008*reddit + 0.007*some + 0.007*crappy\n"
       ]
      },
      {
       "output_type": "stream",
       "stream": "stderr",
       "text": [
        "2014-06-07 14:22:44,392 : INFO : topic diff=0.500750, rho=0.250000\n"
       ]
      },
      {
       "output_type": "stream",
       "stream": "stderr",
       "text": [
        "2014-06-07 14:22:44,397 : INFO : PROGRESS: pass 0, at document #1700/4040\n"
       ]
      },
      {
       "output_type": "stream",
       "stream": "stderr",
       "text": [
        "2014-06-07 14:22:44,759 : INFO : merging changes from 100 documents into a model of 4040 documents\n"
       ]
      },
      {
       "output_type": "stream",
       "stream": "stderr",
       "text": [
        "2014-06-07 14:22:44,953 : INFO : topic #11 (0.050): 0.021*alone + 0.020*today, + 0.018*6 + 0.017*hasn't + 0.014*hospital + 0.014*house + 0.012*watch + 0.012*sister + 0.011*power + 0.009*special\n"
       ]
      },
      {
       "output_type": "stream",
       "stream": "stderr",
       "text": [
        "2014-06-07 14:22:44,959 : INFO : topic #7 (0.050): 0.040*bank + 0.012*i'm + 0.012*sitting + 0.011*towards + 0.010*playing + 0.010*now + 0.009*right + 0.009*reddit + 0.008*wish + 0.007*aid\n"
       ]
      },
      {
       "output_type": "stream",
       "stream": "stderr",
       "text": [
        "2014-06-07 14:22:44,964 : INFO : topic #19 (0.050): 0.031*nice + 0.019*- + 0.019*papa + 0.018*stuff + 0.018*free + 0.011*have + 0.010*worth + 0.010*my + 0.010*birthday + 0.010*on\n"
       ]
      },
      {
       "output_type": "stream",
       "stream": "stderr",
       "text": [
        "2014-06-07 14:22:44,970 : INFO : topic #4 (0.050): 0.030*my + 0.022*would + 0.017*with + 0.014*verification + 0.013*so + 0.013*have + 0.011*own + 0.010*whatever + 0.010*just + 0.010*apartment\n"
       ]
      },
      {
       "output_type": "stream",
       "stream": "stderr",
       "text": [
        "2014-06-07 14:22:44,976 : INFO : topic #14 (0.050): 0.018*my + 0.013*far + 0.013*that + 0.011*as + 0.010*out, + 0.009*fridge + 0.007*have + 0.007*especially + 0.006*shitty + 0.006*kitchen\n"
       ]
      },
      {
       "output_type": "stream",
       "stream": "stderr",
       "text": [
        "2014-06-07 14:22:44,982 : INFO : topic #0 (0.050): 0.037*my + 0.019*me + 0.017*out + 0.016*it + 0.015*help + 0.014*this + 0.014*as + 0.013*get + 0.013*with + 0.012*some\n"
       ]
      },
      {
       "output_type": "stream",
       "stream": "stderr",
       "text": [
        "2014-06-07 14:22:44,986 : INFO : topic #18 (0.050): 0.031*provide + 0.024*random + 0.018*time, + 0.018*here's + 0.016*proof + 0.016*act + 0.015*your + 0.012*show + 0.012*mean + 0.010*grateful\n"
       ]
      },
      {
       "output_type": "stream",
       "stream": "stderr",
       "text": [
        "2014-06-07 14:22:44,993 : INFO : topic #6 (0.050): 0.015*my + 0.012*better + 0.012*ramen + 0.011*this, + 0.011*:d + 0.010*some + 0.010*one + 0.009*hoping + 0.009*long + 0.009*two\n"
       ]
      },
      {
       "output_type": "stream",
       "stream": "stderr",
       "text": [
        "2014-06-07 14:22:44,997 : INFO : topic #13 (0.050): 0.023*my + 0.017*have + 0.016*would + 0.014*on + 0.013*at + 0.011*go + 0.011*get + 0.010*me + 0.010*but + 0.010*out\n"
       ]
      },
      {
       "output_type": "stream",
       "stream": "stderr",
       "text": [
        "2014-06-07 14:22:45,003 : INFO : topic #16 (0.050): 0.046*my + 0.027*i'm + 0.025*been + 0.023*but + 0.019*i've + 0.017*this + 0.014*have + 0.012*on + 0.012*would + 0.012*last\n"
       ]
      },
      {
       "output_type": "stream",
       "stream": "stderr",
       "text": [
        "2014-06-07 14:22:45,009 : INFO : topic #5 (0.050): 0.023*i'd + 0.020*tonight + 0.018*love + 0.018*like + 0.016*if + 0.014*this + 0.014*im + 0.013*so + 0.012*thought + 0.012*i'm\n"
       ]
      },
      {
       "output_type": "stream",
       "stream": "stderr",
       "text": [
        "2014-06-07 14:22:45,016 : INFO : topic #15 (0.050): 0.028*our + 0.027*her + 0.026*we + 0.023*would + 0.015*she + 0.015*afford + 0.015*day + 0.014*with + 0.013*my + 0.013*have\n"
       ]
      },
      {
       "output_type": "stream",
       "stream": "stderr",
       "text": [
        "2014-06-07 14:22:45,022 : INFO : topic #9 (0.050): 0.013*have + 0.012*everything + 0.010*my + 0.010*10 + 0.009*online + 0.009*else + 0.009*so + 0.009*amazing. + 0.008*any + 0.008*hey,\n"
       ]
      },
      {
       "output_type": "stream",
       "stream": "stderr",
       "text": [
        "2014-06-07 14:22:45,029 : INFO : topic #17 (0.050): 0.017*edit: + 0.015*day. + 0.014*my + 0.012*would + 0.011*me + 0.011*don't + 0.011*than + 0.011*picture + 0.010*her + 0.010*on\n"
       ]
      },
      {
       "output_type": "stream",
       "stream": "stderr",
       "text": [
        "2014-06-07 14:22:45,042 : INFO : topic #12 (0.050): 0.034*it + 0.026*have + 0.022*if + 0.021*pay + 0.020*get + 0.019*will + 0.018*my + 0.016*me + 0.014*would + 0.013*or\n"
       ]
      },
      {
       "output_type": "stream",
       "stream": "stderr",
       "text": [
        "2014-06-07 14:22:45,048 : INFO : topic diff=0.475464, rho=0.242536\n"
       ]
      },
      {
       "output_type": "stream",
       "stream": "stderr",
       "text": [
        "2014-06-07 14:22:45,053 : INFO : PROGRESS: pass 0, at document #1800/4040\n"
       ]
      },
      {
       "output_type": "stream",
       "stream": "stderr",
       "text": [
        "2014-06-07 14:22:45,496 : INFO : merging changes from 100 documents into a model of 4040 documents\n"
       ]
      },
      {
       "output_type": "stream",
       "stream": "stderr",
       "text": [
        "2014-06-07 14:22:45,694 : INFO : topic #10 (0.050): 0.032*we + 0.027*my + 0.024*have + 0.018*so + 0.017*are + 0.016*can + 0.015*but + 0.013*you + 0.010*if + 0.010*know\n"
       ]
      },
      {
       "output_type": "stream",
       "stream": "stderr",
       "text": [
        "2014-06-07 14:22:45,700 : INFO : topic #1 (0.050): 0.048*you + 0.025*my + 0.019*some + 0.016*account + 0.016*that + 0.015*i'm + 0.015*if + 0.014*like + 0.014*want + 0.014*me\n"
       ]
      },
      {
       "output_type": "stream",
       "stream": "stderr",
       "text": [
        "2014-06-07 14:22:45,707 : INFO : topic #16 (0.050): 0.046*my + 0.029*i'm + 0.025*been + 0.023*but + 0.018*i've + 0.017*this + 0.015*have + 0.013*on + 0.013*would + 0.012*had\n"
       ]
      },
      {
       "output_type": "stream",
       "stream": "stderr",
       "text": [
        "2014-06-07 14:22:45,713 : INFO : topic #0 (0.050): 0.038*my + 0.020*me + 0.018*out + 0.016*it + 0.015*help + 0.015*this + 0.014*as + 0.013*with + 0.012*get + 0.012*that\n"
       ]
      },
      {
       "output_type": "stream",
       "stream": "stderr",
       "text": [
        "2014-06-07 14:22:45,719 : INFO : topic #11 (0.050): 0.020*alone + 0.018*6 + 0.017*house + 0.017*today, + 0.015*hasn't + 0.013*hospital + 0.012*sister + 0.011*day + 0.010*power + 0.009*tonight\n"
       ]
      },
      {
       "output_type": "stream",
       "stream": "stderr",
       "text": [
        "2014-06-07 14:22:45,723 : INFO : topic #12 (0.050): 0.034*it + 0.026*have + 0.022*if + 0.021*pay + 0.019*will + 0.019*get + 0.018*my + 0.016*me + 0.014*or + 0.014*you\n"
       ]
      },
      {
       "output_type": "stream",
       "stream": "stderr",
       "text": [
        "2014-06-07 14:22:45,730 : INFO : topic #9 (0.050): 0.012*have + 0.012*everything + 0.010*else + 0.010*my + 0.010*10 + 0.009*any + 0.009*online + 0.009*well, + 0.009*so + 0.008*amazing.\n"
       ]
      },
      {
       "output_type": "stream",
       "stream": "stderr",
       "text": [
        "2014-06-07 14:22:45,734 : INFO : topic #8 (0.050): 0.016*ever + 0.015*like + 0.013*you + 0.013*jobs + 0.012*my + 0.012*are + 0.011*things + 0.011*save + 0.011** + 0.011*hard\n"
       ]
      },
      {
       "output_type": "stream",
       "stream": "stderr",
       "text": [
        "2014-06-07 14:22:45,740 : INFO : topic #7 (0.050): 0.044*bank + 0.013*sitting + 0.012*i'm + 0.010*towards + 0.010*hoping + 0.009*bad + 0.009*now + 0.008*reddit + 0.008*playing + 0.008*right\n"
       ]
      },
      {
       "output_type": "stream",
       "stream": "stderr",
       "text": [
        "2014-06-07 14:22:45,746 : INFO : topic #6 (0.050): 0.014*my + 0.011*better + 0.011*ramen + 0.010*one + 0.009*some + 0.009*this, + 0.008*then + 0.008*:d + 0.008*two + 0.008*awesome.\n"
       ]
      },
      {
       "output_type": "stream",
       "stream": "stderr",
       "text": [
        "2014-06-07 14:22:45,752 : INFO : topic #19 (0.050): 0.030*nice + 0.018*free + 0.018*- + 0.018*papa + 0.015*stuff + 0.010*managed + 0.010*1 + 0.010*have + 0.010*worth + 0.010*on\n"
       ]
      },
      {
       "output_type": "stream",
       "stream": "stderr",
       "text": [
        "2014-06-07 14:22:45,757 : INFO : topic #18 (0.050): 0.033*provide + 0.022*random + 0.020*proof + 0.019*here's + 0.016*time, + 0.016*act + 0.012*your + 0.011*grateful + 0.009*kicked + 0.009*cheesy\n"
       ]
      },
      {
       "output_type": "stream",
       "stream": "stderr",
       "text": [
        "2014-06-07 14:22:45,763 : INFO : topic #13 (0.050): 0.023*my + 0.017*have + 0.015*would + 0.014*on + 0.013*at + 0.012*go + 0.011*no + 0.011*money + 0.011*but + 0.010*out\n"
       ]
      },
      {
       "output_type": "stream",
       "stream": "stderr",
       "text": [
        "2014-06-07 14:22:45,770 : INFO : topic #17 (0.050): 0.019*edit: + 0.015*picture + 0.014*my + 0.013*day. + 0.011*me + 0.011*would + 0.011*her + 0.010*less + 0.009*don't + 0.009*than\n"
       ]
      },
      {
       "output_type": "stream",
       "stream": "stderr",
       "text": [
        "2014-06-07 14:22:45,782 : INFO : topic #3 (0.050): 0.034*my + 0.019*he + 0.016*that + 0.015*was + 0.013*out + 0.013*i'm + 0.011*now + 0.011*an + 0.010*their + 0.010*ago\n"
       ]
      },
      {
       "output_type": "stream",
       "stream": "stderr",
       "text": [
        "2014-06-07 14:22:45,786 : INFO : topic diff=0.552661, rho=0.235702\n"
       ]
      },
      {
       "output_type": "stream",
       "stream": "stderr",
       "text": [
        "2014-06-07 14:22:45,790 : INFO : PROGRESS: pass 0, at document #1900/4040\n"
       ]
      },
      {
       "output_type": "stream",
       "stream": "stderr",
       "text": [
        "2014-06-07 14:22:46,190 : INFO : merging changes from 100 documents into a model of 4040 documents\n"
       ]
      },
      {
       "output_type": "stream",
       "stream": "stderr",
       "text": [
        "2014-06-07 14:22:46,384 : INFO : topic #10 (0.050): 0.033*we + 0.027*my + 0.024*have + 0.019*are + 0.018*so + 0.014*can + 0.014*but + 0.012*you + 0.010*with + 0.010*our\n"
       ]
      },
      {
       "output_type": "stream",
       "stream": "stderr",
       "text": [
        "2014-06-07 14:22:46,391 : INFO : topic #14 (0.050): 0.017*my + 0.014*far + 0.013*that + 0.011*out, + 0.010*fridge + 0.010*as + 0.009*especially + 0.008*sort + 0.008*shitty + 0.007*meat\n"
       ]
      },
      {
       "output_type": "stream",
       "stream": "stderr",
       "text": [
        "2014-06-07 14:22:46,397 : INFO : topic #9 (0.050): 0.012*have + 0.010*everything + 0.010*well, + 0.010*my + 0.009*else + 0.009*super + 0.009*10 + 0.009*area. + 0.009*any + 0.008*so\n"
       ]
      },
      {
       "output_type": "stream",
       "stream": "stderr",
       "text": [
        "2014-06-07 14:22:46,401 : INFO : topic #2 (0.050): 0.038*we + 0.014*gift + 0.014*are + 0.014*us + 0.012*some + 0.011*write + 0.010*our + 0.010*thanks + 0.009*craving + 0.009*it!\n"
       ]
      },
      {
       "output_type": "stream",
       "stream": "stderr",
       "text": [
        "2014-06-07 14:22:46,407 : INFO : topic #5 (0.050): 0.023*i'd + 0.018*love + 0.018*tonight + 0.018*like + 0.015*if + 0.014*thought + 0.014*:( + 0.014*this + 0.013*i'm + 0.012*so\n"
       ]
      },
      {
       "output_type": "stream",
       "stream": "stderr",
       "text": [
        "2014-06-07 14:22:46,413 : INFO : topic #12 (0.050): 0.035*it + 0.026*have + 0.022*if + 0.020*pay + 0.018*my + 0.018*will + 0.017*get + 0.017*me + 0.014*you + 0.014*would\n"
       ]
      },
      {
       "output_type": "stream",
       "stream": "stderr",
       "text": [
        "2014-06-07 14:22:46,418 : INFO : topic #17 (0.050): 0.020*edit: + 0.014*my + 0.012*day. + 0.011*picture + 0.011*me + 0.011*would + 0.010*than + 0.009*don't + 0.009*on + 0.009*her\n"
       ]
      },
      {
       "output_type": "stream",
       "stream": "stderr",
       "text": [
        "2014-06-07 14:22:46,424 : INFO : topic #1 (0.050): 0.047*you + 0.024*my + 0.019*some + 0.016*account + 0.016*i'm + 0.015*that + 0.014*want + 0.014*if + 0.013*me + 0.013*like\n"
       ]
      },
      {
       "output_type": "stream",
       "stream": "stderr",
       "text": [
        "2014-06-07 14:22:46,430 : INFO : topic #3 (0.050): 0.036*my + 0.021*he + 0.017*that + 0.015*was + 0.013*their + 0.013*out + 0.012*i'm + 0.011*an + 0.010*his + 0.009*all\n"
       ]
      },
      {
       "output_type": "stream",
       "stream": "stderr",
       "text": [
        "2014-06-07 14:22:46,437 : INFO : topic #18 (0.050): 0.036*provide + 0.027*random + 0.020*proof + 0.019*act + 0.017*here's + 0.012*time, + 0.012*your + 0.012*grateful + 0.011*kicked + 0.011*mean\n"
       ]
      },
      {
       "output_type": "stream",
       "stream": "stderr",
       "text": [
        "2014-06-07 14:22:46,443 : INFO : topic #8 (0.050): 0.017*ever + 0.014*save + 0.014*like + 0.013*you + 0.013*jobs + 0.012*things + 0.012*hard + 0.012*are + 0.011*my + 0.010*those\n"
       ]
      },
      {
       "output_type": "stream",
       "stream": "stderr",
       "text": [
        "2014-06-07 14:22:46,454 : INFO : topic #11 (0.050): 0.024*today, + 0.019*6 + 0.018*alone + 0.018*house + 0.017*hasn't + 0.016*. + 0.013*hospital + 0.013*university + 0.011*watch + 0.010*day\n"
       ]
      },
      {
       "output_type": "stream",
       "stream": "stderr",
       "text": [
        "2014-06-07 14:22:46,460 : INFO : topic #13 (0.050): 0.024*my + 0.017*would + 0.017*have + 0.015*on + 0.013*go + 0.012*at + 0.011*no + 0.011*some + 0.011*till + 0.010*me\n"
       ]
      },
      {
       "output_type": "stream",
       "stream": "stderr",
       "text": [
        "2014-06-07 14:22:46,467 : INFO : topic #19 (0.050): 0.029*nice + 0.021*free + 0.017*papa + 0.014*stuff + 0.013*- + 0.011*pick + 0.011*hello, + 0.010*on + 0.010*1 + 0.010*birthday\n"
       ]
      },
      {
       "output_type": "stream",
       "stream": "stderr",
       "text": [
        "2014-06-07 14:22:46,471 : INFO : topic #4 (0.050): 0.029*my + 0.023*would + 0.018*with + 0.012*verification + 0.012*have + 0.012*:) + 0.012*apartment + 0.012*just + 0.011*so + 0.011*own\n"
       ]
      },
      {
       "output_type": "stream",
       "stream": "stderr",
       "text": [
        "2014-06-07 14:22:46,476 : INFO : topic diff=0.502536, rho=0.229416\n"
       ]
      },
      {
       "output_type": "stream",
       "stream": "stderr",
       "text": [
        "2014-06-07 14:22:47,381 : INFO : -10.010 per-word bound, 1031.4 perplexity estimate based on a held-out corpus of 100 documents with 6394 words\n"
       ]
      },
      {
       "output_type": "stream",
       "stream": "stderr",
       "text": [
        "2014-06-07 14:22:47,381 : INFO : PROGRESS: pass 0, at document #2000/4040\n"
       ]
      },
      {
       "output_type": "stream",
       "stream": "stderr",
       "text": [
        "2014-06-07 14:22:47,881 : INFO : merging changes from 100 documents into a model of 4040 documents\n"
       ]
      },
      {
       "output_type": "stream",
       "stream": "stderr",
       "text": [
        "2014-06-07 14:22:48,075 : INFO : topic #8 (0.050): 0.016*jobs + 0.016*hard + 0.016*things + 0.014*ever + 0.014*like + 0.012*save + 0.011*you + 0.011*are + 0.011*times + 0.011*my\n"
       ]
      },
      {
       "output_type": "stream",
       "stream": "stderr",
       "text": [
        "2014-06-07 14:22:48,082 : INFO : topic #16 (0.050): 0.046*my + 0.028*i'm + 0.028*been + 0.022*but + 0.018*this + 0.018*i've + 0.015*have + 0.015*on + 0.013*would + 0.012*had\n"
       ]
      },
      {
       "output_type": "stream",
       "stream": "stderr",
       "text": [
        "2014-06-07 14:22:48,088 : INFO : topic #11 (0.050): 0.026*today, + 0.021*house + 0.020*alone + 0.017*hasn't + 0.016*6 + 0.014*. + 0.014*sister + 0.012*power + 0.012*hospital + 0.011*day\n"
       ]
      },
      {
       "output_type": "stream",
       "stream": "stderr",
       "text": [
        "2014-06-07 14:22:48,095 : INFO : topic #14 (0.050): 0.017*my + 0.013*fridge + 0.013*far + 0.013*that + 0.011*pizza? + 0.010*out, + 0.010*especially + 0.009*as + 0.008*shitty + 0.007*sort\n"
       ]
      },
      {
       "output_type": "stream",
       "stream": "stderr",
       "text": [
        "2014-06-07 14:22:48,102 : INFO : topic #4 (0.050): 0.029*my + 0.024*would + 0.018*with + 0.015*:) + 0.012*apartment + 0.012*im + 0.012*have + 0.011*own + 0.011*just + 0.011*so\n"
       ]
      },
      {
       "output_type": "stream",
       "stream": "stderr",
       "text": [
        "2014-06-07 14:22:48,108 : INFO : topic #19 (0.050): 0.033*nice + 0.018*free + 0.017*papa + 0.015*stuff + 0.012*- + 0.011*on + 0.010*things + 0.010*hello, + 0.009*hold + 0.009*worth\n"
       ]
      },
      {
       "output_type": "stream",
       "stream": "stderr",
       "text": [
        "2014-06-07 14:22:48,114 : INFO : topic #3 (0.050): 0.034*my + 0.020*he + 0.018*that + 0.017*was + 0.013*out + 0.012*their + 0.011*his + 0.011*i'm + 0.011*him + 0.009*so\n"
       ]
      },
      {
       "output_type": "stream",
       "stream": "stderr",
       "text": [
        "2014-06-07 14:22:48,119 : INFO : topic #18 (0.050): 0.036*provide + 0.028*random + 0.020*act + 0.019*proof + 0.018*mean + 0.016*here's + 0.013*time, + 0.012*grateful + 0.011*show + 0.010*your\n"
       ]
      },
      {
       "output_type": "stream",
       "stream": "stderr",
       "text": [
        "2014-06-07 14:22:48,125 : INFO : topic #6 (0.050): 0.014*better + 0.013*my + 0.012*pie + 0.011*offer + 0.009*hoping + 0.009*up, + 0.009*this, + 0.009*long + 0.009*one + 0.009*ramen\n"
       ]
      },
      {
       "output_type": "stream",
       "stream": "stderr",
       "text": [
        "2014-06-07 14:22:48,131 : INFO : topic #2 (0.050): 0.038*we + 0.019*gift + 0.016*us + 0.013*are + 0.013*craving + 0.011*some + 0.010*thanks + 0.010*short + 0.009*write + 0.009*our\n"
       ]
      },
      {
       "output_type": "stream",
       "stream": "stderr",
       "text": [
        "2014-06-07 14:22:48,138 : INFO : topic #9 (0.050): 0.013*everything + 0.010*have + 0.010*hey, + 0.009*my + 0.009*super + 0.009*10 + 0.009*any + 0.008*else + 0.008*guys! + 0.008*well,\n"
       ]
      },
      {
       "output_type": "stream",
       "stream": "stderr",
       "text": [
        "2014-06-07 14:22:48,144 : INFO : topic #5 (0.050): 0.024*i'd + 0.019*tonight + 0.019*like + 0.018*love + 0.016*thought + 0.014*this + 0.014*if + 0.012*i'm + 0.012*im + 0.012*:(\n"
       ]
      },
      {
       "output_type": "stream",
       "stream": "stderr",
       "text": [
        "2014-06-07 14:22:48,151 : INFO : topic #13 (0.050): 0.024*my + 0.017*would + 0.016*on + 0.016*have + 0.013*at + 0.011*go + 0.011*some + 0.011*me + 0.010*student + 0.010*no\n"
       ]
      },
      {
       "output_type": "stream",
       "stream": "stderr",
       "text": [
        "2014-06-07 14:22:48,157 : INFO : topic #0 (0.050): 0.041*my + 0.020*me + 0.018*out + 0.016*it + 0.014*as + 0.014*this + 0.014*help + 0.013*with + 0.012*that + 0.012*some\n"
       ]
      },
      {
       "output_type": "stream",
       "stream": "stderr",
       "text": [
        "2014-06-07 14:22:48,164 : INFO : topic #7 (0.050): 0.039*bank + 0.012*bad + 0.010*hoping + 0.010*sitting + 0.010*problems + 0.010*i'm + 0.008*debit + 0.008*reddit + 0.007*now + 0.007*reddit!\n"
       ]
      },
      {
       "output_type": "stream",
       "stream": "stderr",
       "text": [
        "2014-06-07 14:22:48,168 : INFO : topic diff=0.541741, rho=0.223607\n"
       ]
      },
      {
       "output_type": "stream",
       "stream": "stderr",
       "text": [
        "2014-06-07 14:22:48,174 : INFO : PROGRESS: pass 0, at document #2100/4040\n"
       ]
      },
      {
       "output_type": "stream",
       "stream": "stderr",
       "text": [
        "2014-06-07 14:22:48,696 : INFO : merging changes from 100 documents into a model of 4040 documents\n"
       ]
      },
      {
       "output_type": "stream",
       "stream": "stderr",
       "text": [
        "2014-06-07 14:22:48,891 : INFO : topic #5 (0.050): 0.023*i'd + 0.023*tonight + 0.020*like + 0.019*love + 0.018*thought + 0.014*if + 0.013*:( + 0.013*i'm + 0.013*this + 0.012*payday\n"
       ]
      },
      {
       "output_type": "stream",
       "stream": "stderr",
       "text": [
        "2014-06-07 14:22:48,897 : INFO : topic #11 (0.050): 0.033*today, + 0.021*house + 0.018*alone + 0.017*6 + 0.014*hasn't + 0.014*sister + 0.012*. + 0.012*power + 0.011*day + 0.010*watch\n"
       ]
      },
      {
       "output_type": "stream",
       "stream": "stderr",
       "text": [
        "2014-06-07 14:22:48,903 : INFO : topic #17 (0.050): 0.019*day. + 0.018*edit: + 0.013*said + 0.013*my + 0.012*hope + 0.010*me + 0.010*would + 0.010*than + 0.009*don't + 0.009*picture\n"
       ]
      },
      {
       "output_type": "stream",
       "stream": "stderr",
       "text": [
        "2014-06-07 14:22:48,908 : INFO : topic #7 (0.050): 0.042*bank + 0.012*bad + 0.011*sitting + 0.010*i'm + 0.009*hoping + 0.008*problems + 0.008*answer + 0.008*reddit + 0.007*wish + 0.007*earlier\n"
       ]
      },
      {
       "output_type": "stream",
       "stream": "stderr",
       "text": [
        "2014-06-07 14:22:48,915 : INFO : topic #1 (0.050): 0.048*you + 0.024*my + 0.018*some + 0.016*account + 0.015*i'm + 0.015*that + 0.015*if + 0.015*want + 0.013*like + 0.012*me\n"
       ]
      },
      {
       "output_type": "stream",
       "stream": "stderr",
       "text": [
        "2014-06-07 14:22:48,921 : INFO : topic #4 (0.050): 0.027*my + 0.026*would + 0.016*with + 0.015*apartment + 0.015*:) + 0.013*verification + 0.012*own + 0.012*have + 0.011*just + 0.011*means\n"
       ]
      },
      {
       "output_type": "stream",
       "stream": "stderr",
       "text": [
        "2014-06-07 14:22:48,927 : INFO : topic #13 (0.050): 0.025*my + 0.017*would + 0.016*have + 0.016*on + 0.012*at + 0.012*go + 0.011*student + 0.011*till + 0.011*no + 0.011*me\n"
       ]
      },
      {
       "output_type": "stream",
       "stream": "stderr",
       "text": [
        "2014-06-07 14:22:48,933 : INFO : topic #0 (0.050): 0.043*my + 0.022*me + 0.017*out + 0.016*it + 0.014*this + 0.014*help + 0.014*as + 0.013*with + 0.013*that + 0.013*some\n"
       ]
      },
      {
       "output_type": "stream",
       "stream": "stderr",
       "text": [
        "2014-06-07 14:22:48,938 : INFO : topic #19 (0.050): 0.034*nice + 0.019*free + 0.018*stuff + 0.015*papa + 0.013*pick + 0.011*birthday + 0.010*on + 0.010*worth + 0.010*- + 0.009*things\n"
       ]
      },
      {
       "output_type": "stream",
       "stream": "stderr",
       "text": [
        "2014-06-07 14:22:48,944 : INFO : topic #2 (0.050): 0.038*we + 0.019*gift + 0.018*us + 0.014*are + 0.013*craving + 0.012*some + 0.011*our + 0.010*hungry + 0.010*local + 0.009*write\n"
       ]
      },
      {
       "output_type": "stream",
       "stream": "stderr",
       "text": [
        "2014-06-07 14:22:48,950 : INFO : topic #9 (0.050): 0.012*hey, + 0.012*month, + 0.011*everything + 0.009*have + 0.009*bottom + 0.009*area. + 0.009*10 + 0.008*else + 0.008*my + 0.008*super\n"
       ]
      },
      {
       "output_type": "stream",
       "stream": "stderr",
       "text": [
        "2014-06-07 14:22:48,956 : INFO : topic #18 (0.050): 0.037*provide + 0.027*random + 0.022*act + 0.018*here's + 0.017*mean + 0.016*proof + 0.012*time, + 0.011*grateful + 0.010*show + 0.008*your\n"
       ]
      },
      {
       "output_type": "stream",
       "stream": "stderr",
       "text": [
        "2014-06-07 14:22:48,963 : INFO : topic #12 (0.050): 0.037*it + 0.025*have + 0.023*if + 0.020*pay + 0.019*get + 0.019*will + 0.018*my + 0.016*me + 0.015*you + 0.015*or\n"
       ]
      },
      {
       "output_type": "stream",
       "stream": "stderr",
       "text": [
        "2014-06-07 14:22:48,970 : INFO : topic #16 (0.050): 0.045*my + 0.029*i'm + 0.028*been + 0.021*but + 0.018*this + 0.018*i've + 0.014*have + 0.014*on + 0.014*would + 0.012*had\n"
       ]
      },
      {
       "output_type": "stream",
       "stream": "stderr",
       "text": [
        "2014-06-07 14:22:48,983 : INFO : topic #6 (0.050): 0.022*better + 0.013*my + 0.010*offer + 0.010*this, + 0.009*pie + 0.009*long + 0.008*one + 0.008*up, + 0.008*as + 0.008*you!\n"
       ]
      },
      {
       "output_type": "stream",
       "stream": "stderr",
       "text": [
        "2014-06-07 14:22:48,989 : INFO : topic diff=0.502436, rho=0.218218\n"
       ]
      },
      {
       "output_type": "stream",
       "stream": "stderr",
       "text": [
        "2014-06-07 14:22:48,994 : INFO : PROGRESS: pass 0, at document #2200/4040\n"
       ]
      },
      {
       "output_type": "stream",
       "stream": "stderr",
       "text": [
        "2014-06-07 14:22:49,374 : INFO : merging changes from 100 documents into a model of 4040 documents\n"
       ]
      },
      {
       "output_type": "stream",
       "stream": "stderr",
       "text": [
        "2014-06-07 14:22:49,569 : INFO : topic #17 (0.050): 0.019*day. + 0.017*edit: + 0.013*hope + 0.012*my + 0.011*said + 0.010*me + 0.010*you. + 0.009*picture + 0.009*than + 0.009*rather\n"
       ]
      },
      {
       "output_type": "stream",
       "stream": "stderr",
       "text": [
        "2014-06-07 14:22:49,575 : INFO : topic #4 (0.050): 0.026*my + 0.025*would + 0.016*with + 0.016*:) + 0.014*own + 0.014*apartment + 0.012*just + 0.012*4 + 0.011*means + 0.011*have\n"
       ]
      },
      {
       "output_type": "stream",
       "stream": "stderr",
       "text": [
        "2014-06-07 14:22:49,582 : INFO : topic #7 (0.050): 0.040*bank + 0.012*sitting + 0.011*wish + 0.011*hoping + 0.011*bad + 0.009*i'm + 0.008*earlier + 0.008*reddit! + 0.007*before, + 0.007*help!\n"
       ]
      },
      {
       "output_type": "stream",
       "stream": "stderr",
       "text": [
        "2014-06-07 14:22:49,589 : INFO : topic #5 (0.050): 0.024*tonight + 0.023*i'd + 0.021*like + 0.019*love + 0.018*thought + 0.017*:( + 0.013*if + 0.013*i'm + 0.012*feeling + 0.012*this\n"
       ]
      },
      {
       "output_type": "stream",
       "stream": "stderr",
       "text": [
        "2014-06-07 14:22:49,596 : INFO : topic #11 (0.050): 0.034*today, + 0.021*house + 0.019*alone + 0.014*6 + 0.013*power + 0.011*hasn't + 0.011*sister + 0.011*full + 0.010*watch + 0.010*university\n"
       ]
      },
      {
       "output_type": "stream",
       "stream": "stderr",
       "text": [
        "2014-06-07 14:22:49,601 : INFO : topic #3 (0.050): 0.033*my + 0.023*he + 0.017*that + 0.017*was + 0.012*him + 0.012*out + 0.011*their + 0.010*his + 0.010*house + 0.010*i'm\n"
       ]
      },
      {
       "output_type": "stream",
       "stream": "stderr",
       "text": [
        "2014-06-07 14:22:49,608 : INFO : topic #18 (0.050): 0.035*provide + 0.027*random + 0.017*act + 0.017*mean + 0.016*proof + 0.015*here's + 0.014*grateful + 0.010*show + 0.010*time, + 0.010*us.\n"
       ]
      },
      {
       "output_type": "stream",
       "stream": "stderr",
       "text": [
        "2014-06-07 14:22:49,612 : INFO : topic #6 (0.050): 0.020*better + 0.013*up, + 0.012*my + 0.010*offer + 0.009*ramen + 0.009*you! + 0.009*hook + 0.008*as + 0.008*long + 0.008*hoping\n"
       ]
      },
      {
       "output_type": "stream",
       "stream": "stderr",
       "text": [
        "2014-06-07 14:22:49,622 : INFO : topic #2 (0.050): 0.037*we + 0.018*gift + 0.018*us + 0.016*craving + 0.015*are + 0.012*some + 0.011*our + 0.011*hungry + 0.009*we're + 0.009*local\n"
       ]
      },
      {
       "output_type": "stream",
       "stream": "stderr",
       "text": [
        "2014-06-07 14:22:49,630 : INFO : topic #9 (0.050): 0.013*area. + 0.012*super + 0.010*everything + 0.010*hey, + 0.009*month, + 0.009*have + 0.009*well, + 0.008*online + 0.008*10 + 0.008*none\n"
       ]
      },
      {
       "output_type": "stream",
       "stream": "stderr",
       "text": [
        "2014-06-07 14:22:49,638 : INFO : topic #1 (0.050): 0.046*you + 0.022*my + 0.018*some + 0.016*if + 0.015*i'm + 0.014*want + 0.014*like + 0.014*that + 0.014*account + 0.012*me\n"
       ]
      },
      {
       "output_type": "stream",
       "stream": "stderr",
       "text": [
        "2014-06-07 14:22:49,645 : INFO : topic #15 (0.050): 0.040*her + 0.033*our + 0.029*we + 0.024*she + 0.020*would + 0.017*we're + 0.015*with + 0.014*day + 0.012*my + 0.011*have\n"
       ]
      },
      {
       "output_type": "stream",
       "stream": "stderr",
       "text": [
        "2014-06-07 14:22:49,654 : INFO : topic #10 (0.050): 0.042*we + 0.025*my + 0.024*have + 0.021*are + 0.018*so + 0.015*can + 0.014*but + 0.012*with + 0.012*our + 0.011*you\n"
       ]
      },
      {
       "output_type": "stream",
       "stream": "stderr",
       "text": [
        "2014-06-07 14:22:49,663 : INFO : topic #13 (0.050): 0.025*my + 0.017*would + 0.016*have + 0.016*on + 0.012*at + 0.011*no + 0.011*go + 0.011*me + 0.011*student + 0.010*money\n"
       ]
      },
      {
       "output_type": "stream",
       "stream": "stderr",
       "text": [
        "2014-06-07 14:22:49,668 : INFO : topic #19 (0.050): 0.033*nice + 0.021*free + 0.019*papa + 0.017*stuff + 0.012*things + 0.011*pick + 0.010*birthday + 0.010*major + 0.010*- + 0.010*on\n"
       ]
      },
      {
       "output_type": "stream",
       "stream": "stderr",
       "text": [
        "2014-06-07 14:22:49,674 : INFO : topic diff=0.492281, rho=0.213201\n"
       ]
      },
      {
       "output_type": "stream",
       "stream": "stderr",
       "text": [
        "2014-06-07 14:22:49,677 : INFO : PROGRESS: pass 0, at document #2300/4040\n"
       ]
      },
      {
       "output_type": "stream",
       "stream": "stderr",
       "text": [
        "2014-06-07 14:22:50,025 : INFO : merging changes from 100 documents into a model of 4040 documents\n"
       ]
      },
      {
       "output_type": "stream",
       "stream": "stderr",
       "text": [
        "2014-06-07 14:22:50,220 : INFO : topic #11 (0.050): 0.038*today, + 0.019*alone + 0.019*house + 0.016*6 + 0.013*hasn't + 0.013*hospital + 0.011*full + 0.011*power + 0.010*watch + 0.010*pizzas\n"
       ]
      },
      {
       "output_type": "stream",
       "stream": "stderr",
       "text": [
        "2014-06-07 14:22:50,226 : INFO : topic #13 (0.050): 0.025*my + 0.018*would + 0.016*on + 0.015*have + 0.011*at + 0.011*some + 0.011*me + 0.011*go + 0.011*no + 0.010*student\n"
       ]
      },
      {
       "output_type": "stream",
       "stream": "stderr",
       "text": [
        "2014-06-07 14:22:50,233 : INFO : topic #10 (0.050): 0.046*we + 0.025*my + 0.024*have + 0.021*are + 0.017*so + 0.014*but + 0.014*can + 0.013*our + 0.012*with + 0.011*you\n"
       ]
      },
      {
       "output_type": "stream",
       "stream": "stderr",
       "text": [
        "2014-06-07 14:22:50,239 : INFO : topic #9 (0.050): 0.012*super + 0.011*area. + 0.010*10 + 0.010*month, + 0.009*well, + 0.008*game + 0.008*everything + 0.008*hey, + 0.008*have + 0.007*day!\n"
       ]
      },
      {
       "output_type": "stream",
       "stream": "stderr",
       "text": [
        "2014-06-07 14:22:50,244 : INFO : topic #7 (0.050): 0.046*bank + 0.013*sitting + 0.012*hoping + 0.011*debit + 0.010*bad + 0.010*wish + 0.010*reddit! + 0.009*i'm + 0.008*before, + 0.007*earlier\n"
       ]
      },
      {
       "output_type": "stream",
       "stream": "stderr",
       "text": [
        "2014-06-07 14:22:50,250 : INFO : topic #8 (0.050): 0.020*jobs + 0.015*ever + 0.015** + 0.013*things + 0.012*surprise + 0.012*like + 0.012*that. + 0.012*hard + 0.011*are + 0.010*many\n"
       ]
      },
      {
       "output_type": "stream",
       "stream": "stderr",
       "text": [
        "2014-06-07 14:22:50,256 : INFO : topic #6 (0.050): 0.018*better + 0.013*:d + 0.013*awesome. + 0.011*my + 0.011*up, + 0.010*offer + 0.010*hook + 0.009*hoping + 0.009*can. + 0.009*pie\n"
       ]
      },
      {
       "output_type": "stream",
       "stream": "stderr",
       "text": [
        "2014-06-07 14:22:50,260 : INFO : topic #4 (0.050): 0.027*would + 0.025*my + 0.017*:) + 0.016*own + 0.016*with + 0.014*4 + 0.011*all. + 0.011*love + 0.011*just + 0.011*verification\n"
       ]
      },
      {
       "output_type": "stream",
       "stream": "stderr",
       "text": [
        "2014-06-07 14:22:50,266 : INFO : topic #16 (0.050): 0.045*my + 0.030*i'm + 0.026*been + 0.021*but + 0.019*i've + 0.018*this + 0.015*have + 0.014*on + 0.014*would + 0.012*really\n"
       ]
      },
      {
       "output_type": "stream",
       "stream": "stderr",
       "text": [
        "2014-06-07 14:22:50,273 : INFO : topic #15 (0.050): 0.036*her + 0.034*we + 0.034*our + 0.021*she + 0.020*would + 0.019*we're + 0.015*with + 0.013*day + 0.012*my + 0.011*afford\n"
       ]
      },
      {
       "output_type": "stream",
       "stream": "stderr",
       "text": [
        "2014-06-07 14:22:50,279 : INFO : topic #19 (0.050): 0.032*nice + 0.023*free + 0.017*papa + 0.016*stuff + 0.013*things + 0.012*pick + 0.010*- + 0.010*hold + 0.010*on + 0.009*birthday\n"
       ]
      },
      {
       "output_type": "stream",
       "stream": "stderr",
       "text": [
        "2014-06-07 14:22:50,285 : INFO : topic #17 (0.050): 0.021*edit: + 0.017*day. + 0.012*you. + 0.011*my + 0.011*picture + 0.011*hope + 0.009*me + 0.009*said + 0.009*broke. + 0.009*than\n"
       ]
      },
      {
       "output_type": "stream",
       "stream": "stderr",
       "text": [
        "2014-06-07 14:22:50,290 : INFO : topic #14 (0.050): 0.016*my + 0.014*fridge + 0.011*that + 0.010*far + 0.009*as + 0.009*out, + 0.008*pizza? + 0.008*, + 0.008*realized + 0.008*raop!\n"
       ]
      },
      {
       "output_type": "stream",
       "stream": "stderr",
       "text": [
        "2014-06-07 14:22:50,299 : INFO : topic #18 (0.050): 0.034*provide + 0.025*random + 0.019*act + 0.016*proof + 0.015*mean + 0.015*here's + 0.013*til + 0.012*us. + 0.012*grateful + 0.010*time,\n"
       ]
      },
      {
       "output_type": "stream",
       "stream": "stderr",
       "text": [
        "2014-06-07 14:22:50,305 : INFO : topic #12 (0.050): 0.038*it + 0.026*have + 0.024*if + 0.020*pay + 0.020*get + 0.020*will + 0.017*my + 0.015*me + 0.015*would + 0.015*you\n"
       ]
      },
      {
       "output_type": "stream",
       "stream": "stderr",
       "text": [
        "2014-06-07 14:22:50,309 : INFO : topic diff=0.413217, rho=0.208514\n"
       ]
      },
      {
       "output_type": "stream",
       "stream": "stderr",
       "text": [
        "2014-06-07 14:22:50,321 : INFO : PROGRESS: pass 0, at document #2400/4040\n"
       ]
      },
      {
       "output_type": "stream",
       "stream": "stderr",
       "text": [
        "2014-06-07 14:22:50,671 : INFO : merging changes from 100 documents into a model of 4040 documents\n"
       ]
      },
      {
       "output_type": "stream",
       "stream": "stderr",
       "text": [
        "2014-06-07 14:22:50,867 : INFO : topic #18 (0.050): 0.032*provide + 0.025*random + 0.018*act + 0.017*show + 0.015*mean + 0.012*grateful + 0.012*proof + 0.012*cheesy + 0.011*here's + 0.011*yup\n"
       ]
      },
      {
       "output_type": "stream",
       "stream": "stderr",
       "text": [
        "2014-06-07 14:22:50,872 : INFO : topic #7 (0.050): 0.045*bank + 0.013*before, + 0.011*sitting + 0.010*hoping + 0.009*nearly + 0.009*debit + 0.008*i'm + 0.008*bad + 0.008*wish + 0.008*reddit!\n"
       ]
      },
      {
       "output_type": "stream",
       "stream": "stderr",
       "text": [
        "2014-06-07 14:22:50,880 : INFO : topic #12 (0.050): 0.037*it + 0.026*have + 0.024*if + 0.021*pay + 0.020*will + 0.018*get + 0.017*my + 0.016*would + 0.015*you + 0.015*me\n"
       ]
      },
      {
       "output_type": "stream",
       "stream": "stderr",
       "text": [
        "2014-06-07 14:22:50,885 : INFO : topic #8 (0.050): 0.020*jobs + 0.016*things + 0.013*ever + 0.012*surprise + 0.012** + 0.012*hard + 0.012*like + 0.011*are + 0.011*times + 0.011*that.\n"
       ]
      },
      {
       "output_type": "stream",
       "stream": "stderr",
       "text": [
        "2014-06-07 14:22:50,891 : INFO : topic #13 (0.050): 0.025*my + 0.018*would + 0.015*on + 0.015*have + 0.011*me + 0.011*some + 0.011*no + 0.010*at + 0.010*student + 0.010*money\n"
       ]
      },
      {
       "output_type": "stream",
       "stream": "stderr",
       "text": [
        "2014-06-07 14:22:50,897 : INFO : topic #0 (0.050): 0.043*my + 0.021*me + 0.018*out + 0.017*it + 0.015*this + 0.014*help + 0.014*with + 0.013*as + 0.013*some + 0.013*get\n"
       ]
      },
      {
       "output_type": "stream",
       "stream": "stderr",
       "text": [
        "2014-06-07 14:22:50,903 : INFO : topic #16 (0.050): 0.046*my + 0.030*i'm + 0.027*been + 0.021*but + 0.020*i've + 0.019*this + 0.015*have + 0.014*would + 0.013*on + 0.012*really\n"
       ]
      },
      {
       "output_type": "stream",
       "stream": "stderr",
       "text": [
        "2014-06-07 14:22:50,908 : INFO : topic #2 (0.050): 0.034*we + 0.022*us + 0.020*craving + 0.017*gift + 0.013*are + 0.011*some + 0.010*hungry + 0.009*our + 0.009*we're + 0.009*sounds\n"
       ]
      },
      {
       "output_type": "stream",
       "stream": "stderr",
       "text": [
        "2014-06-07 14:22:50,915 : INFO : topic #3 (0.050): 0.032*my + 0.028*he + 0.019*was + 0.016*that + 0.014*his + 0.013*out + 0.012*him + 0.011*their + 0.010*ago + 0.009*i'm\n"
       ]
      },
      {
       "output_type": "stream",
       "stream": "stderr",
       "text": [
        "2014-06-07 14:22:50,921 : INFO : topic #15 (0.050): 0.036*her + 0.033*our + 0.032*we + 0.022*she + 0.020*would + 0.018*we're + 0.015*with + 0.012*day + 0.012*my + 0.012*there's\n"
       ]
      },
      {
       "output_type": "stream",
       "stream": "stderr",
       "text": [
        "2014-06-07 14:22:50,928 : INFO : topic #10 (0.050): 0.047*we + 0.025*have + 0.024*my + 0.022*are + 0.018*so + 0.014*can + 0.014*but + 0.013*our + 0.012*with + 0.011*you\n"
       ]
      },
      {
       "output_type": "stream",
       "stream": "stderr",
       "text": [
        "2014-06-07 14:22:50,936 : INFO : topic #11 (0.050): 0.032*today, + 0.018*6 + 0.017*alone + 0.017*house + 0.014*power + 0.012*hospital + 0.010*hasn't + 0.010*full + 0.010*yup + 0.010*uh\n"
       ]
      },
      {
       "output_type": "stream",
       "stream": "stderr",
       "text": [
        "2014-06-07 14:22:50,948 : INFO : topic #6 (0.050): 0.019*:d + 0.018*better + 0.011*awesome. + 0.011*can. + 0.011*my + 0.010*this, + 0.010*up, + 0.010*hoping + 0.009*offer + 0.009*pie\n"
       ]
      },
      {
       "output_type": "stream",
       "stream": "stderr",
       "text": [
        "2014-06-07 14:22:50,954 : INFO : topic #9 (0.050): 0.015*super + 0.014*area. + 0.011*month, + 0.008*game + 0.008*10 + 0.008*huge + 0.008*have + 0.007*everything + 0.007*online + 0.007*well,\n"
       ]
      },
      {
       "output_type": "stream",
       "stream": "stderr",
       "text": [
        "2014-06-07 14:22:50,960 : INFO : topic #19 (0.050): 0.028*nice + 0.021*free + 0.018*stuff + 0.016*papa + 0.013*things + 0.013*pick + 0.012*- + 0.010*hello, + 0.010*world + 0.009*on\n"
       ]
      },
      {
       "output_type": "stream",
       "stream": "stderr",
       "text": [
        "2014-06-07 14:22:50,966 : INFO : topic diff=0.409409, rho=0.204124\n"
       ]
      },
      {
       "output_type": "stream",
       "stream": "stderr",
       "text": [
        "2014-06-07 14:22:50,970 : INFO : PROGRESS: pass 0, at document #2500/4040\n"
       ]
      },
      {
       "output_type": "stream",
       "stream": "stderr",
       "text": [
        "2014-06-07 14:22:51,341 : INFO : merging changes from 100 documents into a model of 4040 documents\n"
       ]
      },
      {
       "output_type": "stream",
       "stream": "stderr",
       "text": [
        "2014-06-07 14:22:51,538 : INFO : topic #2 (0.050): 0.030*we + 0.019*us + 0.018*craving + 0.016*gift + 0.013*are + 0.011*some + 0.010*sounds + 0.009*hungry + 0.009*our + 0.008*week,\n"
       ]
      },
      {
       "output_type": "stream",
       "stream": "stderr",
       "text": [
        "2014-06-07 14:22:51,545 : INFO : topic #10 (0.050): 0.049*we + 0.025*have + 0.024*my + 0.022*are + 0.017*so + 0.015*can + 0.014*our + 0.014*but + 0.012*with + 0.011*you\n"
       ]
      },
      {
       "output_type": "stream",
       "stream": "stderr",
       "text": [
        "2014-06-07 14:22:51,552 : INFO : topic #1 (0.050): 0.049*you + 0.021*my + 0.018*if + 0.017*i'll + 0.016*some + 0.015*account + 0.015*i'm + 0.014*like + 0.014*that + 0.012*want\n"
       ]
      },
      {
       "output_type": "stream",
       "stream": "stderr",
       "text": [
        "2014-06-07 14:22:51,559 : INFO : topic #18 (0.050): 0.033*provide + 0.023*random + 0.018*mean + 0.017*show + 0.016*proof + 0.016*grateful + 0.014*act + 0.011*cheesy + 0.010*here's + 0.009*us.\n"
       ]
      },
      {
       "output_type": "stream",
       "stream": "stderr",
       "text": [
        "2014-06-07 14:22:51,565 : INFO : topic #11 (0.050): 0.027*today, + 0.018*alone + 0.017*6 + 0.016*house + 0.014*hospital + 0.012*full + 0.011*power + 0.011*havent + 0.010*do, + 0.009*watch\n"
       ]
      },
      {
       "output_type": "stream",
       "stream": "stderr",
       "text": [
        "2014-06-07 14:22:51,571 : INFO : topic #3 (0.050): 0.032*my + 0.028*he + 0.018*was + 0.017*that + 0.012*out + 0.011*his + 0.010*their + 0.010*house + 0.010*him + 0.010*an\n"
       ]
      },
      {
       "output_type": "stream",
       "stream": "stderr",
       "text": [
        "2014-06-07 14:22:51,576 : INFO : topic #13 (0.050): 0.024*my + 0.018*would + 0.016*have + 0.015*on + 0.012*go + 0.011*no + 0.011*student + 0.011*me + 0.010*at + 0.010*some\n"
       ]
      },
      {
       "output_type": "stream",
       "stream": "stderr",
       "text": [
        "2014-06-07 14:22:51,582 : INFO : topic #15 (0.050): 0.034*our + 0.034*her + 0.032*we + 0.020*would + 0.020*she + 0.018*we're + 0.014*with + 0.012*day + 0.011*my + 0.011*afford\n"
       ]
      },
      {
       "output_type": "stream",
       "stream": "stderr",
       "text": [
        "2014-06-07 14:22:51,588 : INFO : topic #7 (0.050): 0.047*bank + 0.015*before, + 0.012*sitting + 0.010*lack + 0.010*reddit + 0.009*bad + 0.009*reddit! + 0.008*nearly + 0.008*towards + 0.008*wish\n"
       ]
      },
      {
       "output_type": "stream",
       "stream": "stderr",
       "text": [
        "2014-06-07 14:22:51,594 : INFO : topic #8 (0.050): 0.023** + 0.021*jobs + 0.015*things + 0.014*hard + 0.013*ever + 0.012*surprise + 0.012*that. + 0.012*like + 0.010*are + 0.010*times\n"
       ]
      },
      {
       "output_type": "stream",
       "stream": "stderr",
       "text": [
        "2014-06-07 14:22:51,601 : INFO : topic #17 (0.050): 0.016*edit: + 0.016*you. + 0.015*picture + 0.013*day. + 0.010*stuck + 0.010*hope + 0.010*said + 0.010*my + 0.010*broke. + 0.010*than\n"
       ]
      },
      {
       "output_type": "stream",
       "stream": "stderr",
       "text": [
        "2014-06-07 14:22:51,615 : INFO : topic #9 (0.050): 0.014*area. + 0.012*month, + 0.012*super + 0.009*everything + 0.009*well, + 0.008*10 + 0.008*have + 0.007*else + 0.007*my + 0.007*broke.\n"
       ]
      },
      {
       "output_type": "stream",
       "stream": "stderr",
       "text": [
        "2014-06-07 14:22:51,622 : INFO : topic #6 (0.050): 0.021*better + 0.015*:d + 0.013*awesome. + 0.012*up, + 0.010*this, + 0.010*pie + 0.010*my + 0.010*ramen + 0.010*hook + 0.009*hoping\n"
       ]
      },
      {
       "output_type": "stream",
       "stream": "stderr",
       "text": [
        "2014-06-07 14:22:51,630 : INFO : topic #16 (0.050): 0.046*my + 0.028*i'm + 0.026*been + 0.021*but + 0.019*this + 0.019*i've + 0.016*have + 0.014*would + 0.013*on + 0.012*just\n"
       ]
      },
      {
       "output_type": "stream",
       "stream": "stderr",
       "text": [
        "2014-06-07 14:22:51,635 : INFO : topic #4 (0.050): 0.029*would + 0.024*my + 0.016*:) + 0.014*with + 0.013*own + 0.012*4 + 0.012*love + 0.011*have + 0.011*else + 0.011*all.\n"
       ]
      },
      {
       "output_type": "stream",
       "stream": "stderr",
       "text": [
        "2014-06-07 14:22:51,641 : INFO : topic diff=0.474149, rho=0.200000\n"
       ]
      },
      {
       "output_type": "stream",
       "stream": "stderr",
       "text": [
        "2014-06-07 14:22:51,645 : INFO : PROGRESS: pass 0, at document #2600/4040\n"
       ]
      },
      {
       "output_type": "stream",
       "stream": "stderr",
       "text": [
        "2014-06-07 14:22:52,071 : INFO : merging changes from 100 documents into a model of 4040 documents\n"
       ]
      },
      {
       "output_type": "stream",
       "stream": "stderr",
       "text": [
        "2014-06-07 14:22:52,263 : INFO : topic #12 (0.050): 0.036*it + 0.026*have + 0.025*if + 0.021*will + 0.020*pay + 0.019*you + 0.017*my + 0.017*get + 0.016*would + 0.015*me\n"
       ]
      },
      {
       "output_type": "stream",
       "stream": "stderr",
       "text": [
        "2014-06-07 14:22:52,269 : INFO : topic #3 (0.050): 0.032*my + 0.027*he + 0.017*was + 0.017*that + 0.013*his + 0.012*out + 0.010*house + 0.010*their + 0.010*an + 0.009*all\n"
       ]
      },
      {
       "output_type": "stream",
       "stream": "stderr",
       "text": [
        "2014-06-07 14:22:52,278 : INFO : topic #15 (0.050): 0.035*our + 0.034*her + 0.033*we + 0.019*would + 0.019*she + 0.017*we're + 0.014*with + 0.011*day + 0.011*my + 0.011*there's\n"
       ]
      },
      {
       "output_type": "stream",
       "stream": "stderr",
       "text": [
        "2014-06-07 14:22:52,283 : INFO : topic #17 (0.050): 0.022*edit: + 0.019*you. + 0.018*day. + 0.017*picture + 0.012*stuck + 0.010*several + 0.010*hope + 0.010*my + 0.009*them. + 0.009*broke.\n"
       ]
      },
      {
       "output_type": "stream",
       "stream": "stderr",
       "text": [
        "2014-06-07 14:22:52,289 : INFO : topic #6 (0.050): 0.018*better + 0.013*pie + 0.013*:d + 0.013*awesome. + 0.011*this, + 0.011*up, + 0.009*my + 0.009*ramen + 0.009*hook + 0.009*one\n"
       ]
      },
      {
       "output_type": "stream",
       "stream": "stderr",
       "text": [
        "2014-06-07 14:22:52,296 : INFO : topic #0 (0.050): 0.044*my + 0.020*me + 0.019*out + 0.016*it + 0.015*help + 0.014*this + 0.013*on + 0.013*get + 0.013*with + 0.013*some\n"
       ]
      },
      {
       "output_type": "stream",
       "stream": "stderr",
       "text": [
        "2014-06-07 14:22:52,302 : INFO : topic #5 (0.050): 0.024*tonight + 0.022*love + 0.019*feeling + 0.019*like + 0.019*i'd + 0.016*thought + 0.013*:( + 0.013*if + 0.012*i'm + 0.011*some\n"
       ]
      },
      {
       "output_type": "stream",
       "stream": "stderr",
       "text": [
        "2014-06-07 14:22:52,309 : INFO : topic #19 (0.050): 0.035*nice + 0.022*free + 0.019*papa + 0.017*stuff + 0.016*things + 0.011*hold + 0.011*- + 0.011*pick + 0.008*hello, + 0.008*on\n"
       ]
      },
      {
       "output_type": "stream",
       "stream": "stderr",
       "text": [
        "2014-06-07 14:22:52,316 : INFO : topic #2 (0.050): 0.030*we + 0.021*us + 0.019*craving + 0.018*gift + 0.013*are + 0.011*some + 0.009*week, + 0.009*we're + 0.008*local + 0.008*break\n"
       ]
      },
      {
       "output_type": "stream",
       "stream": "stderr",
       "text": [
        "2014-06-07 14:22:52,323 : INFO : topic #7 (0.050): 0.045*bank + 0.014*before, + 0.011*sitting + 0.011*reddit + 0.010*wish + 0.010*bad + 0.009*etc. + 0.009*reddit! + 0.009*location + 0.008*aid\n"
       ]
      },
      {
       "output_type": "stream",
       "stream": "stderr",
       "text": [
        "2014-06-07 14:22:52,331 : INFO : topic #16 (0.050): 0.045*my + 0.027*i'm + 0.024*been + 0.022*but + 0.019*this + 0.018*i've + 0.017*have + 0.014*would + 0.013*on + 0.012*few\n"
       ]
      },
      {
       "output_type": "stream",
       "stream": "stderr",
       "text": [
        "2014-06-07 14:22:52,339 : INFO : topic #14 (0.050): 0.015*my + 0.014*fridge + 0.011*out, + 0.011*that + 0.010*anything. + 0.010*far + 0.010*pizza? + 0.009*but, + 0.008*saving + 0.007*taken\n"
       ]
      },
      {
       "output_type": "stream",
       "stream": "stderr",
       "text": [
        "2014-06-07 14:22:52,346 : INFO : topic #13 (0.050): 0.023*my + 0.018*would + 0.016*have + 0.015*on + 0.013*go + 0.012*student + 0.011*no + 0.010*money + 0.010*me + 0.010*but\n"
       ]
      },
      {
       "output_type": "stream",
       "stream": "stderr",
       "text": [
        "2014-06-07 14:22:52,355 : INFO : topic #18 (0.050): 0.034*provide + 0.024*random + 0.019*show + 0.018*mean + 0.017*proof + 0.013*grateful + 0.013*act + 0.012*us. + 0.010*here's + 0.010*til\n"
       ]
      },
      {
       "output_type": "stream",
       "stream": "stderr",
       "text": [
        "2014-06-07 14:22:52,362 : INFO : topic #4 (0.050): 0.028*would + 0.023*my + 0.017*:) + 0.014*apartment + 0.014*with + 0.013*own + 0.013*verification + 0.012*else + 0.012*all. + 0.012*4\n"
       ]
      },
      {
       "output_type": "stream",
       "stream": "stderr",
       "text": [
        "2014-06-07 14:22:52,368 : INFO : topic diff=0.480155, rho=0.196116\n"
       ]
      },
      {
       "output_type": "stream",
       "stream": "stderr",
       "text": [
        "2014-06-07 14:22:52,375 : INFO : PROGRESS: pass 0, at document #2700/4040\n"
       ]
      },
      {
       "output_type": "stream",
       "stream": "stderr",
       "text": [
        "2014-06-07 14:22:52,812 : INFO : merging changes from 100 documents into a model of 4040 documents\n"
       ]
      },
      {
       "output_type": "stream",
       "stream": "stderr",
       "text": [
        "2014-06-07 14:22:53,019 : INFO : topic #17 (0.050): 0.022*edit: + 0.019*picture + 0.018*you. + 0.016*day. + 0.012*four + 0.011*stuck + 0.010*hope + 0.010*several + 0.010*spare + 0.010*my\n"
       ]
      },
      {
       "output_type": "stream",
       "stream": "stderr",
       "text": [
        "2014-06-07 14:22:53,026 : INFO : topic #7 (0.050): 0.048*bank + 0.011*before, + 0.011*reddit + 0.010*location + 0.010*wish + 0.009*sitting + 0.009*reddit! + 0.009*earlier + 0.008*bad + 0.008*aid\n"
       ]
      },
      {
       "output_type": "stream",
       "stream": "stderr",
       "text": [
        "2014-06-07 14:22:53,032 : INFO : topic #15 (0.050): 0.035*her + 0.035*our + 0.031*we + 0.019*she + 0.019*would + 0.019*we're + 0.014*with + 0.012*day + 0.011*us + 0.011*my\n"
       ]
      },
      {
       "output_type": "stream",
       "stream": "stderr",
       "text": [
        "2014-06-07 14:22:53,039 : INFO : topic #4 (0.050): 0.028*would + 0.023*my + 0.015*verification + 0.015*:) + 0.013*with + 0.013*apartment + 0.012*else + 0.012*own + 0.012*4 + 0.011*love\n"
       ]
      },
      {
       "output_type": "stream",
       "stream": "stderr",
       "text": [
        "2014-06-07 14:22:53,046 : INFO : topic #18 (0.050): 0.039*provide + 0.028*random + 0.019*act + 0.018*show + 0.018*proof + 0.018*mean + 0.015*here's + 0.013*us. + 0.012*grateful + 0.011*til\n"
       ]
      },
      {
       "output_type": "stream",
       "stream": "stderr",
       "text": [
        "2014-06-07 14:22:53,052 : INFO : topic #8 (0.050): 0.018*jobs + 0.017*hard + 0.016*things + 0.015** + 0.014*girl + 0.013*that. + 0.012*surprise + 0.012*heard + 0.011*are + 0.011*domino's\n"
       ]
      },
      {
       "output_type": "stream",
       "stream": "stderr",
       "text": [
        "2014-06-07 14:22:53,058 : INFO : topic #9 (0.050): 0.013*month, + 0.013*code + 0.012*super + 0.010*area. + 0.010*10 + 0.010*everything + 0.008*day! + 0.007*huge + 0.007*have + 0.007*none\n"
       ]
      },
      {
       "output_type": "stream",
       "stream": "stderr",
       "text": [
        "2014-06-07 14:22:53,063 : INFO : topic #16 (0.050): 0.044*my + 0.027*been + 0.025*i'm + 0.022*but + 0.019*this + 0.018*i've + 0.017*have + 0.015*would + 0.013*on + 0.012*few\n"
       ]
      },
      {
       "output_type": "stream",
       "stream": "stderr",
       "text": [
        "2014-06-07 14:22:53,075 : INFO : topic #11 (0.050): 0.021*today, + 0.021*alone + 0.014*6 + 0.014*. + 0.013*house + 0.012*full + 0.012*hospital + 0.012*pizzas + 0.012*university + 0.011*$20\n"
       ]
      },
      {
       "output_type": "stream",
       "stream": "stderr",
       "text": [
        "2014-06-07 14:22:53,081 : INFO : topic #10 (0.050): 0.049*we + 0.026*have + 0.024*are + 0.023*my + 0.016*so + 0.015*us + 0.014*but + 0.014*our + 0.013*can + 0.011*with\n"
       ]
      },
      {
       "output_type": "stream",
       "stream": "stderr",
       "text": [
        "2014-06-07 14:22:53,086 : INFO : topic #0 (0.050): 0.044*my + 0.020*me + 0.020*out + 0.017*it + 0.015*this + 0.015*help + 0.013*on + 0.013*get + 0.013*some + 0.013*with\n"
       ]
      },
      {
       "output_type": "stream",
       "stream": "stderr",
       "text": [
        "2014-06-07 14:22:53,092 : INFO : topic #5 (0.050): 0.028*tonight + 0.021*love + 0.020*feeling + 0.019*i'd + 0.017*like + 0.015*thought + 0.013*if + 0.011*offer + 0.011*:( + 0.010*i'm\n"
       ]
      },
      {
       "output_type": "stream",
       "stream": "stderr",
       "text": [
        "2014-06-07 14:22:53,098 : INFO : topic #13 (0.050): 0.022*my + 0.018*would + 0.016*have + 0.015*on + 0.015*go + 0.011*student + 0.011*college + 0.010*me + 0.010*money + 0.010*no\n"
       ]
      },
      {
       "output_type": "stream",
       "stream": "stderr",
       "text": [
        "2014-06-07 14:22:53,104 : INFO : topic #12 (0.050): 0.036*it + 0.026*have + 0.025*if + 0.021*pay + 0.020*will + 0.019*you + 0.017*would + 0.017*my + 0.016*get + 0.015*me\n"
       ]
      },
      {
       "output_type": "stream",
       "stream": "stderr",
       "text": [
        "2014-06-07 14:22:53,109 : INFO : topic #19 (0.050): 0.036*nice + 0.021*free + 0.017*- + 0.017*papa + 0.015*things + 0.014*stuff + 0.010*hold + 0.010*pick + 0.009*worth + 0.008*major\n"
       ]
      },
      {
       "output_type": "stream",
       "stream": "stderr",
       "text": [
        "2014-06-07 14:22:53,115 : INFO : topic diff=0.505978, rho=0.192450\n"
       ]
      },
      {
       "output_type": "stream",
       "stream": "stderr",
       "text": [
        "2014-06-07 14:22:53,119 : INFO : PROGRESS: pass 0, at document #2800/4040\n"
       ]
      },
      {
       "output_type": "stream",
       "stream": "stderr",
       "text": [
        "2014-06-07 14:22:53,831 : INFO : merging changes from 100 documents into a model of 4040 documents\n"
       ]
      },
      {
       "output_type": "stream",
       "stream": "stderr",
       "text": [
        "2014-06-07 14:22:54,036 : INFO : topic #0 (0.050): 0.046*my + 0.020*me + 0.020*out + 0.016*it + 0.015*this + 0.014*help + 0.013*on + 0.013*get + 0.013*some + 0.012*have\n"
       ]
      },
      {
       "output_type": "stream",
       "stream": "stderr",
       "text": [
        "2014-06-07 14:22:54,043 : INFO : topic #7 (0.050): 0.044*bank + 0.012*before, + 0.011*reddit + 0.011*location + 0.011*sitting + 0.009*reddit! + 0.008*lack + 0.008*aid + 0.008*wish + 0.008*usually\n"
       ]
      },
      {
       "output_type": "stream",
       "stream": "stderr",
       "text": [
        "2014-06-07 14:22:54,051 : INFO : topic #11 (0.050): 0.020*alone + 0.017*today, + 0.015*sister + 0.015*university + 0.013*house + 0.013*full + 0.011*hospital + 0.011*6 + 0.011*. + 0.011*$20\n"
       ]
      },
      {
       "output_type": "stream",
       "stream": "stderr",
       "text": [
        "2014-06-07 14:22:54,056 : INFO : topic #12 (0.050): 0.036*it + 0.026*have + 0.025*if + 0.021*pay + 0.020*will + 0.019*you + 0.017*my + 0.017*get + 0.017*would + 0.015*or\n"
       ]
      },
      {
       "output_type": "stream",
       "stream": "stderr",
       "text": [
        "2014-06-07 14:22:54,063 : INFO : topic #18 (0.050): 0.034*provide + 0.025*random + 0.019*act + 0.017*proof + 0.016*here's + 0.016*show + 0.015*mean + 0.013*us. + 0.010*grateful + 0.010*upon\n"
       ]
      },
      {
       "output_type": "stream",
       "stream": "stderr",
       "text": [
        "2014-06-07 14:22:54,071 : INFO : topic #3 (0.050): 0.032*my + 0.027*he + 0.019*that + 0.018*was + 0.013*his + 0.012*house + 0.012*their + 0.011*out + 0.010*him + 0.010*all\n"
       ]
      },
      {
       "output_type": "stream",
       "stream": "stderr",
       "text": [
        "2014-06-07 14:22:54,076 : INFO : topic #9 (0.050): 0.013*super + 0.013*game + 0.012*month, + 0.012*code + 0.010*hey, + 0.009*10 + 0.009*everything + 0.008*area. + 0.007*online + 0.007*else\n"
       ]
      },
      {
       "output_type": "stream",
       "stream": "stderr",
       "text": [
        "2014-06-07 14:22:54,088 : INFO : topic #8 (0.050): 0.019** + 0.019*jobs + 0.017*hard + 0.016*things + 0.016*girl + 0.013*that. + 0.012*like + 0.012*heard + 0.011*ever + 0.011*are\n"
       ]
      },
      {
       "output_type": "stream",
       "stream": "stderr",
       "text": [
        "2014-06-07 14:22:54,095 : INFO : topic #6 (0.050): 0.021*better + 0.017*this, + 0.012*:d + 0.012*pie + 0.011*out? + 0.010*hook + 0.010*up, + 0.009*awesome. + 0.009*hoping + 0.009*too.\n"
       ]
      },
      {
       "output_type": "stream",
       "stream": "stderr",
       "text": [
        "2014-06-07 14:22:54,101 : INFO : topic #15 (0.050): 0.035*her + 0.035*our + 0.031*we + 0.020*we're + 0.019*she + 0.018*would + 0.014*with + 0.013*day + 0.013*afford + 0.011*such\n"
       ]
      },
      {
       "output_type": "stream",
       "stream": "stderr",
       "text": [
        "2014-06-07 14:22:54,107 : INFO : topic #16 (0.050): 0.045*my + 0.026*i'm + 0.026*been + 0.022*but + 0.019*i've + 0.018*this + 0.017*have + 0.014*would + 0.013*on + 0.012*last\n"
       ]
      },
      {
       "output_type": "stream",
       "stream": "stderr",
       "text": [
        "2014-06-07 14:22:54,114 : INFO : topic #1 (0.050): 0.049*you + 0.019*if + 0.018*my + 0.016*like + 0.015*i'm + 0.015*that + 0.014*i'll + 0.013*want + 0.013*some + 0.012*account\n"
       ]
      },
      {
       "output_type": "stream",
       "stream": "stderr",
       "text": [
        "2014-06-07 14:22:54,121 : INFO : topic #5 (0.050): 0.032*tonight + 0.022*i'd + 0.021*love + 0.019*like + 0.017*feeling + 0.014*thought + 0.012*if + 0.012*offer + 0.011*payday + 0.011*subreddit\n"
       ]
      },
      {
       "output_type": "stream",
       "stream": "stderr",
       "text": [
        "2014-06-07 14:22:54,128 : INFO : topic #19 (0.050): 0.035*nice + 0.018*free + 0.015*- + 0.014*papa + 0.014*things + 0.012*stuff + 0.010*pick + 0.010*hold + 0.009*worth + 0.009*hello,\n"
       ]
      },
      {
       "output_type": "stream",
       "stream": "stderr",
       "text": [
        "2014-06-07 14:22:54,134 : INFO : topic #13 (0.050): 0.023*my + 0.018*would + 0.015*have + 0.015*on + 0.015*go + 0.012*too + 0.012*student + 0.011*college + 0.011*no + 0.011*definitely\n"
       ]
      },
      {
       "output_type": "stream",
       "stream": "stderr",
       "text": [
        "2014-06-07 14:22:54,140 : INFO : topic diff=0.454600, rho=0.188982\n"
       ]
      },
      {
       "output_type": "stream",
       "stream": "stderr",
       "text": [
        "2014-06-07 14:22:54,144 : INFO : PROGRESS: pass 0, at document #2900/4040\n"
       ]
      },
      {
       "output_type": "stream",
       "stream": "stderr",
       "text": [
        "2014-06-07 14:22:54,463 : INFO : merging changes from 100 documents into a model of 4040 documents\n"
       ]
      },
      {
       "output_type": "stream",
       "stream": "stderr",
       "text": [
        "2014-06-07 14:22:54,664 : INFO : topic #7 (0.050): 0.044*bank + 0.011*sitting + 0.011*before, + 0.011*location + 0.010*reddit + 0.009*aid + 0.009*earlier + 0.008*playing + 0.008*wish + 0.007*wanna\n"
       ]
      },
      {
       "output_type": "stream",
       "stream": "stderr",
       "text": [
        "2014-06-07 14:22:54,671 : INFO : topic #17 (0.050): 0.023*edit: + 0.018*picture + 0.017*day. + 0.016*you. + 0.014*said + 0.012*spare + 0.011*hope + 0.010*stuck + 0.009*dinner. + 0.009*my\n"
       ]
      },
      {
       "output_type": "stream",
       "stream": "stderr",
       "text": [
        "2014-06-07 14:22:54,677 : INFO : topic #13 (0.050): 0.023*my + 0.018*would + 0.016*have + 0.015*on + 0.015*go + 0.012*too + 0.012*student + 0.011*college + 0.010*money + 0.010*but\n"
       ]
      },
      {
       "output_type": "stream",
       "stream": "stderr",
       "text": [
        "2014-06-07 14:22:54,683 : INFO : topic #10 (0.050): 0.051*we + 0.027*have + 0.023*are + 0.022*my + 0.017*our + 0.016*so + 0.015*us + 0.014*but + 0.013*can + 0.011*you\n"
       ]
      },
      {
       "output_type": "stream",
       "stream": "stderr",
       "text": [
        "2014-06-07 14:22:54,688 : INFO : topic #3 (0.050): 0.032*my + 0.024*he + 0.019*was + 0.018*that + 0.013*his + 0.011*house + 0.011*out + 0.011*their + 0.010*him + 0.010*an\n"
       ]
      },
      {
       "output_type": "stream",
       "stream": "stderr",
       "text": [
        "2014-06-07 14:22:54,694 : INFO : topic #12 (0.050): 0.035*it + 0.026*have + 0.025*if + 0.021*will + 0.021*pay + 0.019*you + 0.017*get + 0.017*my + 0.017*would + 0.015*me\n"
       ]
      },
      {
       "output_type": "stream",
       "stream": "stderr",
       "text": [
        "2014-06-07 14:22:54,700 : INFO : topic #18 (0.050): 0.036*provide + 0.025*proof + 0.023*random + 0.018*mean + 0.016*act + 0.013*here's + 0.013*show + 0.012*us. + 0.010*upon + 0.010*grateful\n"
       ]
      },
      {
       "output_type": "stream",
       "stream": "stderr",
       "text": [
        "2014-06-07 14:22:54,707 : INFO : topic #15 (0.050): 0.037*her + 0.034*our + 0.030*we + 0.019*she + 0.018*would + 0.017*we're + 0.014*with + 0.012*day + 0.012*there's + 0.011*afford\n"
       ]
      },
      {
       "output_type": "stream",
       "stream": "stderr",
       "text": [
        "2014-06-07 14:22:54,713 : INFO : topic #16 (0.050): 0.046*my + 0.027*i'm + 0.026*been + 0.022*but + 0.020*i've + 0.017*this + 0.017*have + 0.014*on + 0.014*would + 0.013*just\n"
       ]
      },
      {
       "output_type": "stream",
       "stream": "stderr",
       "text": [
        "2014-06-07 14:22:54,720 : INFO : topic #4 (0.050): 0.025*would + 0.023*my + 0.017*verification + 0.016*:) + 0.013*else + 0.013*own + 0.013*4 + 0.012*apartment + 0.012*with + 0.011*just\n"
       ]
      },
      {
       "output_type": "stream",
       "stream": "stderr",
       "text": [
        "2014-06-07 14:22:54,727 : INFO : topic #11 (0.050): 0.021*today, + 0.020*alone + 0.014*house + 0.013*6 + 0.012*sister + 0.012*university + 0.012*full + 0.011*pizzas + 0.011*hospital + 0.010*$20\n"
       ]
      },
      {
       "output_type": "stream",
       "stream": "stderr",
       "text": [
        "2014-06-07 14:22:54,736 : INFO : topic #5 (0.050): 0.032*tonight + 0.019*love + 0.019*i'd + 0.018*like + 0.017*feeling + 0.014*im + 0.014*offer + 0.013*thought + 0.012*cheer + 0.012*:(\n"
       ]
      },
      {
       "output_type": "stream",
       "stream": "stderr",
       "text": [
        "2014-06-07 14:22:54,743 : INFO : topic #8 (0.050): 0.017*things + 0.016*hard + 0.016** + 0.016*jobs + 0.013*ever + 0.013*weeks. + 0.013*girl + 0.013*like + 0.012*that. + 0.011*heard\n"
       ]
      },
      {
       "output_type": "stream",
       "stream": "stderr",
       "text": [
        "2014-06-07 14:22:54,750 : INFO : topic #19 (0.050): 0.032*nice + 0.019*free + 0.014*things + 0.013*- + 0.012*papa + 0.011*stuff + 0.011*loans + 0.010*hold + 0.010*pick + 0.009*birthday\n"
       ]
      },
      {
       "output_type": "stream",
       "stream": "stderr",
       "text": [
        "2014-06-07 14:22:54,757 : INFO : topic #1 (0.050): 0.048*you + 0.018*my + 0.018*if + 0.016*like + 0.015*i'm + 0.014*that + 0.014*i'll + 0.013*some + 0.013*account + 0.012*want\n"
       ]
      },
      {
       "output_type": "stream",
       "stream": "stderr",
       "text": [
        "2014-06-07 14:22:54,763 : INFO : topic diff=0.427532, rho=0.185695\n"
       ]
      },
      {
       "output_type": "stream",
       "stream": "stderr",
       "text": [
        "2014-06-07 14:22:55,519 : INFO : -9.923 per-word bound, 971.1 perplexity estimate based on a held-out corpus of 100 documents with 5081 words\n"
       ]
      },
      {
       "output_type": "stream",
       "stream": "stderr",
       "text": [
        "2014-06-07 14:22:55,520 : INFO : PROGRESS: pass 0, at document #3000/4040\n"
       ]
      },
      {
       "output_type": "stream",
       "stream": "stderr",
       "text": [
        "2014-06-07 14:22:55,838 : INFO : merging changes from 100 documents into a model of 4040 documents\n"
       ]
      },
      {
       "output_type": "stream",
       "stream": "stderr",
       "text": [
        "2014-06-07 14:22:56,036 : INFO : topic #13 (0.050): 0.022*my + 0.018*would + 0.017*have + 0.016*on + 0.015*go + 0.013*student + 0.012*college + 0.010*too + 0.010*no + 0.010*but\n"
       ]
      },
      {
       "output_type": "stream",
       "stream": "stderr",
       "text": [
        "2014-06-07 14:22:56,042 : INFO : topic #12 (0.050): 0.035*it + 0.026*have + 0.025*if + 0.021*will + 0.020*pay + 0.020*you + 0.017*would + 0.017*get + 0.016*my + 0.016*or\n"
       ]
      },
      {
       "output_type": "stream",
       "stream": "stderr",
       "text": [
        "2014-06-07 14:22:56,049 : INFO : topic #0 (0.050): 0.046*my + 0.020*me + 0.019*out + 0.015*it + 0.015*this + 0.014*help + 0.013*on + 0.013*have + 0.013*some + 0.012*get\n"
       ]
      },
      {
       "output_type": "stream",
       "stream": "stderr",
       "text": [
        "2014-06-07 14:22:56,055 : INFO : topic #14 (0.050): 0.015*out, + 0.013*my + 0.012*far + 0.010*fridge + 0.009*that + 0.009*taken + 0.008*fine + 0.008*pizza? + 0.008*, + 0.008*saving\n"
       ]
      },
      {
       "output_type": "stream",
       "stream": "stderr",
       "text": [
        "2014-06-07 14:22:56,062 : INFO : topic #6 (0.050): 0.019*better + 0.018*this, + 0.012*up, + 0.012*can. + 0.012*too. + 0.012*out? + 0.011*awesome. + 0.010*hoping + 0.010*pie + 0.009*you!\n"
       ]
      },
      {
       "output_type": "stream",
       "stream": "stderr",
       "text": [
        "2014-06-07 14:22:56,069 : INFO : topic #1 (0.050): 0.045*you + 0.018*if + 0.017*my + 0.015*like + 0.014*that + 0.014*i'm + 0.013*account + 0.013*i'll + 0.012*want + 0.012*some\n"
       ]
      },
      {
       "output_type": "stream",
       "stream": "stderr",
       "text": [
        "2014-06-07 14:22:56,075 : INFO : topic #11 (0.050): 0.021*today, + 0.017*alone + 0.015*house + 0.015*hospital + 0.014*full + 0.012*university + 0.011*6 + 0.011*sister + 0.010*havent + 0.010*pizzas\n"
       ]
      },
      {
       "output_type": "stream",
       "stream": "stderr",
       "text": [
        "2014-06-07 14:22:56,082 : INFO : topic #16 (0.050): 0.046*my + 0.027*i'm + 0.026*been + 0.022*but + 0.019*i've + 0.017*this + 0.017*have + 0.015*on + 0.014*would + 0.012*just\n"
       ]
      },
      {
       "output_type": "stream",
       "stream": "stderr",
       "text": [
        "2014-06-07 14:22:56,091 : INFO : topic #9 (0.050): 0.016*month, + 0.012*super + 0.011*code + 0.011*everything + 0.011*game + 0.008*online + 0.008*10 + 0.008*june + 0.007*hey, + 0.007*job.\n"
       ]
      },
      {
       "output_type": "stream",
       "stream": "stderr",
       "text": [
        "2014-06-07 14:22:56,098 : INFO : topic #8 (0.050): 0.030** + 0.019*jobs + 0.017*girl + 0.016*things + 0.015*hard + 0.013*weeks. + 0.013*like + 0.012*save + 0.011*times + 0.011*ever\n"
       ]
      },
      {
       "output_type": "stream",
       "stream": "stderr",
       "text": [
        "2014-06-07 14:22:56,105 : INFO : topic #15 (0.050): 0.038*her + 0.034*our + 0.030*we + 0.026*she + 0.019*would + 0.016*we're + 0.014*with + 0.011*such + 0.011*there's + 0.011*day\n"
       ]
      },
      {
       "output_type": "stream",
       "stream": "stderr",
       "text": [
        "2014-06-07 14:22:56,114 : INFO : topic #10 (0.050): 0.056*we + 0.027*have + 0.024*are + 0.023*my + 0.018*our + 0.015*so + 0.015*us + 0.014*but + 0.013*can + 0.010*with\n"
       ]
      },
      {
       "output_type": "stream",
       "stream": "stderr",
       "text": [
        "2014-06-07 14:22:56,121 : INFO : topic #7 (0.050): 0.040*bank + 0.014*sitting + 0.011*reddit + 0.010*before, + 0.009*location + 0.009*earlier + 0.009*debit + 0.008*aid + 0.008*bad + 0.008*wanna\n"
       ]
      },
      {
       "output_type": "stream",
       "stream": "stderr",
       "text": [
        "2014-06-07 14:22:56,128 : INFO : topic #4 (0.050): 0.025*would + 0.022*my + 0.017*verification + 0.016*:) + 0.014*else + 0.012*new + 0.011*4 + 0.011*title + 0.011*whatever + 0.011*own\n"
       ]
      },
      {
       "output_type": "stream",
       "stream": "stderr",
       "text": [
        "2014-06-07 14:22:56,138 : INFO : topic #17 (0.050): 0.027*edit: + 0.017*picture + 0.017*you. + 0.015*day. + 0.013*said + 0.011*stuck + 0.011*hope + 0.010*spare + 0.009*four + 0.009*my\n"
       ]
      },
      {
       "output_type": "stream",
       "stream": "stderr",
       "text": [
        "2014-06-07 14:22:56,144 : INFO : topic diff=0.405563, rho=0.182574\n"
       ]
      },
      {
       "output_type": "stream",
       "stream": "stderr",
       "text": [
        "2014-06-07 14:22:56,148 : INFO : PROGRESS: pass 0, at document #3100/4040\n"
       ]
      },
      {
       "output_type": "stream",
       "stream": "stderr",
       "text": [
        "2014-06-07 14:22:56,607 : INFO : merging changes from 100 documents into a model of 4040 documents\n"
       ]
      },
      {
       "output_type": "stream",
       "stream": "stderr",
       "text": [
        "2014-06-07 14:22:56,809 : INFO : topic #1 (0.050): 0.051*you + 0.018*if + 0.017*my + 0.015*that + 0.014*i'm + 0.014*i'll + 0.014*like + 0.013*account + 0.011*want + 0.011*some\n"
       ]
      },
      {
       "output_type": "stream",
       "stream": "stderr",
       "text": [
        "2014-06-07 14:22:56,815 : INFO : topic #7 (0.050): 0.038*bank + 0.013*sitting + 0.013*reddit + 0.012*before, + 0.009*kindness + 0.008*wanna + 0.007*location + 0.007*lack + 0.007*playing + 0.007*earlier\n"
       ]
      },
      {
       "output_type": "stream",
       "stream": "stderr",
       "text": [
        "2014-06-07 14:22:56,822 : INFO : topic #8 (0.050): 0.025** + 0.019*hard + 0.018*things + 0.017*jobs + 0.017*times + 0.015*girl + 0.014*that. + 0.013*like + 0.012*weeks. + 0.011*save\n"
       ]
      },
      {
       "output_type": "stream",
       "stream": "stderr",
       "text": [
        "2014-06-07 14:22:56,829 : INFO : topic #0 (0.050): 0.047*my + 0.020*me + 0.019*out + 0.016*it + 0.015*help + 0.014*this + 0.013*some + 0.013*with + 0.013*on + 0.013*have\n"
       ]
      },
      {
       "output_type": "stream",
       "stream": "stderr",
       "text": [
        "2014-06-07 14:22:56,836 : INFO : topic #15 (0.050): 0.041*her + 0.034*our + 0.031*we + 0.027*she + 0.019*would + 0.016*we're + 0.015*there's + 0.014*with + 0.010*my + 0.010*day\n"
       ]
      },
      {
       "output_type": "stream",
       "stream": "stderr",
       "text": [
        "2014-06-07 14:22:56,842 : INFO : topic #10 (0.050): 0.056*we + 0.027*have + 0.024*are + 0.022*my + 0.019*our + 0.015*so + 0.014*us + 0.014*but + 0.014*can + 0.011*with\n"
       ]
      },
      {
       "output_type": "stream",
       "stream": "stderr",
       "text": [
        "2014-06-07 14:22:56,851 : INFO : topic #9 (0.050): 0.015*month, + 0.013*super + 0.011*online + 0.010*code + 0.010*everything + 0.010*soon. + 0.008*game + 0.008*broke. + 0.007*job. + 0.007*huge\n"
       ]
      },
      {
       "output_type": "stream",
       "stream": "stderr",
       "text": [
        "2014-06-07 14:22:56,858 : INFO : topic #12 (0.050): 0.036*it + 0.026*if + 0.024*have + 0.022*pay + 0.021*will + 0.020*you + 0.017*would + 0.017*get + 0.016*or + 0.016*my\n"
       ]
      },
      {
       "output_type": "stream",
       "stream": "stderr",
       "text": [
        "2014-06-07 14:22:56,865 : INFO : topic #4 (0.050): 0.025*would + 0.021*my + 0.020*verification + 0.016*:) + 0.012*else + 0.011*new + 0.011*whatever + 0.011*with + 0.011*title + 0.011*4\n"
       ]
      },
      {
       "output_type": "stream",
       "stream": "stderr",
       "text": [
        "2014-06-07 14:22:56,871 : INFO : topic #13 (0.050): 0.021*my + 0.018*would + 0.016*have + 0.015*on + 0.014*go + 0.011*definitely + 0.011*any + 0.011*student + 0.011*no + 0.010*too\n"
       ]
      },
      {
       "output_type": "stream",
       "stream": "stderr",
       "text": [
        "2014-06-07 14:22:56,878 : INFO : topic #17 (0.050): 0.025*edit: + 0.017*picture + 0.017*you. + 0.016*day. + 0.015*stuck + 0.013*said + 0.012*hope + 0.010*four + 0.010*spare + 0.008*them.\n"
       ]
      },
      {
       "output_type": "stream",
       "stream": "stderr",
       "text": [
        "2014-06-07 14:22:56,885 : INFO : topic #19 (0.050): 0.038*nice + 0.021*free + 0.017*papa + 0.013*things + 0.012*pick + 0.012*wonderful + 0.011*hold + 0.011*- + 0.009*worth + 0.009*stuff\n"
       ]
      },
      {
       "output_type": "stream",
       "stream": "stderr",
       "text": [
        "2014-06-07 14:22:56,892 : INFO : topic #14 (0.050): 0.015*out, + 0.012*my + 0.010*far + 0.010*fridge + 0.009*that + 0.008*fine + 0.008*taken + 0.007*, + 0.007*saving + 0.007*especially\n"
       ]
      },
      {
       "output_type": "stream",
       "stream": "stderr",
       "text": [
        "2014-06-07 14:22:56,898 : INFO : topic #6 (0.050): 0.025*this, + 0.018*can. + 0.016*better + 0.014*up, + 0.011*awesome. + 0.011*too. + 0.011*hoping + 0.010*you! + 0.009*out? + 0.009*dollar\n"
       ]
      },
      {
       "output_type": "stream",
       "stream": "stderr",
       "text": [
        "2014-06-07 14:22:56,904 : INFO : topic #16 (0.050): 0.045*my + 0.028*i'm + 0.025*been + 0.022*but + 0.019*i've + 0.016*have + 0.016*this + 0.014*would + 0.014*on + 0.012*just\n"
       ]
      },
      {
       "output_type": "stream",
       "stream": "stderr",
       "text": [
        "2014-06-07 14:22:56,910 : INFO : topic diff=0.533315, rho=0.179605\n"
       ]
      },
      {
       "output_type": "stream",
       "stream": "stderr",
       "text": [
        "2014-06-07 14:22:56,914 : INFO : PROGRESS: pass 0, at document #3200/4040\n"
       ]
      },
      {
       "output_type": "stream",
       "stream": "stderr",
       "text": [
        "2014-06-07 14:22:57,267 : INFO : merging changes from 100 documents into a model of 4040 documents\n"
       ]
      },
      {
       "output_type": "stream",
       "stream": "stderr",
       "text": [
        "2014-06-07 14:22:57,467 : INFO : topic #4 (0.050): 0.024*would + 0.021*my + 0.020*verification + 0.014*:) + 0.013*title + 0.012*says + 0.012*own + 0.012*with + 0.012*4 + 0.011*else\n"
       ]
      },
      {
       "output_type": "stream",
       "stream": "stderr",
       "text": [
        "2014-06-07 14:22:57,473 : INFO : topic #12 (0.050): 0.036*it + 0.026*if + 0.024*have + 0.022*pay + 0.020*will + 0.020*you + 0.017*or + 0.017*would + 0.016*get + 0.016*my\n"
       ]
      },
      {
       "output_type": "stream",
       "stream": "stderr",
       "text": [
        "2014-06-07 14:22:57,480 : INFO : topic #9 (0.050): 0.014*super + 0.012*month, + 0.012*10 + 0.010*game + 0.010*online + 0.009*however, + 0.009*job. + 0.009*code + 0.008*everything + 0.008*broke.\n"
       ]
      },
      {
       "output_type": "stream",
       "stream": "stderr",
       "text": [
        "2014-06-07 14:22:57,487 : INFO : topic #8 (0.050): 0.028** + 0.020*hard + 0.019*things + 0.016*girl + 0.015*jobs + 0.015*times + 0.014*weeks. + 0.013*save + 0.013*ever + 0.012*that.\n"
       ]
      },
      {
       "output_type": "stream",
       "stream": "stderr",
       "text": [
        "2014-06-07 14:22:57,494 : INFO : topic #15 (0.050): 0.040*her + 0.033*our + 0.031*we + 0.026*she + 0.019*would + 0.019*we're + 0.014*with + 0.012*there's + 0.011*afford + 0.011*day\n"
       ]
      },
      {
       "output_type": "stream",
       "stream": "stderr",
       "text": [
        "2014-06-07 14:22:57,500 : INFO : topic #11 (0.050): 0.020*today, + 0.015*hospital + 0.014*alone + 0.014*house + 0.013*university + 0.013*pizzas + 0.010*full + 0.010*sending + 0.010*thats + 0.010*sister\n"
       ]
      },
      {
       "output_type": "stream",
       "stream": "stderr",
       "text": [
        "2014-06-07 14:22:57,506 : INFO : topic #3 (0.050): 0.032*my + 0.028*he + 0.018*was + 0.018*that + 0.014*his + 0.013*their + 0.012*him + 0.011*house + 0.010*they + 0.010*out\n"
       ]
      },
      {
       "output_type": "stream",
       "stream": "stderr",
       "text": [
        "2014-06-07 14:22:57,513 : INFO : topic #7 (0.050): 0.042*bank + 0.013*sitting + 0.012*reddit + 0.011*before, + 0.010*location + 0.009*aid + 0.009*wanna + 0.008*bad + 0.007*lack + 0.007*lots\n"
       ]
      },
      {
       "output_type": "stream",
       "stream": "stderr",
       "text": [
        "2014-06-07 14:22:57,519 : INFO : topic #1 (0.050): 0.051*you + 0.018*if + 0.017*my + 0.016*that + 0.014*account + 0.014*i'm + 0.014*i'll + 0.013*like + 0.013*might + 0.012*want\n"
       ]
      },
      {
       "output_type": "stream",
       "stream": "stderr",
       "text": [
        "2014-06-07 14:22:57,525 : INFO : topic #19 (0.050): 0.035*nice + 0.022*free + 0.015*papa + 0.014*things + 0.014*stuff + 0.013*- + 0.013*pick + 0.012*hold + 0.010*worth + 0.010*wonderful\n"
       ]
      },
      {
       "output_type": "stream",
       "stream": "stderr",
       "text": [
        "2014-06-07 14:22:57,530 : INFO : topic #13 (0.050): 0.021*my + 0.018*would + 0.016*have + 0.015*on + 0.013*go + 0.011*student + 0.011*definitely + 0.010*but + 0.010*no + 0.010*any\n"
       ]
      },
      {
       "output_type": "stream",
       "stream": "stderr",
       "text": [
        "2014-06-07 14:22:57,536 : INFO : topic #6 (0.050): 0.024*this, + 0.017*can. + 0.014*better + 0.014*too. + 0.014*up, + 0.011*pie + 0.010*awesome. + 0.010*out? + 0.009*:d + 0.009*hoping\n"
       ]
      },
      {
       "output_type": "stream",
       "stream": "stderr",
       "text": [
        "2014-06-07 14:22:57,542 : INFO : topic #17 (0.050): 0.027*edit: + 0.017*said + 0.016*you. + 0.015*day. + 0.014*picture + 0.014*stuck + 0.011*hope + 0.011*several + 0.009*four + 0.009*rather\n"
       ]
      },
      {
       "output_type": "stream",
       "stream": "stderr",
       "text": [
        "2014-06-07 14:22:57,548 : INFO : topic #16 (0.050): 0.045*my + 0.027*i'm + 0.026*been + 0.022*but + 0.020*i've + 0.017*have + 0.016*this + 0.015*would + 0.014*on + 0.012*just\n"
       ]
      },
      {
       "output_type": "stream",
       "stream": "stderr",
       "text": [
        "2014-06-07 14:22:57,555 : INFO : topic #10 (0.050): 0.059*we + 0.027*have + 0.023*are + 0.022*my + 0.020*our + 0.015*so + 0.015*us + 0.014*but + 0.013*can + 0.011*with\n"
       ]
      },
      {
       "output_type": "stream",
       "stream": "stderr",
       "text": [
        "2014-06-07 14:22:57,561 : INFO : topic diff=0.471398, rho=0.176777\n"
       ]
      },
      {
       "output_type": "stream",
       "stream": "stderr",
       "text": [
        "2014-06-07 14:22:57,566 : INFO : PROGRESS: pass 0, at document #3300/4040\n"
       ]
      },
      {
       "output_type": "stream",
       "stream": "stderr",
       "text": [
        "2014-06-07 14:22:57,971 : INFO : merging changes from 100 documents into a model of 4040 documents\n"
       ]
      },
      {
       "output_type": "stream",
       "stream": "stderr",
       "text": [
        "2014-06-07 14:22:58,168 : INFO : topic #8 (0.050): 0.023** + 0.020*hard + 0.018*times + 0.017*jobs + 0.017*girl + 0.017*things + 0.015*surprise + 0.014*weeks. + 0.012*save + 0.012*ever\n"
       ]
      },
      {
       "output_type": "stream",
       "stream": "stderr",
       "text": [
        "2014-06-07 14:22:58,174 : INFO : topic #4 (0.050): 0.024*would + 0.020*my + 0.019*verification + 0.013*:) + 0.013*with + 0.013*im + 0.012*title + 0.012*says + 0.012*own + 0.011*4\n"
       ]
      },
      {
       "output_type": "stream",
       "stream": "stderr",
       "text": [
        "2014-06-07 14:22:58,181 : INFO : topic #6 (0.050): 0.023*this, + 0.019*better + 0.014*too. + 0.014*up, + 0.014*can. + 0.011*short, + 0.011*awesome. + 0.011*pie + 0.010*out? + 0.009*you!\n"
       ]
      },
      {
       "output_type": "stream",
       "stream": "stderr",
       "text": [
        "2014-06-07 14:22:58,188 : INFO : topic #7 (0.050): 0.039*bank + 0.014*reddit + 0.012*sitting + 0.010*location + 0.010*before, + 0.009*wanna + 0.008*kindness + 0.008*aid + 0.008*debit + 0.007*bad\n"
       ]
      },
      {
       "output_type": "stream",
       "stream": "stderr",
       "text": [
        "2014-06-07 14:22:58,194 : INFO : topic #9 (0.050): 0.015*super + 0.012*month, + 0.012*hey, + 0.012*game + 0.011*online + 0.011*job. + 0.010*10 + 0.009*code + 0.009*broke. + 0.008*huge\n"
       ]
      },
      {
       "output_type": "stream",
       "stream": "stderr",
       "text": [
        "2014-06-07 14:22:58,200 : INFO : topic #14 (0.050): 0.016*fridge + 0.015*out, + 0.013*far + 0.011*my + 0.009*that + 0.007*fine + 0.007*taken + 0.007*gotten + 0.007*especially + 0.007*tax\n"
       ]
      },
      {
       "output_type": "stream",
       "stream": "stderr",
       "text": [
        "2014-06-07 14:22:58,207 : INFO : topic #16 (0.050): 0.046*my + 0.028*been + 0.027*i'm + 0.021*but + 0.021*i've + 0.016*this + 0.016*have + 0.015*would + 0.014*on + 0.013*just\n"
       ]
      },
      {
       "output_type": "stream",
       "stream": "stderr",
       "text": [
        "2014-06-07 14:22:58,216 : INFO : topic #10 (0.050): 0.060*we + 0.026*have + 0.025*are + 0.022*my + 0.022*our + 0.016*us + 0.015*so + 0.013*can + 0.013*but + 0.012*with\n"
       ]
      },
      {
       "output_type": "stream",
       "stream": "stderr",
       "text": [
        "2014-06-07 14:22:58,223 : INFO : topic #0 (0.050): 0.049*my + 0.020*me + 0.019*out + 0.016*it + 0.015*help + 0.015*with + 0.014*some + 0.013*this + 0.013*on + 0.012*have\n"
       ]
      },
      {
       "output_type": "stream",
       "stream": "stderr",
       "text": [
        "2014-06-07 14:22:58,229 : INFO : topic #15 (0.050): 0.041*her + 0.033*our + 0.030*we + 0.029*she + 0.019*would + 0.018*we're + 0.015*with + 0.012*there's + 0.012*afford + 0.010*my\n"
       ]
      },
      {
       "output_type": "stream",
       "stream": "stderr",
       "text": [
        "2014-06-07 14:22:58,236 : INFO : topic #18 (0.050): 0.034*provide + 0.024*random + 0.023*proof + 0.018*mean + 0.015*show + 0.014*here's + 0.013*us. + 0.013*time, + 0.012*act + 0.012*honest\n"
       ]
      },
      {
       "output_type": "stream",
       "stream": "stderr",
       "text": [
        "2014-06-07 14:22:58,243 : INFO : topic #1 (0.050): 0.052*you + 0.018*if + 0.016*my + 0.015*i'll + 0.015*that + 0.015*account + 0.014*i'm + 0.012*like + 0.012*might + 0.012*some\n"
       ]
      },
      {
       "output_type": "stream",
       "stream": "stderr",
       "text": [
        "2014-06-07 14:22:58,250 : INFO : topic #19 (0.050): 0.036*nice + 0.019*free + 0.016*pick + 0.014*- + 0.014*stuff + 0.014*things + 0.013*papa + 0.012*worth + 0.011*wonderful + 0.011*hold\n"
       ]
      },
      {
       "output_type": "stream",
       "stream": "stderr",
       "text": [
        "2014-06-07 14:22:58,259 : INFO : topic #5 (0.050): 0.029*tonight + 0.018*feeling + 0.016*i'd + 0.015*like + 0.015*love + 0.014*:( + 0.013*thursday + 0.013*offer + 0.013*thought + 0.012*advance\n"
       ]
      },
      {
       "output_type": "stream",
       "stream": "stderr",
       "text": [
        "2014-06-07 14:22:58,267 : INFO : topic #17 (0.050): 0.024*edit: + 0.017*day. + 0.017*said + 0.015*picture + 0.015*you. + 0.014*stuck + 0.012*hope + 0.011*several + 0.010*rather + 0.009*four\n"
       ]
      },
      {
       "output_type": "stream",
       "stream": "stderr",
       "text": [
        "2014-06-07 14:22:58,273 : INFO : topic diff=0.379527, rho=0.174078\n"
       ]
      },
      {
       "output_type": "stream",
       "stream": "stderr",
       "text": [
        "2014-06-07 14:22:58,276 : INFO : PROGRESS: pass 0, at document #3400/4040\n"
       ]
      },
      {
       "output_type": "stream",
       "stream": "stderr",
       "text": [
        "2014-06-07 14:22:58,686 : INFO : merging changes from 100 documents into a model of 4040 documents\n"
       ]
      },
      {
       "output_type": "stream",
       "stream": "stderr",
       "text": [
        "2014-06-07 14:22:58,881 : INFO : topic #1 (0.050): 0.056*you + 0.018*if + 0.016*my + 0.015*account + 0.015*i'll + 0.015*that + 0.014*i'm + 0.013*want + 0.012*like + 0.011*might\n"
       ]
      },
      {
       "output_type": "stream",
       "stream": "stderr",
       "text": [
        "2014-06-07 14:22:58,887 : INFO : topic #16 (0.050): 0.046*my + 0.029*been + 0.027*i'm + 0.022*i've + 0.021*but + 0.016*have + 0.016*this + 0.015*would + 0.014*on + 0.013*just\n"
       ]
      },
      {
       "output_type": "stream",
       "stream": "stderr",
       "text": [
        "2014-06-07 14:22:58,894 : INFO : topic #5 (0.050): 0.031*tonight + 0.017*love + 0.017*feeling + 0.015*:( + 0.015*i'd + 0.014*like + 0.013*thursday + 0.012*offer + 0.012*thought + 0.011*draw\n"
       ]
      },
      {
       "output_type": "stream",
       "stream": "stderr",
       "text": [
        "2014-06-07 14:22:58,901 : INFO : topic #11 (0.050): 0.019*today, + 0.017*alone + 0.015*hospital + 0.014*sending + 0.014*hasn't + 0.013*house + 0.013*sister + 0.013*6 + 0.011*pizzas + 0.010*watch\n"
       ]
      },
      {
       "output_type": "stream",
       "stream": "stderr",
       "text": [
        "2014-06-07 14:22:58,908 : INFO : topic #12 (0.050): 0.038*it + 0.026*if + 0.024*have + 0.023*pay + 0.021*you + 0.020*will + 0.019*would + 0.016*my + 0.016*or + 0.016*get\n"
       ]
      },
      {
       "output_type": "stream",
       "stream": "stderr",
       "text": [
        "2014-06-07 14:22:58,914 : INFO : topic #3 (0.050): 0.031*my + 0.027*he + 0.020*was + 0.016*that + 0.014*his + 0.012*their + 0.011*house + 0.011*him + 0.011*they + 0.010*out\n"
       ]
      },
      {
       "output_type": "stream",
       "stream": "stderr",
       "text": [
        "2014-06-07 14:22:58,923 : INFO : topic #7 (0.050): 0.039*bank + 0.014*sitting + 0.012*reddit + 0.010*location + 0.010*before, + 0.010*everyone! + 0.009*wanna + 0.008*aid + 0.007*rather + 0.007*bad\n"
       ]
      },
      {
       "output_type": "stream",
       "stream": "stderr",
       "text": [
        "2014-06-07 14:22:58,930 : INFO : topic #15 (0.050): 0.042*her + 0.034*our + 0.030*she + 0.028*we + 0.021*we're + 0.021*would + 0.015*with + 0.013*there's + 0.011*afford + 0.010*my\n"
       ]
      },
      {
       "output_type": "stream",
       "stream": "stderr",
       "text": [
        "2014-06-07 14:22:58,937 : INFO : topic #2 (0.050): 0.023*craving + 0.017*gift + 0.015*short + 0.015*we + 0.013*friday, + 0.013*sounds + 0.012*us + 0.011*write + 0.010*are + 0.009*week,\n"
       ]
      },
      {
       "output_type": "stream",
       "stream": "stderr",
       "text": [
        "2014-06-07 14:22:58,944 : INFO : topic #9 (0.050): 0.014*super + 0.014*month, + 0.013*hey, + 0.013*game + 0.011*online + 0.011*forever + 0.011*huge + 0.009*job. + 0.009*broke. + 0.009*10\n"
       ]
      },
      {
       "output_type": "stream",
       "stream": "stderr",
       "text": [
        "2014-06-07 14:22:58,950 : INFO : topic #0 (0.050): 0.049*my + 0.021*me + 0.019*out + 0.016*help + 0.016*it + 0.015*with + 0.014*some + 0.013*this + 0.012*on + 0.012*get\n"
       ]
      },
      {
       "output_type": "stream",
       "stream": "stderr",
       "text": [
        "2014-06-07 14:22:58,957 : INFO : topic #19 (0.050): 0.036*nice + 0.020*free + 0.017*stuff + 0.017*wonderful + 0.015*things + 0.015*pick + 0.014*papa + 0.012*- + 0.011*birthday + 0.010*hold\n"
       ]
      },
      {
       "output_type": "stream",
       "stream": "stderr",
       "text": [
        "2014-06-07 14:22:58,964 : INFO : topic #17 (0.050): 0.025*edit: + 0.020*said + 0.017*you. + 0.016*day. + 0.015*picture + 0.015*hope + 0.014*stuck + 0.011*rather + 0.010*four + 0.010*several\n"
       ]
      },
      {
       "output_type": "stream",
       "stream": "stderr",
       "text": [
        "2014-06-07 14:22:58,971 : INFO : topic #6 (0.050): 0.022*better + 0.021*this, + 0.014*up, + 0.012*too. + 0.012*can. + 0.012*:d + 0.011*out? + 0.011*you! + 0.010*short, + 0.010*awesome.\n"
       ]
      },
      {
       "output_type": "stream",
       "stream": "stderr",
       "text": [
        "2014-06-07 14:22:58,977 : INFO : topic #10 (0.050): 0.058*we + 0.026*are + 0.025*have + 0.023*our + 0.022*my + 0.016*so + 0.014*us + 0.013*can + 0.013*but + 0.012*with\n"
       ]
      },
      {
       "output_type": "stream",
       "stream": "stderr",
       "text": [
        "2014-06-07 14:22:58,983 : INFO : topic diff=0.366741, rho=0.171499\n"
       ]
      },
      {
       "output_type": "stream",
       "stream": "stderr",
       "text": [
        "2014-06-07 14:22:58,987 : INFO : PROGRESS: pass 0, at document #3500/4040\n"
       ]
      },
      {
       "output_type": "stream",
       "stream": "stderr",
       "text": [
        "2014-06-07 14:22:59,444 : INFO : merging changes from 100 documents into a model of 4040 documents\n"
       ]
      },
      {
       "output_type": "stream",
       "stream": "stderr",
       "text": [
        "2014-06-07 14:22:59,638 : INFO : topic #14 (0.050): 0.018*fridge + 0.015*out, + 0.011*far + 0.011*my + 0.008*gotten + 0.007*insurance + 0.007*that + 0.007*fine + 0.007*we'd + 0.007*sort\n"
       ]
      },
      {
       "output_type": "stream",
       "stream": "stderr",
       "text": [
        "2014-06-07 14:22:59,645 : INFO : topic #12 (0.050): 0.038*it + 0.026*if + 0.024*have + 0.022*pay + 0.021*will + 0.020*you + 0.019*would + 0.017*or + 0.016*my + 0.016*get\n"
       ]
      },
      {
       "output_type": "stream",
       "stream": "stderr",
       "text": [
        "2014-06-07 14:22:59,653 : INFO : topic #6 (0.050): 0.027*better + 0.018*this, + 0.013*out? + 0.013*:d + 0.012*too. + 0.012*can. + 0.012*up, + 0.010*pie + 0.009*you! + 0.009*redditors\n"
       ]
      },
      {
       "output_type": "stream",
       "stream": "stderr",
       "text": [
        "2014-06-07 14:22:59,660 : INFO : topic #8 (0.050): 0.018*surprise + 0.018*jobs + 0.017** + 0.017*hard + 0.015*weeks. + 0.015*things + 0.014*times + 0.013*girl + 0.012*save + 0.012*that.\n"
       ]
      },
      {
       "output_type": "stream",
       "stream": "stderr",
       "text": [
        "2014-06-07 14:22:59,664 : INFO : topic #7 (0.050): 0.038*bank + 0.012*sitting + 0.012*canned + 0.012*reddit + 0.010*location + 0.010*wanna + 0.010*rather + 0.009*towards + 0.009*:p + 0.009*aid\n"
       ]
      },
      {
       "output_type": "stream",
       "stream": "stderr",
       "text": [
        "2014-06-07 14:22:59,673 : INFO : topic #10 (0.050): 0.058*we + 0.026*have + 0.025*are + 0.023*our + 0.021*my + 0.016*so + 0.015*us + 0.014*can + 0.013*but + 0.012*you\n"
       ]
      },
      {
       "output_type": "stream",
       "stream": "stderr",
       "text": [
        "2014-06-07 14:22:59,680 : INFO : topic #9 (0.050): 0.014*month, + 0.013*super + 0.013*hey, + 0.012*online + 0.011*game + 0.010*huge + 0.010*forever + 0.010*however, + 0.009*code + 0.009*know.\n"
       ]
      },
      {
       "output_type": "stream",
       "stream": "stderr",
       "text": [
        "2014-06-07 14:22:59,687 : INFO : topic #18 (0.050): 0.027*provide + 0.024*proof + 0.022*here's + 0.020*random + 0.016*mean + 0.015*us. + 0.014*show + 0.012*time, + 0.010*honest + 0.009*your\n"
       ]
      },
      {
       "output_type": "stream",
       "stream": "stderr",
       "text": [
        "2014-06-07 14:22:59,694 : INFO : topic #15 (0.050): 0.056*her + 0.036*she + 0.036*our + 0.028*we + 0.021*we're + 0.020*would + 0.015*with + 0.011*there's + 0.011*afford + 0.010*my\n"
       ]
      },
      {
       "output_type": "stream",
       "stream": "stderr",
       "text": [
        "2014-06-07 14:22:59,700 : INFO : topic #3 (0.050): 0.030*he + 0.030*my + 0.019*was + 0.016*that + 0.015*his + 0.014*him + 0.010*house + 0.010*their + 0.010*they + 0.010*out\n"
       ]
      },
      {
       "output_type": "stream",
       "stream": "stderr",
       "text": [
        "2014-06-07 14:22:59,707 : INFO : topic #13 (0.050): 0.019*would + 0.019*my + 0.016*have + 0.015*student + 0.014*on + 0.013*go + 0.012*college + 0.011*no + 0.009*too + 0.009*tomorrow\n"
       ]
      },
      {
       "output_type": "stream",
       "stream": "stderr",
       "text": [
        "2014-06-07 14:22:59,713 : INFO : topic #4 (0.050): 0.025*would + 0.019*my + 0.016*verification + 0.013*title + 0.013*with + 0.012*:) + 0.012*appreciated + 0.012*im + 0.011*says + 0.011*new\n"
       ]
      },
      {
       "output_type": "stream",
       "stream": "stderr",
       "text": [
        "2014-06-07 14:22:59,720 : INFO : topic #19 (0.050): 0.037*nice + 0.023*free + 0.017*things + 0.016*birthday + 0.016*wonderful + 0.015*papa + 0.014*pick + 0.014*stuff + 0.011*- + 0.010*worth\n"
       ]
      },
      {
       "output_type": "stream",
       "stream": "stderr",
       "text": [
        "2014-06-07 14:22:59,727 : INFO : topic #11 (0.050): 0.019*today, + 0.018*alone + 0.016*hospital + 0.015*6 + 0.012*university + 0.012*pizzas + 0.012*house + 0.012*sending + 0.011*hasn't + 0.010*sister\n"
       ]
      },
      {
       "output_type": "stream",
       "stream": "stderr",
       "text": [
        "2014-06-07 14:22:59,737 : INFO : topic #16 (0.050): 0.045*my + 0.028*been + 0.026*i'm + 0.021*but + 0.020*i've + 0.017*this + 0.016*have + 0.015*would + 0.014*on + 0.014*just\n"
       ]
      },
      {
       "output_type": "stream",
       "stream": "stderr",
       "text": [
        "2014-06-07 14:22:59,742 : INFO : topic diff=0.481307, rho=0.169031\n"
       ]
      },
      {
       "output_type": "stream",
       "stream": "stderr",
       "text": [
        "2014-06-07 14:22:59,746 : INFO : PROGRESS: pass 0, at document #3600/4040\n"
       ]
      },
      {
       "output_type": "stream",
       "stream": "stderr",
       "text": [
        "2014-06-07 14:23:00,082 : INFO : merging changes from 100 documents into a model of 4040 documents\n"
       ]
      },
      {
       "output_type": "stream",
       "stream": "stderr",
       "text": [
        "2014-06-07 14:23:00,279 : INFO : topic #14 (0.050): 0.016*fridge + 0.014*out, + 0.013*far + 0.010*my + 0.010*, + 0.008*fine + 0.007*sort + 0.007*need. + 0.007*that + 0.006*gotten\n"
       ]
      },
      {
       "output_type": "stream",
       "stream": "stderr",
       "text": [
        "2014-06-07 14:23:00,286 : INFO : topic #4 (0.050): 0.024*would + 0.020*my + 0.018*verification + 0.015*im + 0.014*appreciated + 0.013*title + 0.012*new + 0.012*with + 0.012*4 + 0.011*says\n"
       ]
      },
      {
       "output_type": "stream",
       "stream": "stderr",
       "text": [
        "2014-06-07 14:23:00,292 : INFO : topic #16 (0.050): 0.044*my + 0.027*i'm + 0.026*been + 0.021*but + 0.018*i've + 0.018*this + 0.016*have + 0.015*would + 0.014*just + 0.013*on\n"
       ]
      },
      {
       "output_type": "stream",
       "stream": "stderr",
       "text": [
        "2014-06-07 14:23:00,299 : INFO : topic #11 (0.050): 0.021*today, + 0.020*6 + 0.017*alone + 0.015*hospital + 0.013*house + 0.012*pizzas + 0.011*special + 0.011*university + 0.010*. + 0.010*tonight\n"
       ]
      },
      {
       "output_type": "stream",
       "stream": "stderr",
       "text": [
        "2014-06-07 14:23:00,305 : INFO : topic #5 (0.050): 0.029*tonight + 0.017*love + 0.016*feeling + 0.015*i'd + 0.014*like + 0.014*:( + 0.013*cheer + 0.012*thought + 0.010*thursday + 0.010*offer\n"
       ]
      },
      {
       "output_type": "stream",
       "stream": "stderr",
       "text": [
        "2014-06-07 14:23:00,312 : INFO : topic #8 (0.050): 0.020*jobs + 0.018*hard + 0.018*surprise + 0.017*things + 0.016*weeks. + 0.015** + 0.014*times + 0.014*save + 0.012*that. + 0.011*girl\n"
       ]
      },
      {
       "output_type": "stream",
       "stream": "stderr",
       "text": [
        "2014-06-07 14:23:00,318 : INFO : topic #2 (0.050): 0.019*gift + 0.018*craving + 0.018*short + 0.014*friday, + 0.012*sounds + 0.012*we + 0.011*us + 0.010*week, + 0.010*cash. + 0.009*are\n"
       ]
      },
      {
       "output_type": "stream",
       "stream": "stderr",
       "text": [
        "2014-06-07 14:23:00,325 : INFO : topic #9 (0.050): 0.014*hey, + 0.013*online + 0.013*super + 0.012*game + 0.012*month, + 0.010*huge + 0.009*know. + 0.009*10 + 0.008*forever + 0.008*however,\n"
       ]
      },
      {
       "output_type": "stream",
       "stream": "stderr",
       "text": [
        "2014-06-07 14:23:00,332 : INFO : topic #7 (0.050): 0.035*bank + 0.016*sitting + 0.011*towards + 0.010*canned + 0.010*set + 0.010*reddit + 0.009*aid + 0.009*location + 0.009*before, + 0.008*everyone!\n"
       ]
      },
      {
       "output_type": "stream",
       "stream": "stderr",
       "text": [
        "2014-06-07 14:23:00,339 : INFO : topic #0 (0.050): 0.049*my + 0.021*me + 0.019*out + 0.016*help + 0.015*it + 0.015*with + 0.015*some + 0.014*this + 0.013*get + 0.013*just\n"
       ]
      },
      {
       "output_type": "stream",
       "stream": "stderr",
       "text": [
        "2014-06-07 14:23:00,346 : INFO : topic #18 (0.050): 0.027*provide + 0.021*proof + 0.021*here's + 0.020*random + 0.019*mean + 0.016*us. + 0.013*time, + 0.013*show + 0.010*your + 0.010*honest\n"
       ]
      },
      {
       "output_type": "stream",
       "stream": "stderr",
       "text": [
        "2014-06-07 14:23:00,354 : INFO : topic #15 (0.050): 0.055*her + 0.035*our + 0.035*she + 0.027*we + 0.022*we're + 0.019*would + 0.015*with + 0.011*there's + 0.011*afford + 0.010*day\n"
       ]
      },
      {
       "output_type": "stream",
       "stream": "stderr",
       "text": [
        "2014-06-07 14:23:00,362 : INFO : topic #12 (0.050): 0.038*it + 0.026*if + 0.024*have + 0.022*pay + 0.021*will + 0.020*you + 0.020*would + 0.017*or + 0.017*get + 0.016*my\n"
       ]
      },
      {
       "output_type": "stream",
       "stream": "stderr",
       "text": [
        "2014-06-07 14:23:00,371 : INFO : topic #1 (0.050): 0.057*you + 0.017*if + 0.016*i'll + 0.015*my + 0.015*want + 0.014*that + 0.014*account + 0.013*i'm + 0.013*might + 0.012*like\n"
       ]
      },
      {
       "output_type": "stream",
       "stream": "stderr",
       "text": [
        "2014-06-07 14:23:00,378 : INFO : topic #17 (0.050): 0.023*day. + 0.022*edit: + 0.020*said + 0.020*you. + 0.018*picture + 0.014*stuck + 0.013*hope + 0.009*them. + 0.009*forward. + 0.008*-\n"
       ]
      },
      {
       "output_type": "stream",
       "stream": "stderr",
       "text": [
        "2014-06-07 14:23:00,384 : INFO : topic diff=0.399280, rho=0.166667\n"
       ]
      },
      {
       "output_type": "stream",
       "stream": "stderr",
       "text": [
        "2014-06-07 14:23:00,388 : INFO : PROGRESS: pass 0, at document #3700/4040\n"
       ]
      },
      {
       "output_type": "stream",
       "stream": "stderr",
       "text": [
        "2014-06-07 14:23:00,786 : INFO : merging changes from 100 documents into a model of 4040 documents\n"
       ]
      },
      {
       "output_type": "stream",
       "stream": "stderr",
       "text": [
        "2014-06-07 14:23:00,982 : INFO : topic #9 (0.050): 0.016*hey, + 0.014*super + 0.013*online + 0.010*game + 0.010*huge + 0.010*month, + 0.009*forever + 0.009*however, + 0.008*know. + 0.008*job.\n"
       ]
      },
      {
       "output_type": "stream",
       "stream": "stderr",
       "text": [
        "2014-06-07 14:23:00,989 : INFO : topic #1 (0.050): 0.056*you + 0.016*if + 0.016*might + 0.015*my + 0.015*want + 0.014*i'll + 0.014*that + 0.013*account + 0.013*i'm + 0.011*some\n"
       ]
      },
      {
       "output_type": "stream",
       "stream": "stderr",
       "text": [
        "2014-06-07 14:23:00,994 : INFO : topic #4 (0.050): 0.023*would + 0.020*my + 0.018*im + 0.016*verification + 0.013*all. + 0.013*appreciated + 0.012*apartment + 0.012*new + 0.012*with + 0.012*title\n"
       ]
      },
      {
       "output_type": "stream",
       "stream": "stderr",
       "text": [
        "2014-06-07 14:23:01,003 : INFO : topic #6 (0.050): 0.029*better + 0.019*this, + 0.015*says, + 0.014*:d + 0.014*too. + 0.013*redditors + 0.012*can. + 0.011*you! + 0.011*hook + 0.010*up,\n"
       ]
      },
      {
       "output_type": "stream",
       "stream": "stderr",
       "text": [
        "2014-06-07 14:23:01,009 : INFO : topic #15 (0.050): 0.055*her + 0.034*she + 0.033*our + 0.026*we + 0.020*we're + 0.019*would + 0.016*with + 0.012*afford + 0.011*there's + 0.010*day\n"
       ]
      },
      {
       "output_type": "stream",
       "stream": "stderr",
       "text": [
        "2014-06-07 14:23:01,016 : INFO : topic #18 (0.050): 0.023*provide + 0.022*proof + 0.020*here's + 0.017*random + 0.017*mean + 0.015*us. + 0.015*show + 0.012*time, + 0.012*cheesy + 0.010*upon\n"
       ]
      },
      {
       "output_type": "stream",
       "stream": "stderr",
       "text": [
        "2014-06-07 14:23:01,022 : INFO : topic #14 (0.050): 0.017*fridge + 0.014*out, + 0.012*far + 0.010*my + 0.008*, + 0.008*gotten + 0.007*sort + 0.007*need. + 0.007*pizza? + 0.007*is,\n"
       ]
      },
      {
       "output_type": "stream",
       "stream": "stderr",
       "text": [
        "2014-06-07 14:23:01,030 : INFO : topic #10 (0.050): 0.061*we + 0.028*are + 0.026*have + 0.022*our + 0.021*my + 0.015*so + 0.015*us + 0.014*but + 0.013*can + 0.011*with\n"
       ]
      },
      {
       "output_type": "stream",
       "stream": "stderr",
       "text": [
        "2014-06-07 14:23:01,038 : INFO : topic #13 (0.050): 0.018*would + 0.018*my + 0.015*have + 0.014*on + 0.013*college + 0.013*student + 0.013*go + 0.010*no + 0.009*but + 0.009*any\n"
       ]
      },
      {
       "output_type": "stream",
       "stream": "stderr",
       "text": [
        "2014-06-07 14:23:01,046 : INFO : topic #8 (0.050): 0.021*jobs + 0.018*weeks. + 0.017*things + 0.016*hard + 0.016*surprise + 0.014*save + 0.014*times + 0.013** + 0.012*ever + 0.011*girl\n"
       ]
      },
      {
       "output_type": "stream",
       "stream": "stderr",
       "text": [
        "2014-06-07 14:23:01,052 : INFO : topic #5 (0.050): 0.026*tonight + 0.017*feeling + 0.015*i'd + 0.015*love + 0.014*like + 0.012*cheer + 0.012*thought + 0.012*:( + 0.011*sorry + 0.010*offer\n"
       ]
      },
      {
       "output_type": "stream",
       "stream": "stderr",
       "text": [
        "2014-06-07 14:23:01,059 : INFO : topic #16 (0.050): 0.044*my + 0.028*i'm + 0.026*been + 0.021*but + 0.018*i've + 0.017*this + 0.016*have + 0.015*would + 0.014*on + 0.013*really\n"
       ]
      },
      {
       "output_type": "stream",
       "stream": "stderr",
       "text": [
        "2014-06-07 14:23:01,066 : INFO : topic #12 (0.050): 0.036*it + 0.025*if + 0.024*have + 0.022*will + 0.021*pay + 0.020*you + 0.019*would + 0.017*or + 0.017*get + 0.016*my\n"
       ]
      },
      {
       "output_type": "stream",
       "stream": "stderr",
       "text": [
        "2014-06-07 14:23:01,075 : INFO : topic #19 (0.050): 0.037*nice + 0.030*free + 0.017*birthday + 0.016*things + 0.015*papa + 0.014*pick + 0.014*wonderful + 0.013*stuff + 0.012*- + 0.010*butter\n"
       ]
      },
      {
       "output_type": "stream",
       "stream": "stderr",
       "text": [
        "2014-06-07 14:23:01,081 : INFO : topic #3 (0.050): 0.035*he + 0.030*my + 0.020*was + 0.016*his + 0.015*that + 0.013*him + 0.012*they + 0.011*house + 0.010*their + 0.010*out\n"
       ]
      },
      {
       "output_type": "stream",
       "stream": "stderr",
       "text": [
        "2014-06-07 14:23:01,086 : INFO : topic diff=0.368901, rho=0.164399\n"
       ]
      },
      {
       "output_type": "stream",
       "stream": "stderr",
       "text": [
        "2014-06-07 14:23:01,092 : INFO : PROGRESS: pass 0, at document #3800/4040\n"
       ]
      },
      {
       "output_type": "stream",
       "stream": "stderr",
       "text": [
        "2014-06-07 14:23:01,430 : INFO : merging changes from 100 documents into a model of 4040 documents\n"
       ]
      },
      {
       "output_type": "stream",
       "stream": "stderr",
       "text": [
        "2014-06-07 14:23:01,625 : INFO : topic #19 (0.050): 0.034*nice + 0.029*free + 0.019*birthday + 0.018*- + 0.017*things + 0.017*stuff + 0.015*papa + 0.014*pick + 0.014*wonderful + 0.012*worth\n"
       ]
      },
      {
       "output_type": "stream",
       "stream": "stderr",
       "text": [
        "2014-06-07 14:23:01,631 : INFO : topic #1 (0.050): 0.054*you + 0.017*account + 0.016*my + 0.016*if + 0.015*that + 0.014*might + 0.014*want + 0.014*i'll + 0.013*i'm + 0.012*person\n"
       ]
      },
      {
       "output_type": "stream",
       "stream": "stderr",
       "text": [
        "2014-06-07 14:23:01,637 : INFO : topic #3 (0.050): 0.034*he + 0.029*my + 0.020*was + 0.016*his + 0.015*that + 0.012*him + 0.011*they + 0.010*because + 0.010*their + 0.010*house\n"
       ]
      },
      {
       "output_type": "stream",
       "stream": "stderr",
       "text": [
        "2014-06-07 14:23:01,644 : INFO : topic #2 (0.050): 0.022*gift + 0.020*craving + 0.018*short + 0.015*friday, + 0.014*sounds + 0.011*break + 0.011*week, + 0.011*we + 0.010*us + 0.009*are\n"
       ]
      },
      {
       "output_type": "stream",
       "stream": "stderr",
       "text": [
        "2014-06-07 14:23:01,653 : INFO : topic #12 (0.050): 0.037*it + 0.025*if + 0.025*have + 0.022*will + 0.022*you + 0.020*pay + 0.019*would + 0.018*get + 0.017*or + 0.016*my\n"
       ]
      },
      {
       "output_type": "stream",
       "stream": "stderr",
       "text": [
        "2014-06-07 14:23:01,660 : INFO : topic #15 (0.050): 0.054*her + 0.035*she + 0.033*our + 0.029*we + 0.021*we're + 0.019*would + 0.015*with + 0.014*afford + 0.011*there's + 0.010*awesome\n"
       ]
      },
      {
       "output_type": "stream",
       "stream": "stderr",
       "text": [
        "2014-06-07 14:23:01,667 : INFO : topic #17 (0.050): 0.025*edit: + 0.022*day. + 0.020*picture + 0.018*you. + 0.018*said + 0.012*stuck + 0.010*hope + 0.010*them. + 0.009*story. + 0.009*-\n"
       ]
      },
      {
       "output_type": "stream",
       "stream": "stderr",
       "text": [
        "2014-06-07 14:23:01,674 : INFO : topic #6 (0.050): 0.027*better + 0.024*this, + 0.014*says, + 0.013*:d + 0.013*up, + 0.012*you! + 0.012*too. + 0.011*out? + 0.011*pie + 0.011*redditors\n"
       ]
      },
      {
       "output_type": "stream",
       "stream": "stderr",
       "text": [
        "2014-06-07 14:23:01,681 : INFO : topic #9 (0.050): 0.016*hey, + 0.013*code + 0.013*month, + 0.013*super + 0.012*however, + 0.011*online + 0.010*huge + 0.009*forever + 0.008*game + 0.008*else\n"
       ]
      },
      {
       "output_type": "stream",
       "stream": "stderr",
       "text": [
        "2014-06-07 14:23:01,688 : INFO : topic #16 (0.050): 0.045*my + 0.027*i'm + 0.027*been + 0.020*but + 0.018*i've + 0.017*this + 0.016*have + 0.015*would + 0.014*really + 0.014*on\n"
       ]
      },
      {
       "output_type": "stream",
       "stream": "stderr",
       "text": [
        "2014-06-07 14:23:01,697 : INFO : topic #4 (0.050): 0.022*would + 0.020*im + 0.019*my + 0.015*verification + 0.015*apartment + 0.014*title + 0.013*4 + 0.012*says + 0.012*summer + 0.012*share\n"
       ]
      },
      {
       "output_type": "stream",
       "stream": "stderr",
       "text": [
        "2014-06-07 14:23:01,704 : INFO : topic #14 (0.050): 0.018*fridge + 0.015*out, + 0.013*far + 0.009*my + 0.009*, + 0.007*donate + 0.007*pizza? + 0.007*that + 0.007*is, + 0.006*gotten\n"
       ]
      },
      {
       "output_type": "stream",
       "stream": "stderr",
       "text": [
        "2014-06-07 14:23:01,711 : INFO : topic #18 (0.050): 0.025*provide + 0.023*proof + 0.020*here's + 0.018*random + 0.016*mean + 0.016*show + 0.015*us. + 0.011*time, + 0.011*dogs + 0.010*realize\n"
       ]
      },
      {
       "output_type": "stream",
       "stream": "stderr",
       "text": [
        "2014-06-07 14:23:01,719 : INFO : topic #10 (0.050): 0.064*we + 0.030*are + 0.027*have + 0.024*our + 0.021*my + 0.015*us + 0.015*so + 0.013*but + 0.012*can + 0.011*with\n"
       ]
      },
      {
       "output_type": "stream",
       "stream": "stderr",
       "text": [
        "2014-06-07 14:23:01,726 : INFO : topic #5 (0.050): 0.028*tonight + 0.016*love + 0.016*feeling + 0.015*i'd + 0.013*like + 0.012*:( + 0.012*thought + 0.012*sorry + 0.011*im + 0.010*cheer\n"
       ]
      },
      {
       "output_type": "stream",
       "stream": "stderr",
       "text": [
        "2014-06-07 14:23:01,730 : INFO : topic diff=0.403246, rho=0.162221\n"
       ]
      },
      {
       "output_type": "stream",
       "stream": "stderr",
       "text": [
        "2014-06-07 14:23:01,734 : INFO : PROGRESS: pass 0, at document #3900/4040\n"
       ]
      },
      {
       "output_type": "stream",
       "stream": "stderr",
       "text": [
        "2014-06-07 14:23:02,213 : INFO : merging changes from 100 documents into a model of 4040 documents\n"
       ]
      },
      {
       "output_type": "stream",
       "stream": "stderr",
       "text": [
        "2014-06-07 14:23:02,407 : INFO : topic #3 (0.050): 0.036*he + 0.029*my + 0.019*was + 0.016*his + 0.015*that + 0.015*him + 0.012*they + 0.011*because + 0.010*got + 0.010*with\n"
       ]
      },
      {
       "output_type": "stream",
       "stream": "stderr",
       "text": [
        "2014-06-07 14:23:02,414 : INFO : topic #12 (0.050): 0.036*it + 0.026*if + 0.025*have + 0.022*will + 0.022*you + 0.021*pay + 0.019*would + 0.017*or + 0.016*get + 0.016*my\n"
       ]
      },
      {
       "output_type": "stream",
       "stream": "stderr",
       "text": [
        "2014-06-07 14:23:02,421 : INFO : topic #13 (0.050): 0.019*my + 0.018*would + 0.016*college + 0.016*have + 0.015*student + 0.013*on + 0.013*go + 0.010*no + 0.010*till + 0.010*any\n"
       ]
      },
      {
       "output_type": "stream",
       "stream": "stderr",
       "text": [
        "2014-06-07 14:23:02,444 : INFO : topic #15 (0.050): 0.052*her + 0.036*she + 0.033*our + 0.030*we + 0.020*we're + 0.019*would + 0.015*with + 0.013*afford + 0.012*awesome + 0.010*there's\n"
       ]
      },
      {
       "output_type": "stream",
       "stream": "stderr",
       "text": [
        "2014-06-07 14:23:02,450 : INFO : topic #18 (0.050): 0.027*proof + 0.027*provide + 0.018*random + 0.018*show + 0.017*here's + 0.015*us. + 0.013*mean + 0.011*dogs + 0.010*upon + 0.010*cheesy\n"
       ]
      },
      {
       "output_type": "stream",
       "stream": "stderr",
       "text": [
        "2014-06-07 14:23:02,456 : INFO : topic #1 (0.050): 0.050*you + 0.017*account + 0.015*if + 0.015*that + 0.015*my + 0.013*might + 0.013*want + 0.013*i'm + 0.013*person + 0.012*i'll\n"
       ]
      },
      {
       "output_type": "stream",
       "stream": "stderr",
       "text": [
        "2014-06-07 14:23:02,461 : INFO : topic #19 (0.050): 0.032*nice + 0.026*free + 0.019*things + 0.018*birthday + 0.017*stuff + 0.017*- + 0.015*papa + 0.013*pick + 0.012*raop. + 0.011*wonderful\n"
       ]
      },
      {
       "output_type": "stream",
       "stream": "stderr",
       "text": [
        "2014-06-07 14:23:02,471 : INFO : topic #7 (0.050): 0.050*bank + 0.017*sitting + 0.011*wanna + 0.009*aid + 0.008*set + 0.008*reddit + 0.008*reddit! + 0.008*location + 0.008*towards + 0.008*etc.\n"
       ]
      },
      {
       "output_type": "stream",
       "stream": "stderr",
       "text": [
        "2014-06-07 14:23:02,480 : INFO : topic #0 (0.050): 0.050*my + 0.021*me + 0.020*out + 0.015*help + 0.015*with + 0.014*this + 0.014*it + 0.013*get + 0.013*on + 0.013*some\n"
       ]
      },
      {
       "output_type": "stream",
       "stream": "stderr",
       "text": [
        "2014-06-07 14:23:02,486 : INFO : topic #5 (0.050): 0.028*tonight + 0.015*love + 0.015*i'd + 0.014*feeling + 0.013*like + 0.012*sorry + 0.012*im + 0.010*advance + 0.010*:( + 0.010*thought\n"
       ]
      },
      {
       "output_type": "stream",
       "stream": "stderr",
       "text": [
        "2014-06-07 14:23:02,494 : INFO : topic #16 (0.050): 0.045*my + 0.027*i'm + 0.026*been + 0.020*but + 0.017*have + 0.017*this + 0.017*i've + 0.015*really + 0.015*would + 0.014*on\n"
       ]
      },
      {
       "output_type": "stream",
       "stream": "stderr",
       "text": [
        "2014-06-07 14:23:02,502 : INFO : topic #8 (0.050): 0.024*things + 0.021*weeks. + 0.020*hard + 0.020*jobs + 0.018*surprise + 0.015*ever + 0.015*save + 0.013*times + 0.012*girl + 0.009**\n"
       ]
      },
      {
       "output_type": "stream",
       "stream": "stderr",
       "text": [
        "2014-06-07 14:23:02,509 : INFO : topic #6 (0.050): 0.028*better + 0.023*this, + 0.014*:d + 0.014*says, + 0.013*you! + 0.012*out? + 0.012*up, + 0.012*can. + 0.011*too. + 0.011*pie\n"
       ]
      },
      {
       "output_type": "stream",
       "stream": "stderr",
       "text": [
        "2014-06-07 14:23:02,517 : INFO : topic #9 (0.050): 0.014*hey, + 0.013*month, + 0.012*however, + 0.011*code + 0.011*super + 0.010*game + 0.009*forever + 0.009*online + 0.009*huge + 0.007*else\n"
       ]
      },
      {
       "output_type": "stream",
       "stream": "stderr",
       "text": [
        "2014-06-07 14:23:02,525 : INFO : topic #11 (0.050): 0.020*today, + 0.016*alone + 0.015*university + 0.015*6 + 0.014*hospital + 0.013*hasn't + 0.012*bag + 0.011*house + 0.010*power + 0.010*tonight\n"
       ]
      },
      {
       "output_type": "stream",
       "stream": "stderr",
       "text": [
        "2014-06-07 14:23:02,529 : INFO : topic diff=0.423129, rho=0.160128\n"
       ]
      },
      {
       "output_type": "stream",
       "stream": "stderr",
       "text": [
        "2014-06-07 14:23:03,358 : INFO : -9.772 per-word bound, 874.6 perplexity estimate based on a held-out corpus of 100 documents with 6361 words\n"
       ]
      },
      {
       "output_type": "stream",
       "stream": "stderr",
       "text": [
        "2014-06-07 14:23:03,358 : INFO : PROGRESS: pass 0, at document #4000/4040\n"
       ]
      },
      {
       "output_type": "stream",
       "stream": "stderr",
       "text": [
        "2014-06-07 14:23:03,681 : INFO : merging changes from 100 documents into a model of 4040 documents\n"
       ]
      },
      {
       "output_type": "stream",
       "stream": "stderr",
       "text": [
        "2014-06-07 14:23:03,875 : INFO : topic #17 (0.050): 0.027*edit: + 0.022*day. + 0.019*picture + 0.019*you. + 0.018*said + 0.011*stuck + 0.011*forward. + 0.010*story. + 0.010*four + 0.009*-\n"
       ]
      },
      {
       "output_type": "stream",
       "stream": "stderr",
       "text": [
        "2014-06-07 14:23:03,882 : INFO : topic #8 (0.050): 0.024*weeks. + 0.021*things + 0.021*hard + 0.018*jobs + 0.017*surprise + 0.016*times + 0.014*save + 0.013*ever + 0.011** + 0.010*girl\n"
       ]
      },
      {
       "output_type": "stream",
       "stream": "stderr",
       "text": [
        "2014-06-07 14:23:03,890 : INFO : topic #7 (0.050): 0.052*bank + 0.017*sitting + 0.010*wanna + 0.009*aid + 0.008*debit + 0.008*set + 0.008*location + 0.008*towards + 0.008*etc. + 0.007*lots\n"
       ]
      },
      {
       "output_type": "stream",
       "stream": "stderr",
       "text": [
        "2014-06-07 14:23:03,897 : INFO : topic #3 (0.050): 0.034*he + 0.029*my + 0.019*was + 0.016*his + 0.015*him + 0.014*that + 0.012*they + 0.011*because + 0.011*their + 0.010*got\n"
       ]
      },
      {
       "output_type": "stream",
       "stream": "stderr",
       "text": [
        "2014-06-07 14:23:03,904 : INFO : topic #2 (0.050): 0.019*short + 0.018*craving + 0.016*gift + 0.016*sounds + 0.015*friday, + 0.014*week, + 0.010*break + 0.010*we + 0.009*helped + 0.009*write\n"
       ]
      },
      {
       "output_type": "stream",
       "stream": "stderr",
       "text": [
        "2014-06-07 14:23:03,910 : INFO : topic #15 (0.050): 0.049*her + 0.035*she + 0.032*our + 0.030*we + 0.019*we're + 0.018*would + 0.015*afford + 0.014*with + 0.012*awesome + 0.010*there's\n"
       ]
      },
      {
       "output_type": "stream",
       "stream": "stderr",
       "text": [
        "2014-06-07 14:23:03,915 : INFO : topic #12 (0.050): 0.037*it + 0.027*if + 0.025*have + 0.023*you + 0.022*will + 0.020*pay + 0.018*would + 0.017*or + 0.016*get + 0.015*my\n"
       ]
      },
      {
       "output_type": "stream",
       "stream": "stderr",
       "text": [
        "2014-06-07 14:23:03,921 : INFO : topic #11 (0.050): 0.019*6 + 0.018*today, + 0.016*alone + 0.015*hospital + 0.014*university + 0.014*hasn't + 0.013*pizzas + 0.013*special + 0.013*bag + 0.010*tonight\n"
       ]
      },
      {
       "output_type": "stream",
       "stream": "stderr",
       "text": [
        "2014-06-07 14:23:03,927 : INFO : topic #19 (0.050): 0.036*nice + 0.022*free + 0.020*pick + 0.018*things + 0.018*- + 0.016*birthday + 0.016*stuff + 0.014*papa + 0.012*raop. + 0.011*wonderful\n"
       ]
      },
      {
       "output_type": "stream",
       "stream": "stderr",
       "text": [
        "2014-06-07 14:23:03,934 : INFO : topic #13 (0.050): 0.019*my + 0.018*would + 0.016*have + 0.015*student + 0.014*college + 0.013*on + 0.012*go + 0.012*till + 0.010*any + 0.010*no\n"
       ]
      },
      {
       "output_type": "stream",
       "stream": "stderr",
       "text": [
        "2014-06-07 14:23:03,940 : INFO : topic #10 (0.050): 0.067*we + 0.033*are + 0.028*have + 0.025*our + 0.020*my + 0.017*us + 0.014*so + 0.014*can + 0.013*but + 0.011*with\n"
       ]
      },
      {
       "output_type": "stream",
       "stream": "stderr",
       "text": [
        "2014-06-07 14:23:03,946 : INFO : topic #9 (0.050): 0.013*hey, + 0.012*super + 0.012*month, + 0.011*game + 0.011*however, + 0.009*code + 0.009*online + 0.008*forever + 0.007*know. + 0.007*10\n"
       ]
      },
      {
       "output_type": "stream",
       "stream": "stderr",
       "text": [
        "2014-06-07 14:23:03,951 : INFO : topic #1 (0.050): 0.056*you + 0.017*account + 0.016*if + 0.014*that + 0.014*my + 0.013*order + 0.013*i'll + 0.013*want + 0.013*i'm + 0.013*person\n"
       ]
      },
      {
       "output_type": "stream",
       "stream": "stderr",
       "text": [
        "2014-06-07 14:23:03,959 : INFO : topic #18 (0.050): 0.034*provide + 0.030*proof + 0.017*mean + 0.016*random + 0.016*us. + 0.015*here's + 0.015*show + 0.013*til + 0.011*your + 0.011*cheesy\n"
       ]
      },
      {
       "output_type": "stream",
       "stream": "stderr",
       "text": [
        "2014-06-07 14:23:03,966 : INFO : topic #5 (0.050): 0.029*tonight + 0.016*i'd + 0.016*love + 0.015*feeling + 0.013*like + 0.011*advance + 0.011*:( + 0.010*thought + 0.010*im + 0.010*sorry\n"
       ]
      },
      {
       "output_type": "stream",
       "stream": "stderr",
       "text": [
        "2014-06-07 14:23:03,980 : INFO : topic diff=0.470189, rho=0.158114\n"
       ]
      },
      {
       "output_type": "stream",
       "stream": "stderr",
       "text": [
        "2014-06-07 14:23:04,358 : INFO : -9.614 per-word bound, 783.7 perplexity estimate based on a held-out corpus of 40 documents with 2246 words\n"
       ]
      },
      {
       "output_type": "stream",
       "stream": "stderr",
       "text": [
        "2014-06-07 14:23:04,358 : INFO : PROGRESS: pass 0, at document #4040/4040\n"
       ]
      },
      {
       "output_type": "stream",
       "stream": "stderr",
       "text": [
        "2014-06-07 14:23:04,486 : INFO : merging changes from 40 documents into a model of 4040 documents\n"
       ]
      },
      {
       "output_type": "stream",
       "stream": "stderr",
       "text": [
        "2014-06-07 14:23:04,684 : INFO : topic #9 (0.050): 0.015*broke. + 0.011*hey, + 0.010*super + 0.010*month, + 0.010*know. + 0.010*game + 0.010*however, + 0.008*code + 0.008*online + 0.007*history\n"
       ]
      },
      {
       "output_type": "stream",
       "stream": "stderr",
       "text": [
        "2014-06-07 14:23:04,693 : INFO : topic #13 (0.050): 0.019*my + 0.017*would + 0.016*college + 0.015*student + 0.015*have + 0.012*on + 0.012*go + 0.011*till + 0.010*any + 0.010*at\n"
       ]
      },
      {
       "output_type": "stream",
       "stream": "stderr",
       "text": [
        "2014-06-07 14:23:04,700 : INFO : topic #1 (0.050): 0.053*you + 0.017*account + 0.016*if + 0.016*that + 0.014*my + 0.013*might + 0.013*i'll + 0.013*want + 0.012*order + 0.012*i'm\n"
       ]
      },
      {
       "output_type": "stream",
       "stream": "stderr",
       "text": [
        "2014-06-07 14:23:04,706 : INFO : topic #7 (0.050): 0.056*bank + 0.014*sitting + 0.010*nearly + 0.010*before, + 0.009*reddit! + 0.009*help! + 0.009*dude + 0.009*lose + 0.009*wanna + 0.009*problems\n"
       ]
      },
      {
       "output_type": "stream",
       "stream": "stderr",
       "text": [
        "2014-06-07 14:23:04,713 : INFO : topic #19 (0.050): 0.033*nice + 0.022*free + 0.019*- + 0.017*pick + 0.017*things + 0.016*stuff + 0.015*birthday + 0.015*papa + 0.013*world + 0.011*worth\n"
       ]
      },
      {
       "output_type": "stream",
       "stream": "stderr",
       "text": [
        "2014-06-07 14:23:04,720 : INFO : topic #16 (0.050): 0.048*my + 0.027*i'm + 0.026*been + 0.020*i've + 0.020*but + 0.019*this + 0.017*have + 0.014*on + 0.014*would + 0.013*really\n"
       ]
      },
      {
       "output_type": "stream",
       "stream": "stderr",
       "text": [
        "2014-06-07 14:23:04,726 : INFO : topic #18 (0.050): 0.049*provide + 0.038*proof + 0.029*show + 0.020*mean + 0.016*us. + 0.012*random + 0.012*here's + 0.011*grateful + 0.010*til + 0.010*happen\n"
       ]
      },
      {
       "output_type": "stream",
       "stream": "stderr",
       "text": [
        "2014-06-07 14:23:04,732 : INFO : topic #5 (0.050): 0.026*tonight + 0.015*feeling + 0.015*i'd + 0.015*payday + 0.014*love + 0.011*like + 0.010*thought + 0.010*im + 0.010*thursday + 0.009*we'll\n"
       ]
      },
      {
       "output_type": "stream",
       "stream": "stderr",
       "text": [
        "2014-06-07 14:23:04,737 : INFO : topic #0 (0.050): 0.053*my + 0.023*me + 0.020*out + 0.017*help + 0.016*with + 0.016*this + 0.014*it + 0.013*get + 0.013*some + 0.013*that\n"
       ]
      },
      {
       "output_type": "stream",
       "stream": "stderr",
       "text": [
        "2014-06-07 14:23:04,743 : INFO : topic #11 (0.050): 0.020*today, + 0.018*alone + 0.017*hospital + 0.016*6 + 0.012*university + 0.012*power + 0.012*hasn't + 0.012*house + 0.012*pizzas + 0.011*special\n"
       ]
      },
      {
       "output_type": "stream",
       "stream": "stderr",
       "text": [
        "2014-06-07 14:23:04,750 : INFO : topic #4 (0.050): 0.021*im + 0.019*would + 0.018*verification + 0.018*title + 0.017*my + 0.017*apartment + 0.014*4 + 0.012*appreciated + 0.012*says + 0.011*own\n"
       ]
      },
      {
       "output_type": "stream",
       "stream": "stderr",
       "text": [
        "2014-06-07 14:23:04,756 : INFO : topic #15 (0.050): 0.047*her + 0.033*she + 0.030*our + 0.028*we + 0.020*we're + 0.016*would + 0.015*awesome + 0.013*with + 0.012*afford + 0.012*there's\n"
       ]
      },
      {
       "output_type": "stream",
       "stream": "stderr",
       "text": [
        "2014-06-07 14:23:04,763 : INFO : topic #6 (0.050): 0.031*better + 0.028*pie + 0.016*out? + 0.016*says, + 0.016*this, + 0.015*up, + 0.015*hook + 0.013*you! + 0.011*:d + 0.010*dollar\n"
       ]
      },
      {
       "output_type": "stream",
       "stream": "stderr",
       "text": [
        "2014-06-07 14:23:04,769 : INFO : topic #8 (0.050): 0.022*things + 0.021*surprise + 0.020*weeks. + 0.018*jobs + 0.018*hard + 0.018*save + 0.015*girl + 0.014*times + 0.013** + 0.012*that.\n"
       ]
      },
      {
       "output_type": "stream",
       "stream": "stderr",
       "text": [
        "2014-06-07 14:23:04,776 : INFO : topic #14 (0.050): 0.020*fridge + 0.020*out, + 0.009*far + 0.009*my + 0.009*, + 0.009*gotten + 0.009*shitty + 0.008*hunger + 0.007*is, + 0.007*that\n"
       ]
      },
      {
       "output_type": "stream",
       "stream": "stderr",
       "text": [
        "2014-06-07 14:23:04,782 : INFO : topic diff=0.296232, rho=0.156174\n"
       ]
      }
     ],
     "prompt_number": 107
    },
    {
     "cell_type": "code",
     "collapsed": false,
     "input": [
      "Rlda.print_topics(20)"
     ],
     "language": "python",
     "metadata": {},
     "outputs": [
      {
       "output_type": "stream",
       "stream": "stderr",
       "text": [
        "2014-06-07 14:23:30,171 : INFO : topic #0 (0.050): 0.053*my + 0.023*me + 0.020*out + 0.017*help + 0.016*with + 0.016*this + 0.014*it + 0.013*get + 0.013*some + 0.013*that\n"
       ]
      },
      {
       "output_type": "stream",
       "stream": "stderr",
       "text": [
        "2014-06-07 14:23:30,177 : INFO : topic #1 (0.050): 0.053*you + 0.017*account + 0.016*if + 0.016*that + 0.014*my + 0.013*might + 0.013*i'll + 0.013*want + 0.012*order + 0.012*i'm\n"
       ]
      },
      {
       "output_type": "stream",
       "stream": "stderr",
       "text": [
        "2014-06-07 14:23:30,184 : INFO : topic #2 (0.050): 0.019*craving + 0.017*gift + 0.017*sounds + 0.017*short + 0.013*friday, + 0.013*week, + 0.009*break + 0.009*we + 0.008*er + 0.008*us\n"
       ]
      },
      {
       "output_type": "stream",
       "stream": "stderr",
       "text": [
        "2014-06-07 14:23:30,191 : INFO : topic #3 (0.050): 0.032*he + 0.029*my + 0.020*was + 0.017*his + 0.017*him + 0.015*that + 0.011*they + 0.011*because + 0.010*with + 0.009*their\n"
       ]
      },
      {
       "output_type": "stream",
       "stream": "stderr",
       "text": [
        "2014-06-07 14:23:30,200 : INFO : topic #4 (0.050): 0.021*im + 0.019*would + 0.018*verification + 0.018*title + 0.017*my + 0.017*apartment + 0.014*4 + 0.012*appreciated + 0.012*says + 0.011*own\n"
       ]
      },
      {
       "output_type": "stream",
       "stream": "stderr",
       "text": [
        "2014-06-07 14:23:30,207 : INFO : topic #5 (0.050): 0.026*tonight + 0.015*feeling + 0.015*i'd + 0.015*payday + 0.014*love + 0.011*like + 0.010*thought + 0.010*im + 0.010*thursday + 0.009*we'll\n"
       ]
      },
      {
       "output_type": "stream",
       "stream": "stderr",
       "text": [
        "2014-06-07 14:23:30,217 : INFO : topic #6 (0.050): 0.031*better + 0.028*pie + 0.016*out? + 0.016*says, + 0.016*this, + 0.015*up, + 0.015*hook + 0.013*you! + 0.011*:d + 0.010*dollar\n"
       ]
      },
      {
       "output_type": "stream",
       "stream": "stderr",
       "text": [
        "2014-06-07 14:23:30,224 : INFO : topic #7 (0.050): 0.056*bank + 0.014*sitting + 0.010*nearly + 0.010*before, + 0.009*reddit! + 0.009*help! + 0.009*dude + 0.009*lose + 0.009*wanna + 0.009*problems\n"
       ]
      },
      {
       "output_type": "stream",
       "stream": "stderr",
       "text": [
        "2014-06-07 14:23:30,230 : INFO : topic #8 (0.050): 0.022*things + 0.021*surprise + 0.020*weeks. + 0.018*jobs + 0.018*hard + 0.018*save + 0.015*girl + 0.014*times + 0.013** + 0.012*that.\n"
       ]
      },
      {
       "output_type": "stream",
       "stream": "stderr",
       "text": [
        "2014-06-07 14:23:30,237 : INFO : topic #9 (0.050): 0.015*broke. + 0.011*hey, + 0.010*super + 0.010*month, + 0.010*know. + 0.010*game + 0.010*however, + 0.008*code + 0.008*online + 0.007*history\n"
       ]
      },
      {
       "output_type": "stream",
       "stream": "stderr",
       "text": [
        "2014-06-07 14:23:30,243 : INFO : topic #10 (0.050): 0.070*we + 0.035*are + 0.028*have + 0.023*our + 0.021*my + 0.016*us + 0.013*so + 0.013*but + 0.013*can + 0.011*with\n"
       ]
      },
      {
       "output_type": "stream",
       "stream": "stderr",
       "text": [
        "2014-06-07 14:23:30,250 : INFO : topic #11 (0.050): 0.020*today, + 0.018*alone + 0.017*hospital + 0.016*6 + 0.012*university + 0.012*power + 0.012*hasn't + 0.012*house + 0.012*pizzas + 0.011*special\n"
       ]
      },
      {
       "output_type": "stream",
       "stream": "stderr",
       "text": [
        "2014-06-07 14:23:30,256 : INFO : topic #12 (0.050): 0.036*it + 0.028*if + 0.024*have + 0.022*you + 0.020*will + 0.019*pay + 0.018*would + 0.016*or + 0.016*me + 0.016*my\n"
       ]
      },
      {
       "output_type": "stream",
       "stream": "stderr",
       "text": [
        "2014-06-07 14:23:30,265 : INFO : topic #13 (0.050): 0.019*my + 0.017*would + 0.016*college + 0.015*student + 0.015*have + 0.012*on + 0.012*go + 0.011*till + 0.010*any + 0.010*at\n"
       ]
      },
      {
       "output_type": "stream",
       "stream": "stderr",
       "text": [
        "2014-06-07 14:23:30,272 : INFO : topic #14 (0.050): 0.020*fridge + 0.020*out, + 0.009*far + 0.009*my + 0.009*, + 0.009*gotten + 0.009*shitty + 0.008*hunger + 0.007*is, + 0.007*that\n"
       ]
      },
      {
       "output_type": "stream",
       "stream": "stderr",
       "text": [
        "2014-06-07 14:23:30,279 : INFO : topic #15 (0.050): 0.047*her + 0.033*she + 0.030*our + 0.028*we + 0.020*we're + 0.016*would + 0.015*awesome + 0.013*with + 0.012*afford + 0.012*there's\n"
       ]
      },
      {
       "output_type": "stream",
       "stream": "stderr",
       "text": [
        "2014-06-07 14:23:30,292 : INFO : topic #16 (0.050): 0.048*my + 0.027*i'm + 0.026*been + 0.020*i've + 0.020*but + 0.019*this + 0.017*have + 0.014*on + 0.014*would + 0.013*really\n"
       ]
      },
      {
       "output_type": "stream",
       "stream": "stderr",
       "text": [
        "2014-06-07 14:23:30,299 : INFO : topic #17 (0.050): 0.026*edit: + 0.022*day. + 0.021*said + 0.019*you. + 0.016*picture + 0.015*stuck + 0.012*forward. + 0.011*story. + 0.011*four + 0.011*hi,\n"
       ]
      },
      {
       "output_type": "stream",
       "stream": "stderr",
       "text": [
        "2014-06-07 14:23:30,308 : INFO : topic #18 (0.050): 0.049*provide + 0.038*proof + 0.029*show + 0.020*mean + 0.016*us. + 0.012*random + 0.012*here's + 0.011*grateful + 0.010*til + 0.010*happen\n"
       ]
      },
      {
       "output_type": "stream",
       "stream": "stderr",
       "text": [
        "2014-06-07 14:23:30,316 : INFO : topic #19 (0.050): 0.033*nice + 0.022*free + 0.019*- + 0.017*pick + 0.017*things + 0.016*stuff + 0.015*birthday + 0.015*papa + 0.013*world + 0.011*worth\n"
       ]
      },
      {
       "metadata": {},
       "output_type": "pyout",
       "prompt_number": 108,
       "text": [
        "[u'0.053*my + 0.023*me + 0.020*out + 0.017*help + 0.016*with + 0.016*this + 0.014*it + 0.013*get + 0.013*some + 0.013*that',\n",
        " u\"0.053*you + 0.017*account + 0.016*if + 0.016*that + 0.014*my + 0.013*might + 0.013*i'll + 0.013*want + 0.012*order + 0.012*i'm\",\n",
        " u'0.019*craving + 0.017*gift + 0.017*sounds + 0.017*short + 0.013*friday, + 0.013*week, + 0.009*break + 0.009*we + 0.008*er + 0.008*us',\n",
        " u'0.032*he + 0.029*my + 0.020*was + 0.017*his + 0.017*him + 0.015*that + 0.011*they + 0.011*because + 0.010*with + 0.009*their',\n",
        " u'0.021*im + 0.019*would + 0.018*verification + 0.018*title + 0.017*my + 0.017*apartment + 0.014*4 + 0.012*appreciated + 0.012*says + 0.011*own',\n",
        " u\"0.026*tonight + 0.015*feeling + 0.015*i'd + 0.015*payday + 0.014*love + 0.011*like + 0.010*thought + 0.010*im + 0.010*thursday + 0.009*we'll\",\n",
        " u'0.031*better + 0.028*pie + 0.016*out? + 0.016*says, + 0.016*this, + 0.015*up, + 0.015*hook + 0.013*you! + 0.011*:d + 0.010*dollar',\n",
        " u'0.056*bank + 0.014*sitting + 0.010*nearly + 0.010*before, + 0.009*reddit! + 0.009*help! + 0.009*dude + 0.009*lose + 0.009*wanna + 0.009*problems',\n",
        " u'0.022*things + 0.021*surprise + 0.020*weeks. + 0.018*jobs + 0.018*hard + 0.018*save + 0.015*girl + 0.014*times + 0.013** + 0.012*that.',\n",
        " u'0.015*broke. + 0.011*hey, + 0.010*super + 0.010*month, + 0.010*know. + 0.010*game + 0.010*however, + 0.008*code + 0.008*online + 0.007*history',\n",
        " u'0.070*we + 0.035*are + 0.028*have + 0.023*our + 0.021*my + 0.016*us + 0.013*so + 0.013*but + 0.013*can + 0.011*with',\n",
        " u\"0.020*today, + 0.018*alone + 0.017*hospital + 0.016*6 + 0.012*university + 0.012*power + 0.012*hasn't + 0.012*house + 0.012*pizzas + 0.011*special\",\n",
        " u'0.036*it + 0.028*if + 0.024*have + 0.022*you + 0.020*will + 0.019*pay + 0.018*would + 0.016*or + 0.016*me + 0.016*my',\n",
        " u'0.019*my + 0.017*would + 0.016*college + 0.015*student + 0.015*have + 0.012*on + 0.012*go + 0.011*till + 0.010*any + 0.010*at',\n",
        " u'0.020*fridge + 0.020*out, + 0.009*far + 0.009*my + 0.009*, + 0.009*gotten + 0.009*shitty + 0.008*hunger + 0.007*is, + 0.007*that',\n",
        " u\"0.047*her + 0.033*she + 0.030*our + 0.028*we + 0.020*we're + 0.016*would + 0.015*awesome + 0.013*with + 0.012*afford + 0.012*there's\",\n",
        " u\"0.048*my + 0.027*i'm + 0.026*been + 0.020*i've + 0.020*but + 0.019*this + 0.017*have + 0.014*on + 0.014*would + 0.013*really\",\n",
        " u'0.026*edit: + 0.022*day. + 0.021*said + 0.019*you. + 0.016*picture + 0.015*stuck + 0.012*forward. + 0.011*story. + 0.011*four + 0.011*hi,',\n",
        " u\"0.049*provide + 0.038*proof + 0.029*show + 0.020*mean + 0.016*us. + 0.012*random + 0.012*here's + 0.011*grateful + 0.010*til + 0.010*happen\",\n",
        " u'0.033*nice + 0.022*free + 0.019*- + 0.017*pick + 0.017*things + 0.016*stuff + 0.015*birthday + 0.015*papa + 0.013*world + 0.011*worth']"
       ]
      }
     ],
     "prompt_number": 108
    },
    {
     "cell_type": "code",
     "collapsed": false,
     "input": [],
     "language": "python",
     "metadata": {},
     "outputs": [],
     "prompt_number": 82
    },
    {
     "cell_type": "code",
     "collapsed": false,
     "input": [],
     "language": "python",
     "metadata": {},
     "outputs": []
    }
   ],
   "metadata": {}
  }
 ]
}