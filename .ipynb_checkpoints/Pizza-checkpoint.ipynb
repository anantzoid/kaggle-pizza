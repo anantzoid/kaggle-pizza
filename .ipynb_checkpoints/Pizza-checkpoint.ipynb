{
 "metadata": {
  "name": ""
 },
 "nbformat": 3,
 "nbformat_minor": 0,
 "worksheets": [
  {
   "cells": [
    {
     "cell_type": "code",
     "collapsed": false,
     "input": [
      "import math \n",
      "import matplotlib.pyplot as plt\n",
      "import numpy as np\n",
      "import pandas as pd\n",
      "import random\n",
      "import prettyplotlib as ppl\n",
      "from sklearn import ensemble as ske\n",
      "%matplotlib inline\n",
      "import seaborn as sns"
     ],
     "language": "python",
     "metadata": {},
     "outputs": [],
     "prompt_number": 10
    },
    {
     "cell_type": "code",
     "collapsed": false,
     "input": [
      "df = pd.io.json.read_json('data/train.json')\n"
     ],
     "language": "python",
     "metadata": {},
     "outputs": [],
     "prompt_number": 3
    },
    {
     "cell_type": "code",
     "collapsed": false,
     "input": [
      "head(df)\n"
     ],
     "language": "python",
     "metadata": {},
     "outputs": [
      {
       "ename": "NameError",
       "evalue": "name 'head' is not defined",
       "output_type": "pyerr",
       "traceback": [
        "\u001b[1;31m---------------------------------------------------------------------------\u001b[0m\n\u001b[1;31mNameError\u001b[0m                                 Traceback (most recent call last)",
        "\u001b[1;32m<ipython-input-4-8dc3c90e4806>\u001b[0m in \u001b[0;36m<module>\u001b[1;34m()\u001b[0m\n\u001b[1;32m----> 1\u001b[1;33m \u001b[0mhead\u001b[0m\u001b[1;33m(\u001b[0m\u001b[0mdf\u001b[0m\u001b[1;33m)\u001b[0m\u001b[1;33m\u001b[0m\u001b[0m\n\u001b[0m",
        "\u001b[1;31mNameError\u001b[0m: name 'head' is not defined"
       ]
      }
     ],
     "prompt_number": 4
    },
    {
     "cell_type": "code",
     "collapsed": false,
     "input": [
      "pd.head(df)\n",
      "\n"
     ],
     "language": "python",
     "metadata": {},
     "outputs": [
      {
       "ename": "AttributeError",
       "evalue": "'module' object has no attribute 'head'",
       "output_type": "pyerr",
       "traceback": [
        "\u001b[1;31m---------------------------------------------------------------------------\u001b[0m\n\u001b[1;31mAttributeError\u001b[0m                            Traceback (most recent call last)",
        "\u001b[1;32m<ipython-input-5-f02e7c233497>\u001b[0m in \u001b[0;36m<module>\u001b[1;34m()\u001b[0m\n\u001b[1;32m----> 1\u001b[1;33m \u001b[0mpd\u001b[0m\u001b[1;33m.\u001b[0m\u001b[0mhead\u001b[0m\u001b[1;33m(\u001b[0m\u001b[0mdf\u001b[0m\u001b[1;33m)\u001b[0m\u001b[1;33m\u001b[0m\u001b[0m\n\u001b[0m\u001b[0;32m      2\u001b[0m \u001b[1;33m\u001b[0m\u001b[0m\n",
        "\u001b[1;31mAttributeError\u001b[0m: 'module' object has no attribute 'head'"
       ]
      }
     ],
     "prompt_number": 5
    },
    {
     "cell_type": "code",
     "collapsed": false,
     "input": [
      "df.head()\n"
     ],
     "language": "python",
     "metadata": {},
     "outputs": [
      {
       "output_type": "stream",
       "stream": "stderr",
       "text": [
        "C:\\Python27\\lib\\site-packages\\pandas\\core\\config.py:570: DeprecationWarning: height has been deprecated.\n",
        "\n",
        "  warnings.warn(d.msg, DeprecationWarning)\n",
        "C:\\Python27\\lib\\site-packages\\pandas\\core\\config.py:570: DeprecationWarning: height has been deprecated.\n",
        "\n",
        "  warnings.warn(d.msg, DeprecationWarning)\n",
        "C:\\Python27\\lib\\site-packages\\pandas\\core\\config.py:570: DeprecationWarning: height has been deprecated.\n",
        "\n",
        "  warnings.warn(d.msg, DeprecationWarning)\n"
       ]
      },
      {
       "html": [
        "<pre>\n",
        "&lt;class 'pandas.core.frame.DataFrame'&gt;\n",
        "Int64Index: 5 entries, 0 to 4\n",
        "Data columns (total 32 columns):\n",
        "giver_username_if_known                                 5  non-null values\n",
        "number_of_downvotes_of_request_at_retrieval             5  non-null values\n",
        "number_of_upvotes_of_request_at_retrieval               5  non-null values\n",
        "post_was_edited                                         5  non-null values\n",
        "request_id                                              5  non-null values\n",
        "request_number_of_comments_at_retrieval                 5  non-null values\n",
        "request_text                                            5  non-null values\n",
        "request_text_edit_aware                                 5  non-null values\n",
        "request_title                                           5  non-null values\n",
        "requester_account_age_in_days_at_request                5  non-null values\n",
        "requester_account_age_in_days_at_retrieval              5  non-null values\n",
        "requester_days_since_first_post_on_raop_at_request      5  non-null values\n",
        "requester_days_since_first_post_on_raop_at_retrieval    5  non-null values\n",
        "requester_number_of_comments_at_request                 5  non-null values\n",
        "requester_number_of_comments_at_retrieval               5  non-null values\n",
        "requester_number_of_comments_in_raop_at_request         5  non-null values\n",
        "requester_number_of_comments_in_raop_at_retrieval       5  non-null values\n",
        "requester_number_of_posts_at_request                    5  non-null values\n",
        "requester_number_of_posts_at_retrieval                  5  non-null values\n",
        "requester_number_of_posts_on_raop_at_request            5  non-null values\n",
        "requester_number_of_posts_on_raop_at_retrieval          5  non-null values\n",
        "requester_number_of_subreddits_at_request               5  non-null values\n",
        "requester_received_pizza                                5  non-null values\n",
        "requester_subreddits_at_request                         5  non-null values\n",
        "requester_upvotes_minus_downvotes_at_request            5  non-null values\n",
        "requester_upvotes_minus_downvotes_at_retrieval          5  non-null values\n",
        "requester_upvotes_plus_downvotes_at_request             5  non-null values\n",
        "requester_upvotes_plus_downvotes_at_retrieval           5  non-null values\n",
        "requester_user_flair                                    0  non-null values\n",
        "requester_username                                      5  non-null values\n",
        "unix_timestamp_of_request                               5  non-null values\n",
        "unix_timestamp_of_request_utc                           5  non-null values\n",
        "dtypes: bool(1), float64(4), int64(19), object(8)\n",
        "</pre>"
       ],
       "metadata": {},
       "output_type": "pyout",
       "prompt_number": 6,
       "text": [
        "<class 'pandas.core.frame.DataFrame'>\n",
        "Int64Index: 5 entries, 0 to 4\n",
        "Data columns (total 32 columns):\n",
        "giver_username_if_known                                 5  non-null values\n",
        "number_of_downvotes_of_request_at_retrieval             5  non-null values\n",
        "number_of_upvotes_of_request_at_retrieval               5  non-null values\n",
        "post_was_edited                                         5  non-null values\n",
        "request_id                                              5  non-null values\n",
        "request_number_of_comments_at_retrieval                 5  non-null values\n",
        "request_text                                            5  non-null values\n",
        "request_text_edit_aware                                 5  non-null values\n",
        "request_title                                           5  non-null values\n",
        "requester_account_age_in_days_at_request                5  non-null values\n",
        "requester_account_age_in_days_at_retrieval              5  non-null values\n",
        "requester_days_since_first_post_on_raop_at_request      5  non-null values\n",
        "requester_days_since_first_post_on_raop_at_retrieval    5  non-null values\n",
        "requester_number_of_comments_at_request                 5  non-null values\n",
        "requester_number_of_comments_at_retrieval               5  non-null values\n",
        "requester_number_of_comments_in_raop_at_request         5  non-null values\n",
        "requester_number_of_comments_in_raop_at_retrieval       5  non-null values\n",
        "requester_number_of_posts_at_request                    5  non-null values\n",
        "requester_number_of_posts_at_retrieval                  5  non-null values\n",
        "requester_number_of_posts_on_raop_at_request            5  non-null values\n",
        "requester_number_of_posts_on_raop_at_retrieval          5  non-null values\n",
        "requester_number_of_subreddits_at_request               5  non-null values\n",
        "requester_received_pizza                                5  non-null values\n",
        "requester_subreddits_at_request                         5  non-null values\n",
        "requester_upvotes_minus_downvotes_at_request            5  non-null values\n",
        "requester_upvotes_minus_downvotes_at_retrieval          5  non-null values\n",
        "requester_upvotes_plus_downvotes_at_request             5  non-null values\n",
        "requester_upvotes_plus_downvotes_at_retrieval           5  non-null values\n",
        "requester_user_flair                                    0  non-null values\n",
        "requester_username                                      5  non-null values\n",
        "unix_timestamp_of_request                               5  non-null values\n",
        "unix_timestamp_of_request_utc                           5  non-null values\n",
        "dtypes: bool(1), float64(4), int64(19), object(8)"
       ]
      }
     ],
     "prompt_number": 6
    },
    {
     "cell_type": "code",
     "collapsed": false,
     "input": [
      "df[:3]\n"
     ],
     "language": "python",
     "metadata": {},
     "outputs": [
      {
       "output_type": "stream",
       "stream": "stderr",
       "text": [
        "C:\\Python27\\lib\\site-packages\\pandas\\core\\config.py:570: DeprecationWarning: height has been deprecated.\n",
        "\n",
        "  warnings.warn(d.msg, DeprecationWarning)\n",
        "C:\\Python27\\lib\\site-packages\\pandas\\core\\config.py:570: DeprecationWarning: height has been deprecated.\n",
        "\n",
        "  warnings.warn(d.msg, DeprecationWarning)\n",
        "C:\\Python27\\lib\\site-packages\\pandas\\core\\config.py:570: DeprecationWarning: height has been deprecated.\n",
        "\n",
        "  warnings.warn(d.msg, DeprecationWarning)\n"
       ]
      },
      {
       "html": [
        "<pre>\n",
        "&lt;class 'pandas.core.frame.DataFrame'&gt;\n",
        "Int64Index: 3 entries, 0 to 2\n",
        "Data columns (total 32 columns):\n",
        "giver_username_if_known                                 3  non-null values\n",
        "number_of_downvotes_of_request_at_retrieval             3  non-null values\n",
        "number_of_upvotes_of_request_at_retrieval               3  non-null values\n",
        "post_was_edited                                         3  non-null values\n",
        "request_id                                              3  non-null values\n",
        "request_number_of_comments_at_retrieval                 3  non-null values\n",
        "request_text                                            3  non-null values\n",
        "request_text_edit_aware                                 3  non-null values\n",
        "request_title                                           3  non-null values\n",
        "requester_account_age_in_days_at_request                3  non-null values\n",
        "requester_account_age_in_days_at_retrieval              3  non-null values\n",
        "requester_days_since_first_post_on_raop_at_request      3  non-null values\n",
        "requester_days_since_first_post_on_raop_at_retrieval    3  non-null values\n",
        "requester_number_of_comments_at_request                 3  non-null values\n",
        "requester_number_of_comments_at_retrieval               3  non-null values\n",
        "requester_number_of_comments_in_raop_at_request         3  non-null values\n",
        "requester_number_of_comments_in_raop_at_retrieval       3  non-null values\n",
        "requester_number_of_posts_at_request                    3  non-null values\n",
        "requester_number_of_posts_at_retrieval                  3  non-null values\n",
        "requester_number_of_posts_on_raop_at_request            3  non-null values\n",
        "requester_number_of_posts_on_raop_at_retrieval          3  non-null values\n",
        "requester_number_of_subreddits_at_request               3  non-null values\n",
        "requester_received_pizza                                3  non-null values\n",
        "requester_subreddits_at_request                         3  non-null values\n",
        "requester_upvotes_minus_downvotes_at_request            3  non-null values\n",
        "requester_upvotes_minus_downvotes_at_retrieval          3  non-null values\n",
        "requester_upvotes_plus_downvotes_at_request             3  non-null values\n",
        "requester_upvotes_plus_downvotes_at_retrieval           3  non-null values\n",
        "requester_user_flair                                    0  non-null values\n",
        "requester_username                                      3  non-null values\n",
        "unix_timestamp_of_request                               3  non-null values\n",
        "unix_timestamp_of_request_utc                           3  non-null values\n",
        "dtypes: bool(1), float64(4), int64(19), object(8)\n",
        "</pre>"
       ],
       "metadata": {},
       "output_type": "pyout",
       "prompt_number": 7,
       "text": [
        "<class 'pandas.core.frame.DataFrame'>\n",
        "Int64Index: 3 entries, 0 to 2\n",
        "Data columns (total 32 columns):\n",
        "giver_username_if_known                                 3  non-null values\n",
        "number_of_downvotes_of_request_at_retrieval             3  non-null values\n",
        "number_of_upvotes_of_request_at_retrieval               3  non-null values\n",
        "post_was_edited                                         3  non-null values\n",
        "request_id                                              3  non-null values\n",
        "request_number_of_comments_at_retrieval                 3  non-null values\n",
        "request_text                                            3  non-null values\n",
        "request_text_edit_aware                                 3  non-null values\n",
        "request_title                                           3  non-null values\n",
        "requester_account_age_in_days_at_request                3  non-null values\n",
        "requester_account_age_in_days_at_retrieval              3  non-null values\n",
        "requester_days_since_first_post_on_raop_at_request      3  non-null values\n",
        "requester_days_since_first_post_on_raop_at_retrieval    3  non-null values\n",
        "requester_number_of_comments_at_request                 3  non-null values\n",
        "requester_number_of_comments_at_retrieval               3  non-null values\n",
        "requester_number_of_comments_in_raop_at_request         3  non-null values\n",
        "requester_number_of_comments_in_raop_at_retrieval       3  non-null values\n",
        "requester_number_of_posts_at_request                    3  non-null values\n",
        "requester_number_of_posts_at_retrieval                  3  non-null values\n",
        "requester_number_of_posts_on_raop_at_request            3  non-null values\n",
        "requester_number_of_posts_on_raop_at_retrieval          3  non-null values\n",
        "requester_number_of_subreddits_at_request               3  non-null values\n",
        "requester_received_pizza                                3  non-null values\n",
        "requester_subreddits_at_request                         3  non-null values\n",
        "requester_upvotes_minus_downvotes_at_request            3  non-null values\n",
        "requester_upvotes_minus_downvotes_at_retrieval          3  non-null values\n",
        "requester_upvotes_plus_downvotes_at_request             3  non-null values\n",
        "requester_upvotes_plus_downvotes_at_retrieval           3  non-null values\n",
        "requester_user_flair                                    0  non-null values\n",
        "requester_username                                      3  non-null values\n",
        "unix_timestamp_of_request                               3  non-null values\n",
        "unix_timestamp_of_request_utc                           3  non-null values\n",
        "dtypes: bool(1), float64(4), int64(19), object(8)"
       ]
      }
     ],
     "prompt_number": 7
    },
    {
     "cell_type": "code",
     "collapsed": false,
     "input": [
      "df['requester_received_pizza'].value_counts()\n"
     ],
     "language": "python",
     "metadata": {},
     "outputs": [
      {
       "metadata": {},
       "output_type": "pyout",
       "prompt_number": 9,
       "text": [
        "False    3046\n",
        "True      994\n",
        "dtype: int64"
       ]
      }
     ],
     "prompt_number": 9
    },
    {
     "cell_type": "code",
     "collapsed": false,
     "input": [
      "plt.hist(df['request_text'].apply(lambda x: math.log(len(x)+1)),20)\n",
      "         "
     ],
     "language": "python",
     "metadata": {},
     "outputs": [
      {
       "metadata": {},
       "output_type": "pyout",
       "prompt_number": 15,
       "text": [
        "(array([ 104.,    0.,    0.,    1.,    1.,    5.,   11.,   35.,   51.,\n",
        "         66.,  166.,  349.,  685.,  839.,  830.,  508.,  261.,   85.,\n",
        "         37.,    6.]),\n",
        " array([ 0.        ,  0.42015641,  0.84031282,  1.26046924,  1.68062565,\n",
        "        2.10078206,  2.52093847,  2.94109488,  3.36125129,  3.78140771,\n",
        "        4.20156412,  4.62172053,  5.04187694,  5.46203335,  5.88218976,\n",
        "        6.30234618,  6.72250259,  7.142659  ,  7.56281541,  7.98297182,\n",
        "        8.40312824]),\n",
        " <a list of 20 Patch objects>)"
       ]
      },
      {
       "metadata": {},
       "output_type": "display_data",
       "png": "[encoded data removed]",
       "text": [
        "<matplotlib.figure.Figure at 0x1099a780>"
       ]
      }
     ],
     "prompt_number": 15
    },
    {
     "cell_type": "code",
     "collapsed": false,
     "input": [
      "##dropping the 0 length posts, adding the length of request as a feature\n",
      "df.head()"
     ],
     "language": "python",
     "metadata": {},
     "outputs": [
      {
       "output_type": "stream",
       "stream": "stderr",
       "text": [
        "C:\\Python27\\lib\\site-packages\\pandas\\core\\config.py:570: DeprecationWarning: height has been deprecated.\n",
        "\n",
        "  warnings.warn(d.msg, DeprecationWarning)\n",
        "C:\\Python27\\lib\\site-packages\\pandas\\core\\config.py:570: DeprecationWarning: height has been deprecated.\n",
        "\n",
        "  warnings.warn(d.msg, DeprecationWarning)\n",
        "C:\\Python27\\lib\\site-packages\\pandas\\core\\config.py:570: DeprecationWarning: height has been deprecated.\n",
        "\n",
        "  warnings.warn(d.msg, DeprecationWarning)\n"
       ]
      },
      {
       "html": [
        "<pre>\n",
        "&lt;class 'pandas.core.frame.DataFrame'&gt;\n",
        "Int64Index: 5 entries, 0 to 4\n",
        "Data columns (total 33 columns):\n",
        "giver_username_if_known                                 5  non-null values\n",
        "number_of_downvotes_of_request_at_retrieval             5  non-null values\n",
        "number_of_upvotes_of_request_at_retrieval               5  non-null values\n",
        "post_was_edited                                         5  non-null values\n",
        "request_id                                              5  non-null values\n",
        "request_number_of_comments_at_retrieval                 5  non-null values\n",
        "request_text                                            5  non-null values\n",
        "request_text_edit_aware                                 5  non-null values\n",
        "request_title                                           5  non-null values\n",
        "requester_account_age_in_days_at_request                5  non-null values\n",
        "requester_account_age_in_days_at_retrieval              5  non-null values\n",
        "requester_days_since_first_post_on_raop_at_request      5  non-null values\n",
        "requester_days_since_first_post_on_raop_at_retrieval    5  non-null values\n",
        "requester_number_of_comments_at_request                 5  non-null values\n",
        "requester_number_of_comments_at_retrieval               5  non-null values\n",
        "requester_number_of_comments_in_raop_at_request         5  non-null values\n",
        "requester_number_of_comments_in_raop_at_retrieval       5  non-null values\n",
        "requester_number_of_posts_at_request                    5  non-null values\n",
        "requester_number_of_posts_at_retrieval                  5  non-null values\n",
        "requester_number_of_posts_on_raop_at_request            5  non-null values\n",
        "requester_number_of_posts_on_raop_at_retrieval          5  non-null values\n",
        "requester_number_of_subreddits_at_request               5  non-null values\n",
        "requester_received_pizza                                5  non-null values\n",
        "requester_subreddits_at_request                         5  non-null values\n",
        "requester_upvotes_minus_downvotes_at_request            5  non-null values\n",
        "requester_upvotes_minus_downvotes_at_retrieval          5  non-null values\n",
        "requester_upvotes_plus_downvotes_at_request             5  non-null values\n",
        "requester_upvotes_plus_downvotes_at_retrieval           5  non-null values\n",
        "requester_user_flair                                    0  non-null values\n",
        "requester_username                                      5  non-null values\n",
        "unix_timestamp_of_request                               5  non-null values\n",
        "unix_timestamp_of_request_utc                           5  non-null values\n",
        "request_text_length                                     5  non-null values\n",
        "dtypes: bool(1), float64(5), int64(19), object(8)\n",
        "</pre>"
       ],
       "metadata": {},
       "output_type": "pyout",
       "prompt_number": 19,
       "text": [
        "<class 'pandas.core.frame.DataFrame'>\n",
        "Int64Index: 5 entries, 0 to 4\n",
        "Data columns (total 33 columns):\n",
        "giver_username_if_known                                 5  non-null values\n",
        "number_of_downvotes_of_request_at_retrieval             5  non-null values\n",
        "number_of_upvotes_of_request_at_retrieval               5  non-null values\n",
        "post_was_edited                                         5  non-null values\n",
        "request_id                                              5  non-null values\n",
        "request_number_of_comments_at_retrieval                 5  non-null values\n",
        "request_text                                            5  non-null values\n",
        "request_text_edit_aware                                 5  non-null values\n",
        "request_title                                           5  non-null values\n",
        "requester_account_age_in_days_at_request                5  non-null values\n",
        "requester_account_age_in_days_at_retrieval              5  non-null values\n",
        "requester_days_since_first_post_on_raop_at_request      5  non-null values\n",
        "requester_days_since_first_post_on_raop_at_retrieval    5  non-null values\n",
        "requester_number_of_comments_at_request                 5  non-null values\n",
        "requester_number_of_comments_at_retrieval               5  non-null values\n",
        "requester_number_of_comments_in_raop_at_request         5  non-null values\n",
        "requester_number_of_comments_in_raop_at_retrieval       5  non-null values\n",
        "requester_number_of_posts_at_request                    5  non-null values\n",
        "requester_number_of_posts_at_retrieval                  5  non-null values\n",
        "requester_number_of_posts_on_raop_at_request            5  non-null values\n",
        "requester_number_of_posts_on_raop_at_retrieval          5  non-null values\n",
        "requester_number_of_subreddits_at_request               5  non-null values\n",
        "requester_received_pizza                                5  non-null values\n",
        "requester_subreddits_at_request                         5  non-null values\n",
        "requester_upvotes_minus_downvotes_at_request            5  non-null values\n",
        "requester_upvotes_minus_downvotes_at_retrieval          5  non-null values\n",
        "requester_upvotes_plus_downvotes_at_request             5  non-null values\n",
        "requester_upvotes_plus_downvotes_at_retrieval           5  non-null values\n",
        "requester_user_flair                                    0  non-null values\n",
        "requester_username                                      5  non-null values\n",
        "unix_timestamp_of_request                               5  non-null values\n",
        "unix_timestamp_of_request_utc                           5  non-null values\n",
        "request_text_length                                     5  non-null values\n",
        "dtypes: bool(1), float64(5), int64(19), object(8)"
       ]
      }
     ],
     "prompt_number": 19
    },
    {
     "cell_type": "code",
     "collapsed": false,
     "input": [
      "df = df.drop('request_text_length',1)\n"
     ],
     "language": "python",
     "metadata": {},
     "outputs": [],
     "prompt_number": 25
    },
    {
     "cell_type": "code",
     "collapsed": false,
     "input": [
      "#### adding length of request as a feature\n",
      "\n",
      "\n",
      "df['request_text_length'] = df['request_text'].apply(lambda x: len(x))"
     ],
     "language": "python",
     "metadata": {},
     "outputs": [],
     "prompt_number": 26
    },
    {
     "cell_type": "code",
     "collapsed": false,
     "input": [
      "### dropping the 0 length requests, then transforming to log\n",
      "\n",
      "df = df[df['request_text_length'] >0]\n",
      "\n",
      "df['request_text_log_length'] = df['request_text_length'].apply(lambda x: math.log10(x))"
     ],
     "language": "python",
     "metadata": {},
     "outputs": [],
     "prompt_number": 28
    },
    {
     "cell_type": "code",
     "collapsed": false,
     "input": [
      "df.head()"
     ],
     "language": "python",
     "metadata": {},
     "outputs": [
      {
       "output_type": "stream",
       "stream": "stderr",
       "text": [
        "C:\\Python27\\lib\\site-packages\\pandas\\core\\config.py:570: DeprecationWarning: height has been deprecated.\n",
        "\n",
        "  warnings.warn(d.msg, DeprecationWarning)\n",
        "C:\\Python27\\lib\\site-packages\\pandas\\core\\config.py:570: DeprecationWarning: height has been deprecated.\n",
        "\n",
        "  warnings.warn(d.msg, DeprecationWarning)\n",
        "C:\\Python27\\lib\\site-packages\\pandas\\core\\config.py:570: DeprecationWarning: height has been deprecated.\n",
        "\n",
        "  warnings.warn(d.msg, DeprecationWarning)\n"
       ]
      },
      {
       "html": [
        "<pre>\n",
        "&lt;class 'pandas.core.frame.DataFrame'&gt;\n",
        "Int64Index: 5 entries, 0 to 4\n",
        "Data columns (total 34 columns):\n",
        "giver_username_if_known                                 5  non-null values\n",
        "number_of_downvotes_of_request_at_retrieval             5  non-null values\n",
        "number_of_upvotes_of_request_at_retrieval               5  non-null values\n",
        "post_was_edited                                         5  non-null values\n",
        "request_id                                              5  non-null values\n",
        "request_number_of_comments_at_retrieval                 5  non-null values\n",
        "request_text                                            5  non-null values\n",
        "request_text_edit_aware                                 5  non-null values\n",
        "request_title                                           5  non-null values\n",
        "requester_account_age_in_days_at_request                5  non-null values\n",
        "requester_account_age_in_days_at_retrieval              5  non-null values\n",
        "requester_days_since_first_post_on_raop_at_request      5  non-null values\n",
        "requester_days_since_first_post_on_raop_at_retrieval    5  non-null values\n",
        "requester_number_of_comments_at_request                 5  non-null values\n",
        "requester_number_of_comments_at_retrieval               5  non-null values\n",
        "requester_number_of_comments_in_raop_at_request         5  non-null values\n",
        "requester_number_of_comments_in_raop_at_retrieval       5  non-null values\n",
        "requester_number_of_posts_at_request                    5  non-null values\n",
        "requester_number_of_posts_at_retrieval                  5  non-null values\n",
        "requester_number_of_posts_on_raop_at_request            5  non-null values\n",
        "requester_number_of_posts_on_raop_at_retrieval          5  non-null values\n",
        "requester_number_of_subreddits_at_request               5  non-null values\n",
        "requester_received_pizza                                5  non-null values\n",
        "requester_subreddits_at_request                         5  non-null values\n",
        "requester_upvotes_minus_downvotes_at_request            5  non-null values\n",
        "requester_upvotes_minus_downvotes_at_retrieval          5  non-null values\n",
        "requester_upvotes_plus_downvotes_at_request             5  non-null values\n",
        "requester_upvotes_plus_downvotes_at_retrieval           5  non-null values\n",
        "requester_user_flair                                    0  non-null values\n",
        "requester_username                                      5  non-null values\n",
        "unix_timestamp_of_request                               5  non-null values\n",
        "unix_timestamp_of_request_utc                           5  non-null values\n",
        "request_text_length                                     5  non-null values\n",
        "request_text_log_length                                 5  non-null values\n",
        "dtypes: bool(1), float64(5), int64(20), object(8)\n",
        "</pre>"
       ],
       "metadata": {},
       "output_type": "pyout",
       "prompt_number": 29,
       "text": [
        "<class 'pandas.core.frame.DataFrame'>\n",
        "Int64Index: 5 entries, 0 to 4\n",
        "Data columns (total 34 columns):\n",
        "giver_username_if_known                                 5  non-null values\n",
        "number_of_downvotes_of_request_at_retrieval             5  non-null values\n",
        "number_of_upvotes_of_request_at_retrieval               5  non-null values\n",
        "post_was_edited                                         5  non-null values\n",
        "request_id                                              5  non-null values\n",
        "request_number_of_comments_at_retrieval                 5  non-null values\n",
        "request_text                                            5  non-null values\n",
        "request_text_edit_aware                                 5  non-null values\n",
        "request_title                                           5  non-null values\n",
        "requester_account_age_in_days_at_request                5  non-null values\n",
        "requester_account_age_in_days_at_retrieval              5  non-null values\n",
        "requester_days_since_first_post_on_raop_at_request      5  non-null values\n",
        "requester_days_since_first_post_on_raop_at_retrieval    5  non-null values\n",
        "requester_number_of_comments_at_request                 5  non-null values\n",
        "requester_number_of_comments_at_retrieval               5  non-null values\n",
        "requester_number_of_comments_in_raop_at_request         5  non-null values\n",
        "requester_number_of_comments_in_raop_at_retrieval       5  non-null values\n",
        "requester_number_of_posts_at_request                    5  non-null values\n",
        "requester_number_of_posts_at_retrieval                  5  non-null values\n",
        "requester_number_of_posts_on_raop_at_request            5  non-null values\n",
        "requester_number_of_posts_on_raop_at_retrieval          5  non-null values\n",
        "requester_number_of_subreddits_at_request               5  non-null values\n",
        "requester_received_pizza                                5  non-null values\n",
        "requester_subreddits_at_request                         5  non-null values\n",
        "requester_upvotes_minus_downvotes_at_request            5  non-null values\n",
        "requester_upvotes_minus_downvotes_at_retrieval          5  non-null values\n",
        "requester_upvotes_plus_downvotes_at_request             5  non-null values\n",
        "requester_upvotes_plus_downvotes_at_retrieval           5  non-null values\n",
        "requester_user_flair                                    0  non-null values\n",
        "requester_username                                      5  non-null values\n",
        "unix_timestamp_of_request                               5  non-null values\n",
        "unix_timestamp_of_request_utc                           5  non-null values\n",
        "request_text_length                                     5  non-null values\n",
        "request_text_log_length                                 5  non-null values\n",
        "dtypes: bool(1), float64(5), int64(20), object(8)"
       ]
      }
     ],
     "prompt_number": 29
    },
    {
     "cell_type": "code",
     "collapsed": false,
     "input": [],
     "language": "python",
     "metadata": {},
     "outputs": []
    }
   ],
   "metadata": {}
  }
 ]
}